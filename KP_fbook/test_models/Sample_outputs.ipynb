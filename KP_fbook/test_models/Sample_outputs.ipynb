{
 "cells": [
  {
   "cell_type": "markdown",
   "metadata": {},
   "source": [
    "First we'll import the necessary functions "
   ]
  },
  {
   "cell_type": "code",
   "execution_count": 7,
   "metadata": {},
   "outputs": [],
   "source": [
    "#imports and functions\n",
    "import pke\n",
    "import string\n",
    "import pandas as pd\n",
    "import random\n",
    "import matplotlib.pyplot as plt\n",
    "from clean_text import clean \n",
    "import re\n",
    "from nltk import word_tokenize\n",
    "\n",
    "\n",
    "\n",
    "#Function searches keyword list and highlights them in the text\n",
    "from IPython.display import HTML\n",
    "import re\n",
    "\n",
    "def highlight_keywords(text, keywords):\n",
    "    toreplace = \"<b><u>\\g<0></u></b>\"\n",
    "    for word in keywords:\n",
    "        pattern = re.compile(re.escape(word), re.I)\n",
    "        highlighted_txt = re.sub(pattern,toreplace,text)\n",
    "        text = highlighted_txt\n",
    "    return HTML(highlighted_txt)\n",
    "\n",
    "#Function returns keyphrases from tuple output\n",
    "def get_keyphrases(keyphrases_tuples):\n",
    "    output_list = []\n",
    "    for entry in range(len(keyphrases_tuples)):\n",
    "        output_list.append(keyphrases_tuples[entry][0])\n",
    "    return output_list\n",
    "\n",
    "#Function generates highlighted text for all graph methods\n",
    "def generate_all_outputs_tr(text_df, random_indexes):\n",
    "    for number in random_indexes:\n",
    "        print(\"---------------Entry: -----------------\")\n",
    "        text = clean(text_df['threads'][number])\n",
    "        extractor_TR = pke.unsupervised.TextRank()\n",
    "        extractor_TR.load_document(input=text, language='en')\n",
    "        extractor_TR.candidate_selection()\n",
    "        extractor_TR.candidate_weighting()\n",
    "        \n",
    "        if len(text) >= 100:\n",
    "            optimal_keyphrases = int(round(len(text) / 100, 0))\n",
    "        else:\n",
    "            optimal_keyphrases = 1\n",
    "        keyphrases_TR = extractor_TR.get_n_best(n=optimal_keyphrases)\n",
    "\n",
    "        output = get_keyphrases(keyphrases_TR)\n",
    "        display(highlight_keywords(text, output))\n",
    "        print(\"\\n\")\n",
    "\n",
    "\n",
    "def generate_all_outputs_pr(text_df, random_indexes):\n",
    "    for number in random_indexes:\n",
    "        print(\"---------------Entry: -----------------\")\n",
    "        text = clean(text_df['threads'][number])\n",
    "        extractor_TR = pke.unsupervised.PositionRank()\n",
    "        extractor_TR.load_document(input=text, language='en')\n",
    "        extractor_TR.candidate_selection()\n",
    "        extractor_TR.candidate_weighting()\n",
    "        if len(text) >= 100:\n",
    "            optimal_keyphrases = int(round(len(text) / 100, 0))\n",
    "        else:\n",
    "            optimal_keyphrases = 1\n",
    "        keyphrases_TR = extractor_TR.get_n_best(n=optimal_keyphrases)\n",
    "        output = get_keyphrases(keyphrases_TR)\n",
    "        display(highlight_keywords(text, output))\n",
    "        print(\"\\n\")\n",
    "\n",
    "def generate_all_outputs_topicRank(text_df, random_indexes):\n",
    "    for number in random_indexes:\n",
    "        print(\"---------------Entry: -----------------\")\n",
    "        text = clean(text_df['threads'][number])\n",
    "        extractor_TR = pke.unsupervised.TopicRank()\n",
    "        extractor_TR.load_document(input=text, language='en')\n",
    "        extractor_TR.candidate_selection()\n",
    "        extractor_TR.candidate_weighting()\n",
    "        if len(text) >= 100:\n",
    "            optimal_keyphrases = int(round(len(text) / 100, 0))\n",
    "        else:\n",
    "            optimal_keyphrases = 1\n",
    "        keyphrases_TR = extractor_TR.get_n_best(n=optimal_keyphrases)\n",
    "        output = get_keyphrases(keyphrases_TR)\n",
    "        display(highlight_keywords(text, output))\n",
    "        print(\"\\n\")\n",
    "\n",
    "\n",
    "def generate_all_outputs_mr(text_df, random_indexes):\n",
    "    for number in random_indexes:\n",
    "        print(\"---------------Entry: -----------------\")\n",
    "        text = clean(text_df['threads'][number])\n",
    "        extractor_TR = pke.unsupervised.MultipartiteRank()\n",
    "        extractor_TR.load_document(input=text, language='en')\n",
    "        extractor_TR.candidate_selection()\n",
    "        extractor_TR.candidate_weighting()\n",
    "        if len(text) >= 100:\n",
    "            optimal_keyphrases = int(round(len(text) / 100, 0))\n",
    "        else:\n",
    "            optimal_keyphrases = 1\n",
    "        keyphrases_TR = extractor_TR.get_n_best(n=optimal_keyphrases)\n",
    "        output = get_keyphrases(keyphrases_TR)\n",
    "        display(highlight_keywords(text, output))\n",
    "        print(\"\\n\")\n",
    "\n",
    "\n",
    "\n",
    "\n",
    "\n",
    "\n",
    "\n",
    "        \n",
    "#Fixes issues with formatting\n",
    "def Convert(string): \n",
    "    try:\n",
    "        li = list(string.split(\", \"))\n",
    "    except:\n",
    "        li = \"\"\n",
    "    return li \n",
    "        \n",
    "\n",
    "#Evaluation\n",
    "def exact_get_scores(keyphrases, ngsl_output, tsl_output):\n",
    "    # tokenize keyphrases to split up multi-words?\n",
    "    keyphrases = word_tokenize(\" \".join(keyphrases))\n",
    "   # print(\"HERE\", keyphrases)\n",
    "\n",
    "  \n",
    "    ngsl_score = len(set(keyphrases).intersection(\n",
    "        ngsl_output)) / len(ngsl_output)\n",
    "    if len(tsl_output) > 0:\n",
    "        tsl_score = len(set(keyphrases).intersection(\n",
    "            tsl_output)) / len(tsl_output)\n",
    "    else:\n",
    "        tsl_score = 1\n",
    "    print('ngsl: {} out of {}'.format(len(set(keyphrases).intersection(\n",
    "        ngsl_output)), len(ngsl_output)))\n",
    "    print('tsl: {} out of {} \\n'.format(len(set(keyphrases).intersection(\n",
    "            tsl_output)), len(tsl_output)))\n",
    "    print('ngsl accuracy: {}% \\ntsl accuracy: {}%'.format(round(ngsl_score*100,2), round(tsl_score*100, 2)))\n",
    "    \n",
    "\n",
    "def get_recall(keyphrases, ngsl_output, tsl_output):\n",
    "    keyphrases = word_tokenize(\" \".join(keyphrases))\n",
    "\n",
    "    ngsl_tp = len(set(keyphrases).intersection(\n",
    "        ngsl_output))\n",
    "\n",
    "    ngsl_fn = len([word for word in ngsl_output if word not in keyphrases])\n",
    "    try:\n",
    "        ngsl_recall = round((ngsl_tp / (ngsl_fn + ngsl_tp))*100, 2)\n",
    "    except:\n",
    "        ngsl_recall = math.nan\n",
    "\n",
    "    tsl_tp = len(set(keyphrases).intersection(\n",
    "        tsl_output))\n",
    "\n",
    "    #Get keyphrases from graph output that were not in the tsl_outputs\n",
    "    #That means, since the tsl_output is based on text, that it should have been selected as a keyphrase\n",
    "    tsl_fn = len([word for word in tsl_output if word not in keyphrases])\n",
    "\n",
    "    try:\n",
    "        tsl_recall = round((tsl_tp / (tsl_fn + tsl_tp))*100, 2)\n",
    "    except:\n",
    "        tsl_recall = math.nan\n",
    "\n",
    "    print('ngsl recall: {}% \\ntsl recall: {}%\\n'.format(\n",
    "        ngsl_recall, tsl_recall))\n",
    "\n",
    "    return ngsl_recall, tsl_recall"
   ]
  },
  {
   "cell_type": "markdown",
   "metadata": {},
   "source": [
    "Then we'll load up our dataset. For simplicity, I randomly select 5 threads and change the index variable to cycle through them. Note that as of now, I have not concentated the post to the threads but I think moving forward it will be something I'll do"
   ]
  },
  {
   "cell_type": "code",
   "execution_count": 8,
   "metadata": {},
   "outputs": [],
   "source": [
    "#Read dataset and generate 5 random samples\n",
    "text_df = pd.read_csv(\"../Data/sample_data.csv\", encoding=\"utf-8\")\n",
    "random.seed(56)\n",
    "random_indexes = random.sample(range(0, len(text_df)), 5)"
   ]
  },
  {
   "cell_type": "code",
   "execution_count": 9,
   "metadata": {},
   "outputs": [],
   "source": [
    "index = 4"
   ]
  },
  {
   "cell_type": "markdown",
   "metadata": {},
   "source": [
    "Minor cleaning of text such as removing urls, emoji's and white spaces. There are a couple of issues that need to fix. \n",
    "\n",
    "<ol> \n",
    "    <li> The regular expression for the urls does not always work </li>\n",
    "    <li> I currently don't do any 'correcting' of misspellings. This includes both grammatical and structural ones such as <b>two words stuck together </b> </li>\n",
    "    <li> A major one: I don't clean the text before labeling the data which skews the results </li>\n",
    "    <li> I have not done any filtering of the dataset I'm using. This means that there are spanish posts and very sparse entries present (example: 1-4 words only) </li>\n",
    "</ol>\n",
    "\n",
    "Also note, the removal of stopwords is done during the candidate selection phase of the graph algorithm\n"
   ]
  },
  {
   "cell_type": "code",
   "execution_count": 17,
   "metadata": {},
   "outputs": [],
   "source": [
    "\n",
    "def clean(text):\n",
    "    \n",
    "    # remove see more\n",
    "    text = re.sub(r' ?\\w*?[…]see more.', '', text, flags=re.I)\n",
    "    \n",
    "    # remove urls\n",
    "    text = re.sub(r'^http?://.*[rn]*|www.\\S+', '', text, flags=re.MULTILINE)\n",
    "\n",
    "    # remove emojis\n",
    "    text = remove_emoji(text)\n",
    "\n",
    "    # remove special characters\n",
    "    text = remove_special_characters(text\n",
    "                                     )\n",
    "\n",
    "\n",
    "    # all lower case\n",
    "    text = \"\".join([w.lower() for w in text])\n",
    "    \n",
    "\n",
    "    # remove extra newlines\n",
    "    text = re.sub(r'[\\r|\\n|\\r\\n]+', ' ', text)\n",
    "\n",
    "    # remove extra whitespace\n",
    "    text = re.sub(' +', ' ', text)\n",
    "\n",
    "    return text\n",
    "\n",
    "# From https://gist.github.com/slowkow/7a7f61f495e3dbb7e3d767f97bd7304b\n",
    "\n",
    "\n",
    "def remove_emoji(string):\n",
    "    emoji_pattern = re.compile(\"[\"\n",
    "                               u\"\\U0001F600-\\U0001F64F\"  # emoticons\n",
    "                               u\"\\U0001F300-\\U0001F5FF\"  # symbols & pictographs\n",
    "                               u\"\\U0001F680-\\U0001F6FF\"  # transport & map symbols\n",
    "                               u\"\\U0001F1E0-\\U0001F1FF\"  # flags (iOS)\n",
    "                               u\"\\U00002500-\\U00002BEF\"  # chinese char\n",
    "                               u\"\\U00002702-\\U000027B0\"\n",
    "                               u\"\\U00002702-\\U000027B0\"\n",
    "                               u\"\\U000024C2-\\U0001F251\"\n",
    "                               u\"\\U0001f926-\\U0001f937\"\n",
    "                               u\"\\U00010000-\\U0010ffff\"\n",
    "                               u\"\\u2640-\\u2642\"\n",
    "                               u\"\\u2600-\\u2B55\"\n",
    "                               u\"\\u200d\"\n",
    "                               u\"\\u23cf\"\n",
    "                               u\"\\u23e9\"\n",
    "                               u\"\\u231a\"\n",
    "                               u\"\\ufe0f\"  # dingbats\n",
    "                               u\"\\u3030\"\n",
    "                               \"]+\", flags=re.UNICODE)\n",
    "    return emoji_pattern.sub(r'', string)\n",
    "\n",
    "\n",
    "# from https://towardsdatascience.com/a-practitioners-guide-to-natural-language-processing-part-i-processing-understanding-text-9f4abfd13e72\n",
    "def remove_special_characters(text, remove_digits=False):\n",
    "    pattern = r'[^a-zA-z0-9\\s]' if not remove_digits else r'[^a-zA-z\\s]'\n",
    "    text = re.sub(pattern, '', text)\n",
    "    return text\n",
    "\n"
   ]
  },
  {
   "cell_type": "code",
   "execution_count": 18,
   "metadata": {},
   "outputs": [],
   "source": [
    "text = clean(text_df['threads'][random_indexes[index]])"
   ]
  },
  {
   "cell_type": "code",
   "execution_count": 19,
   "metadata": {},
   "outputs": [
    {
     "data": {
      "text/plain": [
       "'i remember my first student evaluations 1 more short skirts 2 your hair looks so much better down 3 the psych building is too far away from my dorm room i decided at this point that student evaluations are not the definitive critique of my teaching kristy m keefe my first semester teaching i got two comments saying to wear less clothes as a new instructor this was not what i was expecting and not helpful in how i could improve as an educator sadly this may have been the first time i received comments about my appearance but it was not the last ugh thats sexual harassment i got one saying someone should make a calendar with pictures of my sexy butt literally kristy m keefe i had the opposite for the hair my hair is long and i always wear it down student said that i either needed to cut my hair or wear it in a bun because long hair is unprofessional students will reach for anything when they want to be negative one time a student asked me a question about the midterm and i said i hadnt finished it yet they mentioned that in my rmp rating lol like they never procrastinate amanda carroll were you tempted to clap back with do you mean fewer these sites are just nonsense appalling levels of sexual harassment and not just against women ive known male teachers have similarly inappropriate comments posted kristy m keefe for sure amanda greubel nope i have also had some wonderfully thoughtful comments about my courses ill take the bad with the good angry people en route joshua shinn how dare youim not angry i just hate to disappoint anyone being a good prof doesnt hurt either michael w hitch i had this one professor back in my college days that was without a doubt the best professor i ever had his rmp ratings were trashed because he wasnt an easy a a lot of us couldnt believe it because we loved him and he asked if michael w hitch dude it doesnt matter for some of us christ being a good professor has nothing to do with good evaluations and i would go so far to say that the effective professor does not get good reviews do be glib though woosh my teaching reviews like my article reviews fell neatly into thirds one third fantastic no improvement needed one third ok but one third who let this idiot leave his village i suffered a bit because my undergrad subject was a demanding the person paying for the service should be the one to decide how that service should be evaluatedif they want to judge it on financial merit or educational merit or social merit its up to them stephen cooper setting aside the sneer in your comment my point was of course that the principle of having ones teaching evaluated is fine but the execution ends up failing its purpose i doubt that such evaluations are even a good test of the my favorite criticism from a student on rmp every other professor wants you to succeed she only cares about how much you learn the rest of the review made clear that success was just about a specific letter gradestudent evals usually tell us more about students than about teachers my favorite criticism on a student eval she doesnt teach us the content she expects us to learn it ourselves apparently the fact that i dont lecture from the text and expect them to come to class having done the reading and prepared to engage in discussion and activities isnt good teaching _ no kiddinyou mean a popularity contest turns out to be like a popularity contest ill be damned youre not wrong tenure attractive any day promote these large nostrils and heavy baggaged eyes please i wont lie the chili peppers are from my nephews should i remind that correlation does not mean causation innokenty kantor you seem to assume that universities hire more poorly qualified nonwhite nonmales over better qualified white males whereas in reality the whole point of diversity practices in hiring is to mitigate bias against people who are innokenty kantor thanks for explaining my comment for me yes because being male or white has never been shown to be the direct cause of very tangible privileges the way some of you do mental gimnastics to avoid having to face bias jacq jones not at all i think it is the opposite those who think that any disproportion is a result of bias or discrimination are just burying their heads in sand because they dont like the implications ransell dsouza he was trying to write of course in his comment over and over again but it kept coming out as of cause notice he also replaced the word hire with high its probably a combination of using autocorrect and a complete lack of proof innokenty kantor unless you are already hiring inferior candidates who happen to fit your bias eg white men in which case expanded the range of people you consider will enhance the quality of your hires whats of cause innokenty kantor yes its nice apologies for not getting reference id love to see this extended to include racial bias because sadly i think this would be even more pronounced and the weighting often put on these for tenure is problematic at best innokenty kantor there seems to be a strong correlation that white men dont believe academia is sexist and racist backed up by several studies seems to point to a causality of their fear of losing status in a field biased towards them the most laughable part is the assumption that universities hire the best candidate rather than the one that most closely matches their existing culture which is really just code for biases towards wht they think ideal candidates are like and the issues with the methodology but not news i dont even look anymore you must not be an adjunct i dont want to look but have to submit them for the ten jobs i apply to every year well i get three out of four thats how i do it wait there are adults who actually care about whats written on ratemyprofessor no of you should ever under any circumstances read rate my professor no good comes of it and i firmly believe there should be a rate my student site mirrors typical life i dont bother with the actual university evaluations let alone this garbage ditto especially after reading a rape fantasy i hope you reported that bob borrelli why so they can all laugh about it pick up lines graphic sexual fantasies sexual assault and notes like pretty sure i found your house were totally ignored tashana this kind of stuff always makes me think of you you brought it to our attention years ago white yes male no tenured hahaha attractive um brenna e culbert my favorite comment on rmp was she has a lot of patience even with the stupid question people amanda evert they repeated your study sarina kilham thanks adding it to my stockpile of evidence hadil ghoneim here you go im attractive though white yes male yes tenured no attractive not really my rmp ratings still suck although i have a few good ones jess moore the most frequent descriptor people use for me is boring that one cuts me to my soul im fun brian paul i agree and my ratings are largely good and even the negative ones are worthwhile brian paul i just got a bad review for giving too much work for a minimester class im not even sure how to take that am i supposed to assign less work during a minimester i was told youre supposed to offer the same amount as a regular semester but now i wonder about that aurora le well shit ami sedani new study more like duh lol lisa parker lebovitz daniel malcom thanks ive got to get back to the data i think we can refute this maybe the young white male faculty arent as attractive to students in pharmacy as in humanities francesca bosisio my favourite bit of feedback received from a student who scored my course a 0please can there be better references not of those written ages ago when they used sophisticated wordscause who comes to university to learn sophisticated words lets harry green brilliant bob borrelli yeah fuck that guy and his sophisticated words d who literally invented meteorology hey can you link the math paper using emoji that would be awesome and id like to read itthis is a good one about emoji but its not written in it though it has some examples of retelling https well i am an unattractive white female and get great reviews and teach a subject that is considered hard perhaps it would be profitable to spend some time studying statistics you fulfill one of the categories then goodforyou i see you dont understand how studies work a study never reports that in 100 of cases this happens and in 0 of cases this happened if that were true providing one contrary story would be enough to destroy the findings of the studystudies look at the way things tend to be maybe people who fulfill certain criteria are more likely to get positive reviews but its not a guarantee one way or the other still funny race and gender are less important than attractiveness student interest and discipline but the first two features in the headline is white and male stop contradicting the facts with your divisive ideology juan trucupey cool story bro catherine glass its easy to laugh when youre the beneficiary juan trucupey thats not contradicting facts its emphasising some things that the study found more than others but i bet the standard of attractiveness and gender interact as well juan yes its all propaganda its not like theyre just pointing out the most interesting conclusions of the study rather than the obvious ones student interest in the subject influences professor ratings really juan trucupey youre the one who is claiming that it is sexist against males to imply that gender affects ratings before listing a students interest in the subject matter i never said that so your complaint that im contradicting myself is wrong propaganda lol i literally have had female students look for profs who are called a bitch it apparently means something different to people good to know those students just graduating with phds now one went to georgetown another is a teacher matthew lucky 34 aint bad '"
      ]
     },
     "execution_count": 19,
     "metadata": {},
     "output_type": "execute_result"
    }
   ],
   "source": [
    "text"
   ]
  },
  {
   "cell_type": "markdown",
   "metadata": {},
   "source": [
    "For this demonstration I'll show textRank and TopicRank. Note for choosing the number of keyphrases to generate, I went with returning 2.5% of the total characters (or just 1 if not large enough). Upon closer examination, I think that this should definitely <b>be increased </b>. There is existing literature that comments on this which I will consult as an appriopate start, but it is something to play around with"
   ]
  },
  {
   "cell_type": "code",
   "execution_count": 8,
   "metadata": {},
   "outputs": [],
   "source": [
    "extractor = pke.unsupervised.TextRank()\n",
    "extractor.load_document(input=text, language='en')\n",
    "extractor.candidate_selection()\n",
    "extractor.candidate_weighting()\n",
    "\n",
    "if len(text) >= 100:\n",
    "    optimal_keyphrases = int(round(len(text) / 100, 0))\n",
    "else:\n",
    "    optimal_keyphrases = 1\n",
    "\n",
    "keyphrases = extractor.get_n_best(n=optimal_keyphrases) "
   ]
  },
  {
   "cell_type": "code",
   "execution_count": 9,
   "metadata": {},
   "outputs": [
    {
     "data": {
      "text/plain": [
       "[('divisive ideology juan trucupey cool story bro catherine glass',\n",
       "  0.03766659047826),\n",
       " ('usee more harry green brilliant bob borrelli', 0.035433624229812784),\n",
       " ('lines graphic sexual fantasies sexual assault', 0.030506592066616864),\n",
       " ('lol lisa parker lebovitz daniel malcom thanks', 0.027250913004578662),\n",
       " ('better qualified white males', 0.02700476851371925),\n",
       " ('obvious ones student interest', 0.025980624888498692),\n",
       " ('good angry people', 0.025759594202689286),\n",
       " ('stupid question people amanda evert', 0.02552002577453611),\n",
       " ('first student evaluations', 0.025221561259155284),\n",
       " ('good reviews', 0.02478698536567541),\n",
       " ('wrong isee more propaganda', 0.024130483469775567),\n",
       " ('bias eg white men', 0.02349773129165103),\n",
       " ('few good ones', 0.022953466317944166),\n",
       " ('good professor', 0.02285878365793789),\n",
       " ('good teaching _', 0.022848112780077378),\n",
       " ('people good', 0.022560420304301276),\n",
       " ('shit ami sedani new study', 0.022366715454889247),\n",
       " ('young white male faculty', 0.02155580536005585),\n",
       " ('good evaluations', 0.02107550889988931),\n",
       " ('more stephen cooper', 0.021052937722665543),\n",
       " ('more short skirts', 0.021048207722665545),\n",
       " ('attractiveness student interest', 0.021001648591253218),\n",
       " ('student evaluations', 0.020311049186401416),\n",
       " ('dsee more issues', 0.01883835772365544),\n",
       " ('study sarina kilham thanks', 0.018023317147191874),\n",
       " ('students interest', 0.017668503427868576),\n",
       " ('student eval', 0.017512679395445638),\n",
       " ('female students', 0.017235973400474967),\n",
       " ('unattractive white female', 0.017206131239544047),\n",
       " ('good test', 0.01657686260635471),\n",
       " ('good prof', 0.016574592606354712),\n",
       " ('teaching reviews', 0.016203509457654763),\n",
       " ('first semester teaching', 0.016157413125202243),\n",
       " ('student site', 0.01585533079349209),\n",
       " ('unprofessional students', 0.015845870793492086),\n",
       " ('michael w hitch dude', 0.015329163470253034),\n",
       " ('more', 0.014785102628757653),\n",
       " ('good', 0.014760361375823046),\n",
       " ('specific letter gradestudent evals', 0.014116564030619115),\n",
       " ('student', 0.013989781662335152),\n",
       " ('white men', 0.013970679501404227),\n",
       " ('frequent descriptor people', 0.013819453662338525),\n",
       " ('sure amanda greubel', 0.013770127676011122),\n",
       " ('professor ratings', 0.01333891577231948),\n",
       " ('best professor', 0.01308005790119272),\n",
       " ('worthwhile brian paul', 0.012827734664561209),\n",
       " ('fun brian paul', 0.012827564664561208),\n",
       " ('michael w hitch', 0.012640137774118333),\n",
       " ('bias jacq jones', 0.012591440727015702),\n",
       " ('beneficiary juan trucupey', 0.012336124250354005),\n",
       " ('actual university evaluations', 0.012330653914583645),\n",
       " ('innokenty kantor thanks', 0.012172421655320348),\n",
       " ('white', 0.01202007044290361),\n",
       " ('best innokenty kantor', 0.01199987871255706),\n",
       " ('positive reviews', 0.011986004942467092),\n",
       " ('great reviews', 0.011985074942467092),\n",
       " ('bad review', 0.011982954942467093),\n",
       " ('article reviews', 0.011973884942467093),\n",
       " ('qualified nonwhite nonmales', 0.011828970429563787),\n",
       " ('amanda carroll', 0.011703212112197586),\n",
       " ('favorite comment', 0.011622407534859101),\n",
       " ('humanities francesca bosisio', 0.011508337602689775),\n",
       " ('evidence hadil ghoneim', 0.011506577602689775),\n",
       " ('brenna e culbert', 0.011506217602689776),\n",
       " ('heavy baggaged eyes', 0.011500837602689776),\n",
       " ('route joshua shinn', 0.011496997602689777),\n",
       " ('nonsense appalling levels', 0.011496497602689776),\n",
       " ('kristy m keefe', 0.011494697602689776),\n",
       " ('best candidate', 0.010924421288112699),\n",
       " ('rmp rating lol', 0.010924151568146617),\n",
       " ('sexual harassment', 0.010790210659150428),\n",
       " ('teacher matthew lucky', 0.010739802838507326),\n",
       " ('tenured hahaha attractive', 0.010541676264422963),\n",
       " ('social merit', 0.010308475858869383),\n",
       " ('educational merit', 0.010308445858869383),\n",
       " ('financial merit', 0.010308415858869383),\n",
       " ('juan trucupey', 0.010048653574121843),\n",
       " ('review', 0.010039223989852367),\n",
       " ('other professor', 0.010036296117217633),\n",
       " ('effective professor', 0.010034816117217633),\n",
       " ('less work', 0.009962022077983633),\n",
       " ('thoughtful comments', 0.009478125043243107),\n",
       " ('inappropriate comments', 0.009477955043243107),\n",
       " ('male teachers', 0.009406873076640532),\n",
       " ('subject matter', 0.008670872031530092),\n",
       " ('sophisticated words', 0.008667682031530092),\n",
       " ('sophisticated wordscause', 0.008667602031530091),\n",
       " ('cause notice', 0.008661452031530091),\n",
       " ('direct cause', 0.008660642031530092),\n",
       " ('undergrad subject', 0.008657522031530092),\n",
       " ('negative ones', 0.008325491460630116),\n",
       " ('such evaluations', 0.008271952850285641),\n",
       " ('contrary story', 0.00823176191805626),\n",
       " ('racial bias', 0.008163119183263923),\n",
       " ('ideal candidates', 0.008117660502788226),\n",
       " ('inferior candidates', 0.008116120502788225),\n",
       " ('professor', 0.008108792282114844),\n",
       " ('new instructor', 0.008050809174441249),\n",
       " ('people', 0.007800148928478231),\n",
       " ('several studies', 0.007776668546094359)]"
      ]
     },
     "execution_count": 9,
     "metadata": {},
     "output_type": "execute_result"
    }
   ],
   "source": [
    "keyphrases"
   ]
  },
  {
   "cell_type": "markdown",
   "metadata": {},
   "source": [
    "Here is the output with the extracted keyphrases underlined. This method is not perfect as it will highlight text that does not 100% match the keyphrase, but it is sufficent for now. As demonstrated by the output, extracting 1% of keyphrases relative to the size of the text is may be too much, but this is not conclusive\n",
    "\n",
    "One main issue I have with this implementation of TextRank is that the number of words for a keyphrase tends to be on the longer side. I'm not sure if this can be adjusted but for our implementation I think we'd liked to stick mostly around 1-2 words with occasional 3 word keyphrases and a rare 4 word keyphrases.\n"
   ]
  },
  {
   "cell_type": "code",
   "execution_count": 10,
   "metadata": {
    "scrolled": true
   },
   "outputs": [
    {
     "data": {
      "text/html": [
       "i remember my <b><u>first <b><u><b><u><b><u>student</u></b> eval</u></b>uations</u></b></u></b> 1 <b><u><b><u>more</u></b> short skirts</u></b> 2 your hair looks so much better down 3 the psych building is too far away from my dorm room i decided at this point that <b><u><b><u><b><u>student</u></b> eval</u></b>uations</u></b> are not the definitive critique of my teaching see <b><u>more</u></b> <b><u>kristy m keefe</u></b> my <b><u>first semester teaching</u></b> i got two comments saying to wear less clothes as a <b><u>new instructor</u></b> this was not what i was expecting and not helpful in how i could improve as an educator sadly this may have been the first time i received comments about my appearance but it was not the last ugh thats <b><u>sexual harassment</u></b> i got one saying someone should make a calendar with pictures of my sexy butt literally <b><u>kristy m keefe</u></b> i had the opposite for the hair my hair is long and i always wear it down <b><u>student</u></b> said that i either needed to cut my hair or wear it in a bun because long hair is <b><u>unprofessional <b><u>student</u></b>s</u></b> will reach for anything when they want to be negative one time a <b><u>student</u></b> asked me a question about the midterm and i said i hadnt finished it yet they mentioned that in my <b><u>rmp rating lol</u></b> like they never procrastinate <b><u>amanda carroll</u></b> were you tempted to clap back with do you mean fewer these sites are just <b><u>nonsense appalling levels</u></b> of <b><u>sexual harassment</u></b> and not just against women ive known <b><u>male teachers</u></b> have similarly <b><u>inappropriate comments</u></b> posted <b><u>kristy m keefe</u></b> for <b><u>sure amanda greubel</u></b> nope i have also had some wonderfully <b><u>thoughtful comments</u></b> about my courses ill take the bad with the <b><u><b><u>good</u></b> angry <b><u>people</u></b></u></b> en <b><u>route joshua shinn</u></b> how dare youim not angry i just hate to disappoint anyone being a <b><u><b><u>good</u></b> prof</u></b> doesnt hurt either <b><u>michael w hitch</u></b> i had this one <b><u>professor</u></b> back in my college days that was without a doubt the <b><u>best <b><u>professor</u></b></u></b> i ever had his rmp ratings were trashed because he wasnt an easy a a lot of us couldnt believe it because we loved him and he asked if wsee <b><u>more</u></b> <b><u><b><u>michael w hitch</u></b> dude</u></b> it doesnt matter for some of us christ being a <b><u><b><u><b><u>good</u></b> prof</u></b>essor</u></b> has nothing to do with <b><u><b><u>good</u></b> evaluations</u></b> and i would go so far to say that the <b><u>effective <b><u>professor</u></b></u></b> does not get <b><u><b><u>good</u></b> <b><u>review</u></b>s</u></b> do be glib though woosh my <b><u>teaching <b><u>review</u></b>s</u></b> like my <b><u>article <b><u>review</u></b>s</u></b> fell neatly into thirds one third fantastic no improvement needed one third ok but one third who let this idiot leave his village i suffered a bit because my <b><u>undergrad subject</u></b> was a demanding see <b><u>more</u></b> the person paying for the service should be the one to decide how that service should be evaluatedif they want to judge it on <b><u>financial merit</u></b> or <b><u>educational merit</u></b> or <b><u>social merit</u></b> its up to them see <b><u><b><u>more</u></b> stephen cooper</u></b> setting aside the sneer in your comment my point was of course that the principle of having ones teaching evaluated is fine but the execution ends up failing its purpose i doubt that <b><u>such evaluations</u></b> are even a <b><u><b><u>good</u></b> test</u></b> of the studsee <b><u>more</u></b> my favorite criticism from a <b><u>student</u></b> on rmp every <b><u>other <b><u>professor</u></b></u></b> wants you to succeed she only cares about how much you learn the rest of the <b><u>review</u></b> made clear that success was just about a specific letter grade<b><u><b><u>student</u></b> eval</u></b>s usually tell us <b><u>more</u></b> about <b><u>student</u></b>s than about teachers my favorite criticism on a <b><u><b><u>student</u></b> eval</u></b> she doesnt teach us the content she expects us to learn it ourselves apparently the fact that i dont lecture from the text and expect them to come to class having done the reading and prepared to engage in discussion and activities isnt <b><u><b><u>good</u></b> teaching _</u></b> no kiddinyou mean a popularity contest turns out to be like a popularity contest ill be damned youre not wrong tenure attractive any day promote these large nostrils and <b><u>heavy baggaged eyes</u></b> please i wont lie the chili peppers are from my nephews should i remind that correlation does not mean causation innokenty kantor you seem to assume that universities hire <b><u>more</u></b> poorly qualified non<b><u>white</u></b> nonmales over <b><u>better qualified <b><u>white</u></b> males</u></b> whereas in reality the whole point of diversity practices in hiring is to mitigate bias against <b><u>people</u></b> who are <b><u>more</u></b>see <b><u>more</u></b> <b><u>innokenty kantor thanks</u></b> for explaining my comment for me yes because being male or <b><u>white</u></b> has never been shown to be the <b><u>direct cause</u></b> of very tangible privileges the way some of you do mental gimnastics to avoid having to face <b><u>bias jacq jones</u></b> not at all i think it is the opposite those who think that any disproportion is a result of bias or discrimination are just burying their heads in sand because they dont like the implications ransell dsouza he was trying to write of course in his comment over and over again but it kept coming out as of <b><u>cause notice</u></b> he also replaced the word hire with high its probably a combination of using autocorrect and a complete lack of proof innokenty kantor unless you are already hiring <b><u>inferior candidates</u></b> who happen to fit your <b><u>bias eg <b><u><b><u>white</u></b> men</u></b></u></b> in which case expanded the range of <b><u>people</u></b> you consider will enhance the quality of your hires whats of cause innokenty kantor yes its nice apologies for not getting reference id love to see this extended to include <b><u>racial bias</u></b> because sadly i think this would be even <b><u>more</u></b> pronounced and the weighting often put on these for tenure is problematic at <b><u>best innokenty kantor</u></b> there seems to be a strong correlation that <b><u><b><u>white</u></b> men</u></b> dont believe academia is sexist and racist backed up by <b><u>several studies</u></b> seems to point to a causality of their fear of losing status in a field biased towards them the most laughable part is the assumption that universities hire the <b><u>best candidate</u></b> rather than the one that most closely matches their existing culture which is really just code for biases towards wht they think <b><u>ideal candidates</u></b> are like and the <b><u>dsee <b><u>more</u></b> issues</u></b> with the methodology but not news i dont even look any<b><u>more</u></b> you must not be an adjunct i dont want to look but have to submit them for the ten jobs i apply to every year well i get three out of four thats how i do it wait there are adults who actually care about whats written on ratemy<b><u>professor</u></b> no of you should ever under any circumstances read rate my <b><u>professor</u></b> no <b><u>good</u></b> comes of it and i firmly believe there should be a rate my <b><u><b><u>student</u></b> site</u></b> mirrors typical life i dont bother with the <b><u>actual university evaluations</u></b> let alone this garbage ditto especially after reading a rape fantasy i hope you reported that bob borrelli why so they can all laugh about it pick up <b><u>lines graphic sexual fantasies sexual assault</u></b> and notes like pretty sure i found your house were totally ignored tashana this kind of stuff always makes me think of you you brought it to our attention years ago <b><u>white</u></b> yes male no <b><u>tenured hahaha attractive</u></b> um <b><u>brenna e culbert</u></b> my <b><u>favorite comment</u></b> on rmp was she has a lot of patience even with the <b><u>stupid question <b><u>people</u></b> amanda evert</u></b> they repeated your <b><u>study sarina kilham thanks</u></b> adding it to my stockpile of <b><u>evidence hadil ghoneim</u></b> here you go im attractive though <b><u>white</u></b> yes male yes tenured no attractive not really my rmp ratings still suck although i have a <b><u>few <b><u>good</u></b> ones</u></b> jess moore the most <b><u>frequent descriptor <b><u>people</u></b></u></b> use for me is boring that one cuts me to my soul im <b><u>fun brian paul</u></b> i agree and my ratings are largely <b><u>good</u></b> and even the <b><u>negative ones</u></b> are <b><u>worthwhile brian paul</u></b> i just got a <b><u>bad <b><u>review</u></b></u></b> for giving too much work for a minimester class im not even sure how to take that am i supposed to assign <b><u>less work</u></b> during a minimester i was told youre supposed to offer the same amount as a regular semester but now i wonder about that aurora le well <b><u>shit ami sedani new study</u></b> <b><u>more</u></b> like duh <b><u>lol lisa parker lebovitz daniel malcom thanks</u></b> ive got to get back to the data i think we can refute this maybe the <b><u>young <b><u>white</u></b> male faculty</u></b> arent as attractive to <b><u>student</u></b>s in pharmacy as in <b><u>humanities francesca bosisio</u></b> my favourite bit of feedback received from a <b><u>student</u></b> who scored my course a 0please can there be better references not of those written ages ago when they used <b><u>sophisticated words</u></b>cause who comes to university to learn <b><u>sophisticated words</u></b> lets <b><u>usee <b><u>more</u></b> harry green brilliant bob borrelli</u></b> yeah fuck that guy and his <b><u>sophisticated words</u></b> d who literally invented meteorology hey can you link the math paper using emoji that would be awesome and id like to read itthis is a <b><u>good</u></b> one about emoji but its not written in it though it has some examples of retelling https well i am an <b><u>unattractive <b><u>white</u></b> female</u></b> and get <b><u>great <b><u>review</u></b>s</u></b> and teach a subject that is considered hard perhaps it would be profitable to spend some time studying statistics you fulfill one of the categories then <b><u>good</u></b>foryou i see you dont understand how studies work a study never reports that in 100 of cases this happens and in 0 of cases this happened if that were true providing one <b><u>contrary story</u></b> would be enough to destroy the findings of the studystudies look at the way things tend to be maybe <b><u>people</u></b> who fulfill certain criteria are <b><u>more</u></b> likely to get <b><u>positive <b><u>review</u></b>s</u></b> but its not a guarantee one way or the other still funny race and gender are less important than <b><u>attractiveness <b><u>student</u></b> interest</u></b> and discipline but the first two features in the headline is <b><u>white</u></b> and male stop contradicting the facts with your <b><u>divisive ideology <b><u>juan trucupey</u></b> cool story bro catherine glass</u></b> its easy to laugh when youre the <b><u>beneficiary <b><u>juan trucupey</u></b></u></b> thats not contradicting facts its emphasising some things that the study found <b><u>more</u></b> than others but i bet the standard of attractiveness and gender interact as well juan yes its all propaganda its not like theyre just pointing out the most interesting conclusions of the study rather than the <b><u>obvious ones <b><u>student</u></b> interest</u></b> in the subject influences <b><u><b><u>professor</u></b> ratings</u></b> really <b><u>juan trucupey</u></b> youre the one who is claiming that it is sexist against males to imply that gender affects ratings before listing a <b><u><b><u>student</u></b>s interest</u></b> in the <b><u>subject matter</u></b> i never said that so your complaint that im contradicting myself is <b><u>wrong isee <b><u>more</u></b> propaganda</u></b> lol i literally have had <b><u>female <b><u>student</u></b>s</u></b> look for profs who are called a bitch it apparently means something different to <b><u><b><u>people</u></b> <b><u>good</u></b></u></b> to know those <b><u>student</u></b>s just graduating with phds now one went to georgetown another is a <b><u>teacher matthew lucky</u></b> 34 aint bad "
      ],
      "text/plain": [
       "<IPython.core.display.HTML object>"
      ]
     },
     "execution_count": 10,
     "metadata": {},
     "output_type": "execute_result"
    }
   ],
   "source": [
    "output = get_keyphrases(keyphrases)\n",
    "highlight_keywords(text, output)"
   ]
  },
  {
   "cell_type": "markdown",
   "metadata": {},
   "source": [
    "ngsl = new general service list. The purpose of this word list was to gather 2,800 most important words in english which is determined by their frequency in text. This particular word list is an update to the original gsl published in 1953. The overlap between the two is large, and this new list is more culturally relative to now.\n",
    "\n",
    "The audience for this word list is English Language Learners\n",
    "\n",
    "I think these labels are perfect to model 'tier 1 words' which are words that are very frequent and basic. \n",
    "<b> Please note: </b> As a pre-process step, I remove all stopwords and the word \"I'm\". This is about 100-200 words removed.\n",
    "\n",
    "Link to wordlist and explanation - http://www.newgeneralservicelist.org"
   ]
  },
  {
   "cell_type": "code",
   "execution_count": 11,
   "metadata": {},
   "outputs": [
    {
     "name": "stdout",
     "output_type": "stream",
     "text": [
      "['improve', 'student', 'well', 'whole', 'college', 'several', 'stupid', 'avoid', 'happen', 'though', 'teach', 'could', 'someone', 'come', 'typical', 'stuff', 'class', 'gender', 'quality', 'make', 'doubt', 'also', 'bias', 'less', 'comment', 'expect', 'time', 'heavy', 'male', 'without', 'always', 'opposite', 'learn', 'strong', 'positive', 'ideal', 'female', 'bad', 'either', 'text', 'put', 'may', 'attention', 'hate', 'get', 'part', 'mean', 'complete', 'destroy', 'sexual', 'away', 'professor', 'principle', 'must', 'yeah', 'largely', 'new', 'white', 'assumption', 'study', 'story', 'care', 'found', 'young', 'every', 'great', 'decide', 'improvement', 'anything', 'direct', 'mental', 'say', 'disappoint', 'include', 'actually', 'attractive', 'laugh', 'cause', 'perhaps', 'totally', 'interest', 'one', 'standard', 'fear', 'helpful', 'hair', 'believe', 'lot', 'submit', 'reach', 'nice', 'amount', 'link', 'paper', 'different', 'specific', 'cut', 'good', 'still', 'spend', 'field', 'ever', 'remind', 'likely', 'fulfill', 'assign', 'race', 'never', 'short', 'dare', 'judge', 'look', 'hire', 'already', 'matter', 'easy', 'cool', 'similarly', 'actual', 'sure', 'apparently', 'rather', 'love', 'wear', 'obvious', 'assume', 'subject', 'social', 'engage', 'discussion', 'really', 'alone', 'offer', 'favorite', 'service', 'imply', 'use', 'whereas', 'think', 'people', 'let', 'test', 'code', 'clear', 'often', 'see', 'certain', 'lack', 'course', 'enhance', 'literally', 'tell', 'seem', 'agree', 'something', 'even', 'question', 'nothing', 'probably', 'much', 'leave', 'diversity', 'educational', 'article', 'back', 'wonder', 'want', 'face', 'large', 'yes', 'guarantee', 'frequent', 'combination', 'way', 'far', 'although', 'enough', 'appearance', 'bit', 'bother', 'tend', 'contest', 'effective', 'result', 'bet', 'racial', 'financial', 'review', 'remember', 'person', 'usually', 'unless', 'work', 'another', 'understand', 'range', 'fit', 'hope', 'apply', 'important', 'complaint', 'write', 'would', 'rest', 'regular', 'like', 'point', 'aside', 'fact', 'wrong', 'letter', 'status', 'criticism', 'lecture', 'word', 'consider', 'first', 'ago', 'guy', 'case', 'university', 'kind', 'long', 'take', 'hurt', 'closely', 'read', 'go']\n"
     ]
    },
    {
     "data": {
      "text/html": [
       "i remember my first <b><u>student</u></b> evaluations 1 more short skirts 2 your hair looks so much better down 3 the psych building is too far away from my dorm room i decided at this point that <b><u>student</u></b> evaluations are not the definitive critique of my teaching see more kristy m keefe my first semester teaching i got two comments saying to wear less clothes as a new instructor this was not what i was expecting and not helpful in how i could <b><u>improve</u></b> as an educator sadly this may have been the first time i received comments about my appearance but it was not the last ugh thats sexual harassment i got one saying someone should make a calendar with pictures of my sexy butt literally kristy m keefe i had the opposite for the hair my hair is long and i always wear it down <b><u>student</u></b> said that i either needed to cut my hair or wear it in a bun because long hair is unprofessional <b><u>student</u></b>s will reach for anything when they want to be negative one time a <b><u>student</u></b> asked me a question about the midterm and i said i hadnt finished it yet they mentioned that in my rmp rating lol like they never procrastinate amanda carroll were you tempted to clap back with do you mean fewer these sites are just nonsense appalling levels of sexual harassment and not just against women ive known male teachers have similarly inappropriate comments posted kristy m keefe for sure amanda greubel nope i have also had some wonderfully thoughtful comments about my courses ill take the bad with the good angry people en route joshua shinn how dare youim not angry i just hate to disappoint anyone being a good prof doesnt hurt either michael w hitch i had this one professor back in my <b><u>college</u></b> days that was without a doubt the best professor i ever had his rmp ratings were trashed because he wasnt an easy a a lot of us couldnt believe it because we loved him and he asked if wsee more michael w hitch dude it doesnt matter for some of us christ being a good professor has nothing to do with good evaluations and i would go so far to say that the effective professor does not get good reviews do be glib though woosh my teaching reviews like my article reviews fell neatly into thirds one third fantastic no <b><u>improve</u></b>ment needed one third ok but one third who let this idiot leave his village i suffered a bit because my undergrad subject was a demanding see more the person paying for the service should be the one to decide how that service should be evaluatedif they want to judge it on financial merit or educational merit or social merit its up to them see more stephen cooper setting aside the sneer in your comment my point was of course that the principle of having ones teaching evaluated is fine but the execution ends up failing its purpose i doubt that such evaluations are even a good test of the studsee more my favorite criticism from a <b><u>student</u></b> on rmp every other professor wants you to succeed she only cares about how much you learn the rest of the review made clear that success was just about a specific letter grade<b><u>student</u></b> evals usually tell us more about <b><u>student</u></b>s than about teachers my favorite criticism on a <b><u>student</u></b> eval she doesnt teach us the content she expects us to learn it ourselves apparently the fact that i dont lecture from the text and expect them to come to class having done the reading and prepared to engage in discussion and activities isnt good teaching _ no kiddinyou mean a popularity contest turns out to be like a popularity contest ill be damned youre not wrong tenure attractive any day promote these large nostrils and heavy baggaged eyes please i wont lie the chili peppers are from my nephews should i remind that correlation does not mean causation innokenty kantor you seem to assume that universities hire more poorly qualified nonwhite nonmales over better qualified white males whereas in reality the <b><u>whole</u></b> point of diversity practices in hiring is to mitigate bias against people who are moresee more innokenty kantor thanks for explaining my comment for me yes because being male or white has never been shown to be the direct cause of very tangible privileges the way some of you do mental gimnastics to avoid having to face bias jacq jones not at all i think it is the opposite those who think that any disproportion is a result of bias or discrimination are just burying their heads in sand because they dont like the implications ransell dsouza he was trying to write of course in his comment over and over again but it kept coming out as of cause notice he also replaced the word hire with high its probably a combination of using autocorrect and a complete lack of proof innokenty kantor unless you are already hiring inferior candidates who happen to fit your bias eg white men in which case expanded the range of people you consider will enhance the quality of your hires whats of cause innokenty kantor yes its nice apologies for not getting reference id love to see this extended to include racial bias because sadly i think this would be even more pronounced and the weighting often put on these for tenure is problematic at best innokenty kantor there seems to be a strong correlation that white men dont believe academia is sexist and racist backed up by <b><u>several</u></b> studies seems to point to a causality of their fear of losing status in a field biased towards them the most laughable part is the assumption that universities hire the best candidate rather than the one that most closely matches their existing culture which is really just code for biases towards wht they think ideal candidates are like and the dsee more issues with the methodology but not news i dont even look anymore you must not be an adjunct i dont want to look but have to submit them for the ten jobs i apply to every year <b><u>well</u></b> i get three out of four thats how i do it wait there are adults who actually care about whats written on ratemyprofessor no of you should ever under any circumstances read rate my professor no good comes of it and i firmly believe there should be a rate my <b><u>student</u></b> site mirrors typical life i dont bother with the actual university evaluations let alone this garbage ditto especially after reading a rape fantasy i hope you reported that bob borrelli why so they can all laugh about it pick up lines graphic sexual fantasies sexual assault and notes like pretty sure i found your house were totally ignored tashana this kind of stuff always makes me think of you you brought it to our attention years ago white yes male no tenured hahaha attractive um brenna e culbert my favorite comment on rmp was she has a lot of patience even with the <b><u>stupid</u></b> question people amanda evert they repeated your study sarina kilham thanks adding it to my stockpile of evidence hadil ghoneim here you go im attractive though white yes male yes tenured no attractive not really my rmp ratings still suck although i have a few good ones jess moore the most frequent descriptor people use for me is boring that one cuts me to my soul im fun brian paul i agree and my ratings are largely good and even the negative ones are worthwhile brian paul i just got a bad review for giving too much work for a minimester class im not even sure how to take that am i supposed to assign less work during a minimester i was told youre supposed to offer the same amount as a regular semester but now i wonder about that aurora le <b><u>well</u></b> shit ami sedani new study more like duh lol lisa parker lebovitz daniel malcom thanks ive got to get back to the data i think we can refute this maybe the young white male faculty arent as attractive to <b><u>student</u></b>s in pharmacy as in humanities francesca bosisio my favourite bit of feedback received from a <b><u>student</u></b> who scored my course a 0please can there be better references not of those written ages ago when they used sophisticated wordscause who comes to university to learn sophisticated words lets usee more harry green brilliant bob borrelli yeah fuck that guy and his sophisticated words d who literally invented meteorology hey can you link the math paper using emoji that would be awesome and id like to read itthis is a good one about emoji but its not written in it though it has some examples of retelling https <b><u>well</u></b> i am an unattractive white female and get great reviews and teach a subject that is considered hard perhaps it would be profitable to spend some time studying statistics you fulfill one of the categories then goodforyou i see you dont understand how studies work a study never reports that in 100 of cases this happens and in 0 of cases this happened if that were true providing one contrary story would be enough to destroy the findings of the studystudies look at the way things tend to be maybe people who fulfill certain criteria are more likely to get positive reviews but its not a guarantee one way or the other still funny race and gender are less important than attractiveness <b><u>student</u></b> interest and discipline but the first two features in the headline is white and male stop contradicting the facts with your divisive ideology juan trucupey cool story bro catherine glass its easy to laugh when youre the beneficiary juan trucupey thats not contradicting facts its emphasising some things that the study found more than others but i bet the standard of attractiveness and gender interact as <b><u>well</u></b> juan yes its all propaganda its not like theyre just pointing out the most interesting conclusions of the study rather than the obvious ones <b><u>student</u></b> interest in the subject influences professor ratings really juan trucupey youre the one who is claiming that it is sexist against males to imply that gender affects ratings before listing a <b><u>student</u></b>s interest in the subject matter i never said that so your complaint that im contradicting myself is wrong isee more propaganda lol i literally have had female <b><u>student</u></b>s look for profs who are called a bitch it apparently means something different to people good to know those <b><u>student</u></b>s just graduating with phds now one went to georgetown another is a teacher matthew lucky 34 aint bad "
      ],
      "text/plain": [
       "<IPython.core.display.HTML object>"
      ]
     },
     "execution_count": 11,
     "metadata": {},
     "output_type": "execute_result"
    }
   ],
   "source": [
    "output_ngsl = Convert(text_df['ngsl_labels'][random_indexes[index]])\n",
    "output_ngsl_list = []\n",
    "for word in output_ngsl:\n",
    "    output_ngsl_list.append(word)\n",
    "\n",
    "print(output_ngsl_list)\n",
    "\n",
    "highlight_keywords(text, output_ngsl_list[0:7]) #given the number of ngsl words, I limited to the top 8 \n"
   ]
  },
  {
   "cell_type": "markdown",
   "metadata": {},
   "source": [
    "TSL word list = TOIEC Service List\n",
    "\n",
    "These model a mixture of lower level tier 2 words. The size of this word list is not very large. From the website linked above, it is stated that a combination of ngsl and TSL accounts for 99% of the tested material on the TOIEC.\n",
    "\n",
    "There are other word lists that I'm working on unpacking. Most notably is the academic word list which also models tier 2 words, but to a larger degree. The difference between TOEIC and AWL is that TOIEC is marketed towards english language learners specifically and AWL is more general. \n",
    "\n",
    "The focus on the system should be to have a good performance on tier 2 words. There are word lists for tier 3 words, but because they are seperated by a bunch of different subjects (biology, chemistry, law) and their low frequency, the time tradeoff isn't good for right now to invest time on that yet\n",
    "\n",
    "I think this will also be interesting to see how the different parameters and filtering impact the types of words the system extracts based on word difficulty. To integrate word difficulty later, all we would have to do is use the frequency of each word which is already a part of the data"
   ]
  },
  {
   "cell_type": "code",
   "execution_count": 12,
   "metadata": {},
   "outputs": [
    {
     "name": "stdout",
     "output_type": "stream",
     "text": [
      "['criteria', 'popularity', 'profitable', 'contrary', 'pharmacy', 'inappropriate', 'instructor', 'poorly', 'calendar', 'clap', 'candidate', 'semester', 'worthwhile', 'graphic', 'feedback', 'merit', 'faculty']\n"
     ]
    },
    {
     "data": {
      "text/html": [
       "i remember my first student evaluations 1 more short skirts 2 your hair looks so much better down 3 the psych building is too far away from my dorm room i decided at this point that student evaluations are not the definitive critique of my teaching see more kristy m keefe my first <b><u>semester</u></b> teaching i got two comments saying to wear less clothes as a new <b><u>instructor</u></b> this was not what i was expecting and not helpful in how i could improve as an educator sadly this may have been the first time i received comments about my appearance but it was not the last ugh thats sexual harassment i got one saying someone should make a <b><u>calendar</u></b> with pictures of my sexy butt literally kristy m keefe i had the opposite for the hair my hair is long and i always wear it down student said that i either needed to cut my hair or wear it in a bun because long hair is unprofessional students will reach for anything when they want to be negative one time a student asked me a question about the midterm and i said i hadnt finished it yet they mentioned that in my rmp rating lol like they never procrastinate amanda carroll were you tempted to <b><u>clap</u></b> back with do you mean fewer these sites are just nonsense appalling levels of sexual harassment and not just against women ive known male teachers have similarly <b><u>inappropriate</u></b> comments posted kristy m keefe for sure amanda greubel nope i have also had some wonderfully thoughtful comments about my courses ill take the bad with the good angry people en route joshua shinn how dare youim not angry i just hate to disappoint anyone being a good prof doesnt hurt either michael w hitch i had this one professor back in my college days that was without a doubt the best professor i ever had his rmp ratings were trashed because he wasnt an easy a a lot of us couldnt believe it because we loved him and he asked if wsee more michael w hitch dude it doesnt matter for some of us christ being a good professor has nothing to do with good evaluations and i would go so far to say that the effective professor does not get good reviews do be glib though woosh my teaching reviews like my article reviews fell neatly into thirds one third fantastic no improvement needed one third ok but one third who let this idiot leave his village i suffered a bit because my undergrad subject was a demanding see more the person paying for the service should be the one to decide how that service should be evaluatedif they want to judge it on financial <b><u>merit</u></b> or educational <b><u>merit</u></b> or social <b><u>merit</u></b> its up to them see more stephen cooper setting aside the sneer in your comment my point was of course that the principle of having ones teaching evaluated is fine but the execution ends up failing its purpose i doubt that such evaluations are even a good test of the studsee more my favorite criticism from a student on rmp every other professor wants you to succeed she only cares about how much you learn the rest of the review made clear that success was just about a specific letter gradestudent evals usually tell us more about students than about teachers my favorite criticism on a student eval she doesnt teach us the content she expects us to learn it ourselves apparently the fact that i dont lecture from the text and expect them to come to class having done the reading and prepared to engage in discussion and activities isnt good teaching _ no kiddinyou mean a <b><u>popularity</u></b> contest turns out to be like a <b><u>popularity</u></b> contest ill be damned youre not wrong tenure attractive any day promote these large nostrils and heavy baggaged eyes please i wont lie the chili peppers are from my nephews should i remind that correlation does not mean causation innokenty kantor you seem to assume that universities hire more <b><u>poorly</u></b> qualified nonwhite nonmales over better qualified white males whereas in reality the whole point of diversity practices in hiring is to mitigate bias against people who are moresee more innokenty kantor thanks for explaining my comment for me yes because being male or white has never been shown to be the direct cause of very tangible privileges the way some of you do mental gimnastics to avoid having to face bias jacq jones not at all i think it is the opposite those who think that any disproportion is a result of bias or discrimination are just burying their heads in sand because they dont like the implications ransell dsouza he was trying to write of course in his comment over and over again but it kept coming out as of cause notice he also replaced the word hire with high its probably a combination of using autocorrect and a complete lack of proof innokenty kantor unless you are already hiring inferior <b><u>candidate</u></b>s who happen to fit your bias eg white men in which case expanded the range of people you consider will enhance the quality of your hires whats of cause innokenty kantor yes its nice apologies for not getting reference id love to see this extended to include racial bias because sadly i think this would be even more pronounced and the weighting often put on these for tenure is problematic at best innokenty kantor there seems to be a strong correlation that white men dont believe academia is sexist and racist backed up by several studies seems to point to a causality of their fear of losing status in a field biased towards them the most laughable part is the assumption that universities hire the best <b><u>candidate</u></b> rather than the one that most closely matches their existing culture which is really just code for biases towards wht they think ideal <b><u>candidate</u></b>s are like and the dsee more issues with the methodology but not news i dont even look anymore you must not be an adjunct i dont want to look but have to submit them for the ten jobs i apply to every year well i get three out of four thats how i do it wait there are adults who actually care about whats written on ratemyprofessor no of you should ever under any circumstances read rate my professor no good comes of it and i firmly believe there should be a rate my student site mirrors typical life i dont bother with the actual university evaluations let alone this garbage ditto especially after reading a rape fantasy i hope you reported that bob borrelli why so they can all laugh about it pick up lines <b><u>graphic</u></b> sexual fantasies sexual assault and notes like pretty sure i found your house were totally ignored tashana this kind of stuff always makes me think of you you brought it to our attention years ago white yes male no tenured hahaha attractive um brenna e culbert my favorite comment on rmp was she has a lot of patience even with the stupid question people amanda evert they repeated your study sarina kilham thanks adding it to my stockpile of evidence hadil ghoneim here you go im attractive though white yes male yes tenured no attractive not really my rmp ratings still suck although i have a few good ones jess moore the most frequent descriptor people use for me is boring that one cuts me to my soul im fun brian paul i agree and my ratings are largely good and even the negative ones are <b><u>worthwhile</u></b> brian paul i just got a bad review for giving too much work for a minimester class im not even sure how to take that am i supposed to assign less work during a minimester i was told youre supposed to offer the same amount as a regular <b><u>semester</u></b> but now i wonder about that aurora le well shit ami sedani new study more like duh lol lisa parker lebovitz daniel malcom thanks ive got to get back to the data i think we can refute this maybe the young white male <b><u>faculty</u></b> arent as attractive to students in <b><u>pharmacy</u></b> as in humanities francesca bosisio my favourite bit of <b><u>feedback</u></b> received from a student who scored my course a 0please can there be better references not of those written ages ago when they used sophisticated wordscause who comes to university to learn sophisticated words lets usee more harry green brilliant bob borrelli yeah fuck that guy and his sophisticated words d who literally invented meteorology hey can you link the math paper using emoji that would be awesome and id like to read itthis is a good one about emoji but its not written in it though it has some examples of retelling https well i am an unattractive white female and get great reviews and teach a subject that is considered hard perhaps it would be <b><u>profitable</u></b> to spend some time studying statistics you fulfill one of the categories then goodforyou i see you dont understand how studies work a study never reports that in 100 of cases this happens and in 0 of cases this happened if that were true providing one <b><u>contrary</u></b> story would be enough to destroy the findings of the studystudies look at the way things tend to be maybe people who fulfill certain <b><u>criteria</u></b> are more likely to get positive reviews but its not a guarantee one way or the other still funny race and gender are less important than attractiveness student interest and discipline but the first two features in the headline is white and male stop contradicting the facts with your divisive ideology juan trucupey cool story bro catherine glass its easy to laugh when youre the beneficiary juan trucupey thats not contradicting facts its emphasising some things that the study found more than others but i bet the standard of attractiveness and gender interact as well juan yes its all propaganda its not like theyre just pointing out the most interesting conclusions of the study rather than the obvious ones student interest in the subject influences professor ratings really juan trucupey youre the one who is claiming that it is sexist against males to imply that gender affects ratings before listing a students interest in the subject matter i never said that so your complaint that im contradicting myself is wrong isee more propaganda lol i literally have had female students look for profs who are called a bitch it apparently means something different to people good to know those students just graduating with phds now one went to georgetown another is a teacher matthew lucky 34 aint bad "
      ],
      "text/plain": [
       "<IPython.core.display.HTML object>"
      ]
     },
     "metadata": {},
     "output_type": "display_data"
    }
   ],
   "source": [
    "output_tsl = Convert(text_df['tsl_labels'][random_indexes[index]])\n",
    "output_tsl_list = []\n",
    "for word in output_tsl:\n",
    "    output_tsl_list.append(word)\n",
    "\n",
    "if len(output_tsl_list) > 0:\n",
    "    print(output_tsl_list)\n",
    "    display(highlight_keywords(text, output_tsl_list))\n",
    "else:\n",
    "    print(\"No TSL words\")"
   ]
  },
  {
   "cell_type": "markdown",
   "metadata": {},
   "source": [
    "<b> Issue with this evaluation </b>\n",
    "\n",
    "<ol> \n",
    "    <li> I have not yet worked out how to score partial matches. For now, before scoring each keyphrase will be seperated into individual words before scoring. This is done without any penalty  As a result, I've noticed that this implementation of textRank gets a boost because it produces longer keyphrases and thus has more chances to 'match' a desired word. </li>\n",
    "    <li> I'm not sure if recall in this specific instance makes sense. Because we don't explicity label each candidate as a keyphrase or not. </li>\n",
    "    <li> Once I've made the actual implementation of the graph algorithms/others, the scores will be based on the candidates themselves.  </li>\n",
    "</ol>"
   ]
  },
  {
   "cell_type": "code",
   "execution_count": 13,
   "metadata": {
    "scrolled": true
   },
   "outputs": [
    {
     "name": "stdout",
     "output_type": "stream",
     "text": [
      "ngsl recall: 21.93% \n",
      "tsl recall: 52.94%\n",
      "\n",
      "ngsl: 50 out of 228\n",
      "tsl: 9 out of 17 \n",
      "\n",
      "ngsl accuracy: 21.93% \n",
      "tsl accuracy: 52.94%\n"
     ]
    }
   ],
   "source": [
    "get_recall(output, output_ngsl_list, output_tsl_list)\n",
    "exact_get_scores(output, output_ngsl_list, output_tsl_list)"
   ]
  },
  {
   "cell_type": "markdown",
   "metadata": {},
   "source": [
    "## Comparison to TopicRank:"
   ]
  },
  {
   "cell_type": "code",
   "execution_count": 14,
   "metadata": {},
   "outputs": [
    {
     "data": {
      "text/plain": [
       "[('first student evaluations', 0.03386647089018708),\n",
       " ('comments', 0.018713831590459685),\n",
       " ('white', 0.017286181640018532),\n",
       " ('good angry people', 0.016004251548966297),\n",
       " ('male teachers', 0.015885885299095206),\n",
       " ('kantor', 0.014934364394873152),\n",
       " ('tenured hahaha attractive', 0.013177859822320776),\n",
       " ('good reviews', 0.012920804663270816),\n",
       " ('rate', 0.012906008168999863),\n",
       " ('good evaluations', 0.01216564085889058),\n",
       " ('rmp rating lol', 0.0113863012211115),\n",
       " ('bias', 0.011311575500598072),\n",
       " ('several studies', 0.011190605190669979),\n",
       " ('professor', 0.011113435937229795),\n",
       " ('courses', 0.010700045758945047),\n",
       " ('universities', 0.01065830620746337),\n",
       " ('hair', 0.010312545114013926),\n",
       " ('ones', 0.010308658184672814),\n",
       " ('undergrad subject', 0.009844567237850998),\n",
       " ('thirds', 0.009315981390089895),\n",
       " ('point', 0.008907422191618367),\n",
       " ('gender', 0.008527537689752304),\n",
       " ('direct cause', 0.00821856632089495),\n",
       " ('word', 0.007959105129148101),\n",
       " ('inferior candidates', 0.007836118200235278),\n",
       " ('first semester teaching', 0.007502905485417881),\n",
       " ('case', 0.007275745740918848),\n",
       " ('beneficiary juan trucupey', 0.007248367909783153),\n",
       " ('fact', 0.006903448786344484),\n",
       " ('bad', 0.006504980244647655),\n",
       " ('hiring', 0.006459585612431868),\n",
       " ('bit', 0.006396552965538825),\n",
       " ('sexist', 0.006146192894903069),\n",
       " ('way', 0.006109454061492385),\n",
       " ('favorite criticism', 0.006018970250532077),\n",
       " ('better qualified white males', 0.0060112531100872165),\n",
       " ('wrong tenure', 0.005961893965152953),\n",
       " ('correlation', 0.005959319979972075),\n",
       " ('sites', 0.005869583698361131),\n",
       " ('time', 0.005844400658037448),\n",
       " ('negative', 0.005560401574106196),\n",
       " ('emoji', 0.0055199291476435396),\n",
       " ('fun brian paul', 0.005451586982612516),\n",
       " ('financial merit', 0.005412169176127826),\n",
       " ('way things', 0.005333699857695912),\n",
       " ('college days', 0.005315826485105133),\n",
       " ('much', 0.00526440647703361),\n",
       " ('sexual harassment', 0.005198867344729799),\n",
       " ('lot', 0.0051724544731873035),\n",
       " ('educator', 0.005169228909839592),\n",
       " ('class', 0.005128309770031031),\n",
       " ('opposite', 0.005100755672441124),\n",
       " ('service', 0.005070058435598766),\n",
       " ('teachers', 0.005028050444276859),\n",
       " ('year', 0.004971784516186416),\n",
       " ('popularity contest', 0.004950932119092449),\n",
       " ('teaching', 0.004782795537234388),\n",
       " ('better', 0.004775662929515439),\n",
       " ('less clothes', 0.004702315977327439),\n",
       " ('sure amanda greubel', 0.004523774592251891),\n",
       " ('easy', 0.004412988478592175),\n",
       " ('good prof', 0.004284248194273361),\n",
       " ('diversity practices', 0.003967774518902787),\n",
       " ('complete lack', 0.0038105011829822266),\n",
       " ('proof', 0.003791304404348322),\n",
       " ('clear', 0.0037256555719095133),\n",
       " ('features', 0.003710773300226465),\n",
       " ('reality', 0.003703318412464878),\n",
       " ('humanities francesca bosisio', 0.003681146749074371),\n",
       " ('discipline', 0.0036718759905326323),\n",
       " ('problematic', 0.0036715293863709437),\n",
       " ('academia', 0.003665316505638321),\n",
       " ('result', 0.0036542331327024634),\n",
       " ('headline', 0.0036533614530243038),\n",
       " ('racist', 0.0036522682430622337),\n",
       " ('moresee', 0.003641082677544878),\n",
       " ('important', 0.00363599740769735),\n",
       " ('assumption', 0.0036304201559357995),\n",
       " ('discrimination', 0.0035766639896109174),\n",
       " ('range', 0.0035600034059814828),\n",
       " ('autocorrect', 0.003552530676625143),\n",
       " ('status', 0.0035513211612112575),\n",
       " ('fear', 0.003549369480261245),\n",
       " ('funny race', 0.0035422651068830035),\n",
       " ('kind', 0.0035353676463455034),\n",
       " ('qualified nonwhite nonmales', 0.0035330568484303543),\n",
       " ('pharmacy', 0.0035229961752049586),\n",
       " ('large nostrils', 0.0035195812807307736),\n",
       " ('improvement', 0.0035060769375471834),\n",
       " ('success', 0.003485658433473958),\n",
       " ('route joshua shinn', 0.003484930672523652),\n",
       " ('feedback', 0.0034719998425509716),\n",
       " ('heads', 0.003460135192230553),\n",
       " ('combination', 0.0034421801369569427),\n",
       " ('principle', 0.003426333066635945),\n",
       " ('tangible privileges', 0.0034237942119323076),\n",
       " ('causation', 0.003415060429518682),\n",
       " ('laughable part', 0.0034109679348613194),\n",
       " ('nice apologies', 0.003405867135497627),\n",
       " ('guarantee', 0.00339934220184244)]"
      ]
     },
     "execution_count": 14,
     "metadata": {},
     "output_type": "execute_result"
    }
   ],
   "source": [
    "extractor = pke.unsupervised.TopicRank()\n",
    "extractor.load_document(input=text, language='en')\n",
    "extractor.candidate_selection()\n",
    "extractor.candidate_weighting()\n",
    "\n",
    "if len(text) >= 100:\n",
    "    optimal_keyphrases = int(round(len(text) / 100, 0))\n",
    "else:\n",
    "    optimal_keyphrases = 1\n",
    "\n",
    "keyphrases = extractor.get_n_best(n=optimal_keyphrases) \n",
    "keyphrases"
   ]
  },
  {
   "cell_type": "code",
   "execution_count": 15,
   "metadata": {},
   "outputs": [
    {
     "data": {
      "text/html": [
       "i remember my <b><u>first student evaluations</u></b> 1 more short skirts 2 your <b><u>hair</u></b> looks so <b><u>much</u></b> <b><u>better</u></b> down 3 the psych building is too far a<b><u>way</u></b> from my dorm room i decided at this <b><u>point</u></b> that student evaluations are not the definitive critique of my <b><u>teaching</u></b> see more kristy m keefe my <b><u>first semester <b><u>teaching</u></b></u></b> i got two <b><u>comments</u></b> saying to wear less c<b><u>lot</u></b>hes as a new instructor this was not what i was expecting and not helpful in how i could improve as an <b><u>educator</u></b> sadly this may have been the first <b><u>time</u></b> i received <b><u>comments</u></b> about my appearance but it was not the last ugh thats <b><u>sexual harassment</u></b> i got one saying someone should make a calendar with pictures of my sexy butt literally kristy m keefe i had the <b><u>opposite</u></b> for the <b><u>hair</u></b> my <b><u>hair</u></b> is long and i al<b><u>way</u></b>s wear it down student said that i either needed to cut my <b><u>hair</u></b> or wear it in a bun because long <b><u>hair</u></b> is unprofessional students will reach for anything when they want to be <b><u>negative</u></b> one <b><u>time</u></b> a student asked me a question about the midterm and i said i hadnt finished it yet they mentioned that in my <b><u>rmp rating lol</u></b> like they never procrastinate amanda carroll were you tempted to clap back with do you mean fewer these <b><u>sites</u></b> are just nonsense appalling levels of <b><u>sexual harassment</u></b> and not just against women ive known <b><u>male <b><u>teachers</u></b></u></b> have similarly inappropriate <b><u>comments</u></b> posted kristy m keefe for <b><u>sure amanda greubel</u></b> nope i have also had some wonderfully thoughtful <b><u>comments</u></b> about my <b><u>courses</u></b> ill take the <b><u>bad</u></b> with the <b><u>good angry people</u></b> en <b><u>route joshua shinn</u></b> how dare youim not angry i just hate to disap<b><u>point</u></b> anyone being a <b><u>good prof</u></b> doesnt hurt either michael w hitch i had this one <b><u>professor</u></b> back in my <b><u>college days</u></b> that was without a doubt the best <b><u>professor</u></b> i ever had his rmp ratings were trashed because he wasnt an <b><u>easy</u></b> a a <b><u>lot</u></b> of us couldnt believe it because we loved him and he asked if wsee more michael w hitch dude it doesnt matter for some of us christ being a good <b><u>professor</u></b> has nothing to do with <b><u>good evaluations</u></b> and i would go so far to say that the effective <b><u>professor</u></b> does not get <b><u>good reviews</u></b> do be glib though woosh my <b><u>teaching</u></b> reviews like my article reviews fell neatly into <b><u>thirds</u></b> one third fantastic no <b><u>improvement</u></b> needed one third ok but one third who let this idiot leave his village i suffered a <b><u>bit</u></b> because my <b><u>undergrad subject</u></b> was a demanding see more the person paying for the <b><u>service</u></b> should be the one to decide how that <b><u>service</u></b> should be evaluatedif they want to judge it on <b><u>financial merit</u></b> or educational merit or social merit its up to them see more stephen cooper setting aside the sneer in your comment my <b><u>point</u></b> was of course that the <b><u>principle</u></b> of having <b><u>ones</u></b> <b><u>teaching</u></b> evaluated is fine but the execution ends up failing its purpose i doubt that such evaluations are even a good test of the studsee more my <b><u>favorite criticism</u></b> from a student on rmp every other <b><u>professor</u></b> wants you to succeed she only cares about how <b><u>much</u></b> you learn the rest of the review made <b><u>clear</u></b> that <b><u>success</u></b> was just about a specific letter gradestudent evals usually tell us more about students than about <b><u>teachers</u></b> my <b><u>favorite criticism</u></b> on a student eval she doesnt teach us the content she expects us to learn it ourselves apparently the <b><u>fact</u></b> that i dont lecture from the text and expect them to come to <b><u>class</u></b> having done the reading and prepared to engage in discussion and activities isnt good <b><u>teaching</u></b> _ no kiddinyou mean a <b><u>popularity contest</u></b> turns out to be like a <b><u>popularity contest</u></b> ill be damned youre not <b><u>wrong tenure</u></b> attractive any day promote these <b><u>large nostrils</u></b> and heavy baggaged eyes please i wont lie the chili peppers are from my nephews should i remind that <b><u>correlation</u></b> does not mean <b><u>causation</u></b> innokenty <b><u>kantor</u></b> you seem to assume that <b><u>universities</u></b> hire more poorly qualified non<b><u>white</u></b> nonmales over <b><u>better</u></b> qualified <b><u>white</u></b> males whereas in <b><u>reality</u></b> the whole <b><u>point</u></b> of <b><u>diversity practices</u></b> in <b><u>hiring</u></b> is to mitigate <b><u>bias</u></b> against people who are <b><u>moresee</u></b> more innokenty <b><u>kantor</u></b> thanks for explaining my comment for me yes because being male or <b><u>white</u></b> has never been shown to be the <b><u>direct cause</u></b> of very <b><u>tangible privileges</u></b> the <b><u>way</u></b> some of you do mental gimnastics to avoid having to face <b><u>bias</u></b> jacq j<b><u>ones</u></b> not at all i think it is the <b><u>opposite</u></b> those who think that any disproportion is a <b><u>result</u></b> of <b><u>bias</u></b> or <b><u>discrimination</u></b> are just burying their <b><u>heads</u></b> in sand because they dont like the implications ransell dsouza he was trying to write of course in his comment over and over again but it kept coming out as of cause notice he also replaced the <b><u>word</u></b> hire with high its probably a <b><u>combination</u></b> of using <b><u>autocorrect</u></b> and a <b><u>complete lack</u></b> of <b><u>proof</u></b> innokenty <b><u>kantor</u></b> unless you are already <b><u>hiring</u></b> <b><u>inferior candidates</u></b> who happen to fit your <b><u>bias</u></b> eg <b><u>white</u></b> men in which <b><u>case</u></b> expanded the <b><u>range</u></b> of people you consider will enhance the quality of your hires whats of cause innokenty <b><u>kantor</u></b> yes its <b><u>nice apologies</u></b> for not getting reference id love to see this extended to include racial <b><u>bias</u></b> because sadly i think this would be even more pronounced and the weighting often put on these for tenure is <b><u>problematic</u></b> at best innokenty <b><u>kantor</u></b> there seems to be a strong <b><u>correlation</u></b> that <b><u>white</u></b> men dont believe <b><u>academia</u></b> is <b><u>sexist</u></b> and <b><u>racist</u></b> backed up by <b><u>several studies</u></b> seems to <b><u>point</u></b> to a causality of their <b><u>fear</u></b> of losing <b><u>status</u></b> in a field <b><u>bias</u></b>ed towards them the most <b><u>laughable part</u></b> is the <b><u>assumption</u></b> that <b><u>universities</u></b> hire the best candidate rather than the one that most closely matches their existing culture which is really just code for <b><u>bias</u></b>es towards wht they think ideal candidates are like and the dsee more issues with the methodology but not news i dont even look anymore you must not be an adjunct i dont want to look but have to submit them for the ten jobs i apply to every <b><u>year</u></b> well i get three out of four thats how i do it wait there are adults who actually care about whats written on <b><u>rate</u></b>my<b><u>professor</u></b> no of you should ever under any circumstances read <b><u>rate</u></b> my <b><u>professor</u></b> no good comes of it and i firmly believe there should be a <b><u>rate</u></b> my student site mirrors typical life i dont bother with the actual university evaluations let alone this garbage ditto especially after reading a rape fantasy i hope you reported that bob borrelli why so they can all laugh about it pick up lines graphic sexual fantasies sexual assault and notes like pretty sure i found your house were totally ignored tashana this <b><u>kind</u></b> of stuff al<b><u>way</u></b>s makes me think of you you brought it to our attention <b><u>year</u></b>s ago <b><u>white</u></b> yes male no <b><u>tenured hahaha attractive</u></b> um brenna e culbert my favorite comment on rmp was she has a <b><u>lot</u></b> of patience even with the stupid question people amanda evert they repeated your study sarina kilham thanks adding it to my stockpile of evidence hadil ghoneim here you go im attractive though <b><u>white</u></b> yes male yes tenured no attractive not really my rmp ratings still suck although i have a few good <b><u>ones</u></b> jess moore the most frequent descriptor people use for me is boring that one cuts me to my soul im <b><u>fun brian paul</u></b> i agree and my ratings are largely good and even the <b><u>negative</u></b> <b><u>ones</u></b> are worthwhile brian paul i just got a <b><u>bad</u></b> review for giving too <b><u>much</u></b> work for a minimester <b><u>class</u></b> im not even sure how to take that am i supposed to assign less work during a minimester i was told youre supposed to offer the same amount as a regular semester but now i wonder about that aurora le well shit ami sedani new study more like duh lol lisa parker lebovitz daniel malcom thanks ive got to get back to the data i think we can refute this maybe the young <b><u>white</u></b> male faculty arent as attractive to students in <b><u>pharmacy</u></b> as in <b><u>humanities francesca bosisio</u></b> my favourite <b><u>bit</u></b> of <b><u>feedback</u></b> received from a student who scored my course a 0please can there be <b><u>better</u></b> references not of those written ages ago when they used sophisticated <b><u>word</u></b>scause who comes to university to learn sophisticated <b><u>word</u></b>s lets usee more harry green brilliant bob borrelli yeah fuck that guy and his sophisticated <b><u>word</u></b>s d who literally invented meteorology hey can you link the math paper using <b><u>emoji</u></b> that would be awesome and id like to read itthis is a good one about <b><u>emoji</u></b> but its not written in it though it has some examples of retelling https well i am an unattractive <b><u>white</u></b> female and get great reviews and teach a subject that is considered hard perhaps it would be profitable to spend some <b><u>time</u></b> studying statistics you fulfill one of the categories then goodforyou i see you dont understand how studies work a study never reports that in 100 of <b><u>case</u></b>s this happens and in 0 of <b><u>case</u></b>s this happened if that were true providing one contrary story would be enough to destroy the findings of the studystudies look at the <b><u>way</u></b> things tend to be maybe people who fulfill certain criteria are more likely to get positive reviews but its not a <b><u>guarantee</u></b> one <b><u>way</u></b> or the other still <b><u>funny race</u></b> and <b><u>gender</u></b> are less <b><u>important</u></b> than attractiveness student interest and <b><u>discipline</u></b> but the first two <b><u>features</u></b> in the <b><u>headline</u></b> is <b><u>white</u></b> and male stop contradicting the <b><u>fact</u></b>s with your divisive ideology juan trucupey cool story bro catherine glass its <b><u>easy</u></b> to laugh when youre the <b><u>beneficiary juan trucupey</u></b> thats not contradicting <b><u>fact</u></b>s its emphasising some things that the study found more than others but i bet the standard of attractiveness and <b><u>gender</u></b> interact as well juan yes its all propaganda its not like theyre just <b><u>point</u></b>ing out the most interesting conclusions of the study rather than the obvious <b><u>ones</u></b> student interest in the subject influences <b><u>professor</u></b> ratings really juan trucupey youre the one who is claiming that it is <b><u>sexist</u></b> against males to imply that <b><u>gender</u></b> affects ratings before listing a students interest in the subject matter i never said that so your complaint that im contradicting myself is wrong isee more propaganda lol i literally have had female students look for profs who are called a <b><u>bit</u></b>ch it apparently means something different to people good to know those students just graduating with phds now one went to georgetown another is a teacher matthew lucky 34 aint <b><u>bad</u></b> "
      ],
      "text/plain": [
       "<IPython.core.display.HTML object>"
      ]
     },
     "execution_count": 15,
     "metadata": {},
     "output_type": "execute_result"
    }
   ],
   "source": [
    "output = get_keyphrases(keyphrases)\n",
    "highlight_keywords(text, output)"
   ]
  },
  {
   "cell_type": "code",
   "execution_count": 16,
   "metadata": {},
   "outputs": [
    {
     "name": "stdout",
     "output_type": "stream",
     "text": [
      "['improve', 'student', 'well', 'whole', 'college', 'several', 'stupid', 'avoid', 'happen', 'though', 'teach', 'could', 'someone', 'come', 'typical', 'stuff', 'class', 'gender', 'quality', 'make', 'doubt', 'also', 'bias', 'less', 'comment', 'expect', 'time', 'heavy', 'male', 'without', 'always', 'opposite', 'learn', 'strong', 'positive', 'ideal', 'female', 'bad', 'either', 'text', 'put', 'may', 'attention', 'hate', 'get', 'part', 'mean', 'complete', 'destroy', 'sexual', 'away', 'professor', 'principle', 'must', 'yeah', 'largely', 'new', 'white', 'assumption', 'study', 'story', 'care', 'found', 'young', 'every', 'great', 'decide', 'improvement', 'anything', 'direct', 'mental', 'say', 'disappoint', 'include', 'actually', 'attractive', 'laugh', 'cause', 'perhaps', 'totally', 'interest', 'one', 'standard', 'fear', 'helpful', 'hair', 'believe', 'lot', 'submit', 'reach', 'nice', 'amount', 'link', 'paper', 'different', 'specific', 'cut', 'good', 'still', 'spend', 'field', 'ever', 'remind', 'likely', 'fulfill', 'assign', 'race', 'never', 'short', 'dare', 'judge', 'look', 'hire', 'already', 'matter', 'easy', 'cool', 'similarly', 'actual', 'sure', 'apparently', 'rather', 'love', 'wear', 'obvious', 'assume', 'subject', 'social', 'engage', 'discussion', 'really', 'alone', 'offer', 'favorite', 'service', 'imply', 'use', 'whereas', 'think', 'people', 'let', 'test', 'code', 'clear', 'often', 'see', 'certain', 'lack', 'course', 'enhance', 'literally', 'tell', 'seem', 'agree', 'something', 'even', 'question', 'nothing', 'probably', 'much', 'leave', 'diversity', 'educational', 'article', 'back', 'wonder', 'want', 'face', 'large', 'yes', 'guarantee', 'frequent', 'combination', 'way', 'far', 'although', 'enough', 'appearance', 'bit', 'bother', 'tend', 'contest', 'effective', 'result', 'bet', 'racial', 'financial', 'review', 'remember', 'person', 'usually', 'unless', 'work', 'another', 'understand', 'range', 'fit', 'hope', 'apply', 'important', 'complaint', 'write', 'would', 'rest', 'regular', 'like', 'point', 'aside', 'fact', 'wrong', 'letter', 'status', 'criticism', 'lecture', 'word', 'consider', 'first', 'ago', 'guy', 'case', 'university', 'kind', 'long', 'take', 'hurt', 'closely', 'read', 'go']\n"
     ]
    },
    {
     "data": {
      "text/html": [
       "i remember my first <b><u>student</u></b> evaluations 1 more short skirts 2 your hair looks so much better down 3 the psych building is too far away from my dorm room i decided at this point that <b><u>student</u></b> evaluations are not the definitive critique of my teaching see more kristy m keefe my first semester teaching i got two comments saying to wear less clothes as a new instructor this was not what i was expecting and not helpful in how i could <b><u>improve</u></b> as an educator sadly this may have been the first time i received comments about my appearance but it was not the last ugh thats sexual harassment i got one saying someone should make a calendar with pictures of my sexy butt literally kristy m keefe i had the opposite for the hair my hair is long and i always wear it down <b><u>student</u></b> said that i either needed to cut my hair or wear it in a bun because long hair is unprofessional <b><u>student</u></b>s will reach for anything when they want to be negative one time a <b><u>student</u></b> asked me a question about the midterm and i said i hadnt finished it yet they mentioned that in my rmp rating lol like they never procrastinate amanda carroll were you tempted to clap back with do you mean fewer these sites are just nonsense appalling levels of sexual harassment and not just against women ive known male teachers have similarly inappropriate comments posted kristy m keefe for sure amanda greubel nope i have also had some wonderfully thoughtful comments about my courses ill take the bad with the good angry people en route joshua shinn how dare youim not angry i just hate to disappoint anyone being a good prof doesnt hurt either michael w hitch i had this one professor back in my <b><u>college</u></b> days that was without a doubt the best professor i ever had his rmp ratings were trashed because he wasnt an easy a a lot of us couldnt believe it because we loved him and he asked if wsee more michael w hitch dude it doesnt matter for some of us christ being a good professor has nothing to do with good evaluations and i would go so far to say that the effective professor does not get good reviews do be glib though woosh my teaching reviews like my article reviews fell neatly into thirds one third fantastic no <b><u>improve</u></b>ment needed one third ok but one third who let this idiot leave his village i suffered a bit because my undergrad subject was a demanding see more the person paying for the service should be the one to decide how that service should be evaluatedif they want to judge it on financial merit or educational merit or social merit its up to them see more stephen cooper setting aside the sneer in your comment my point was of course that the principle of having ones teaching evaluated is fine but the execution ends up failing its purpose i doubt that such evaluations are even a good test of the studsee more my favorite criticism from a <b><u>student</u></b> on rmp every other professor wants you to succeed she only cares about how much you learn the rest of the review made clear that success was just about a specific letter grade<b><u>student</u></b> evals usually tell us more about <b><u>student</u></b>s than about teachers my favorite criticism on a <b><u>student</u></b> eval she doesnt teach us the content she expects us to learn it ourselves apparently the fact that i dont lecture from the text and expect them to come to class having done the reading and prepared to engage in discussion and activities isnt good teaching _ no kiddinyou mean a popularity contest turns out to be like a popularity contest ill be damned youre not wrong tenure attractive any day promote these large nostrils and heavy baggaged eyes please i wont lie the chili peppers are from my nephews should i remind that correlation does not mean causation innokenty kantor you seem to assume that universities hire more poorly qualified nonwhite nonmales over better qualified white males whereas in reality the <b><u>whole</u></b> point of diversity practices in hiring is to mitigate bias against people who are moresee more innokenty kantor thanks for explaining my comment for me yes because being male or white has never been shown to be the direct cause of very tangible privileges the way some of you do mental gimnastics to avoid having to face bias jacq jones not at all i think it is the opposite those who think that any disproportion is a result of bias or discrimination are just burying their heads in sand because they dont like the implications ransell dsouza he was trying to write of course in his comment over and over again but it kept coming out as of cause notice he also replaced the word hire with high its probably a combination of using autocorrect and a complete lack of proof innokenty kantor unless you are already hiring inferior candidates who happen to fit your bias eg white men in which case expanded the range of people you consider will enhance the quality of your hires whats of cause innokenty kantor yes its nice apologies for not getting reference id love to see this extended to include racial bias because sadly i think this would be even more pronounced and the weighting often put on these for tenure is problematic at best innokenty kantor there seems to be a strong correlation that white men dont believe academia is sexist and racist backed up by <b><u>several</u></b> studies seems to point to a causality of their fear of losing status in a field biased towards them the most laughable part is the assumption that universities hire the best candidate rather than the one that most closely matches their existing culture which is really just code for biases towards wht they think ideal candidates are like and the dsee more issues with the methodology but not news i dont even look anymore you must not be an adjunct i dont want to look but have to submit them for the ten jobs i apply to every year <b><u>well</u></b> i get three out of four thats how i do it wait there are adults who actually care about whats written on ratemyprofessor no of you should ever under any circumstances read rate my professor no good comes of it and i firmly believe there should be a rate my <b><u>student</u></b> site mirrors typical life i dont bother with the actual university evaluations let alone this garbage ditto especially after reading a rape fantasy i hope you reported that bob borrelli why so they can all laugh about it pick up lines graphic sexual fantasies sexual assault and notes like pretty sure i found your house were totally ignored tashana this kind of stuff always makes me think of you you brought it to our attention years ago white yes male no tenured hahaha attractive um brenna e culbert my favorite comment on rmp was she has a lot of patience even with the <b><u>stupid</u></b> question people amanda evert they repeated your study sarina kilham thanks adding it to my stockpile of evidence hadil ghoneim here you go im attractive though white yes male yes tenured no attractive not really my rmp ratings still suck although i have a few good ones jess moore the most frequent descriptor people use for me is boring that one cuts me to my soul im fun brian paul i agree and my ratings are largely good and even the negative ones are worthwhile brian paul i just got a bad review for giving too much work for a minimester class im not even sure how to take that am i supposed to assign less work during a minimester i was told youre supposed to offer the same amount as a regular semester but now i wonder about that aurora le <b><u>well</u></b> shit ami sedani new study more like duh lol lisa parker lebovitz daniel malcom thanks ive got to get back to the data i think we can refute this maybe the young white male faculty arent as attractive to <b><u>student</u></b>s in pharmacy as in humanities francesca bosisio my favourite bit of feedback received from a <b><u>student</u></b> who scored my course a 0please can there be better references not of those written ages ago when they used sophisticated wordscause who comes to university to learn sophisticated words lets usee more harry green brilliant bob borrelli yeah fuck that guy and his sophisticated words d who literally invented meteorology hey can you link the math paper using emoji that would be awesome and id like to read itthis is a good one about emoji but its not written in it though it has some examples of retelling https <b><u>well</u></b> i am an unattractive white female and get great reviews and teach a subject that is considered hard perhaps it would be profitable to spend some time studying statistics you fulfill one of the categories then goodforyou i see you dont understand how studies work a study never reports that in 100 of cases this happens and in 0 of cases this happened if that were true providing one contrary story would be enough to destroy the findings of the studystudies look at the way things tend to be maybe people who fulfill certain criteria are more likely to get positive reviews but its not a guarantee one way or the other still funny race and gender are less important than attractiveness <b><u>student</u></b> interest and discipline but the first two features in the headline is white and male stop contradicting the facts with your divisive ideology juan trucupey cool story bro catherine glass its easy to laugh when youre the beneficiary juan trucupey thats not contradicting facts its emphasising some things that the study found more than others but i bet the standard of attractiveness and gender interact as <b><u>well</u></b> juan yes its all propaganda its not like theyre just pointing out the most interesting conclusions of the study rather than the obvious ones <b><u>student</u></b> interest in the subject influences professor ratings really juan trucupey youre the one who is claiming that it is sexist against males to imply that gender affects ratings before listing a <b><u>student</u></b>s interest in the subject matter i never said that so your complaint that im contradicting myself is wrong isee more propaganda lol i literally have had female <b><u>student</u></b>s look for profs who are called a bitch it apparently means something different to people good to know those <b><u>student</u></b>s just graduating with phds now one went to georgetown another is a teacher matthew lucky 34 aint bad "
      ],
      "text/plain": [
       "<IPython.core.display.HTML object>"
      ]
     },
     "execution_count": 16,
     "metadata": {},
     "output_type": "execute_result"
    }
   ],
   "source": [
    "output_ngsl = Convert(text_df['ngsl_labels'][random_indexes[index]])\n",
    "output_ngsl_list = []\n",
    "for word in output_ngsl:\n",
    "    output_ngsl_list.append(word)\n",
    "\n",
    "print(output_ngsl_list)\n",
    "\n",
    "highlight_keywords(text, output_ngsl_list[0:7]) #given the number of ngsl words, I limited to the top 8 \n",
    "\n"
   ]
  },
  {
   "cell_type": "code",
   "execution_count": 17,
   "metadata": {},
   "outputs": [
    {
     "name": "stdout",
     "output_type": "stream",
     "text": [
      "['criteria', 'popularity', 'profitable', 'contrary', 'pharmacy', 'inappropriate', 'instructor', 'poorly', 'calendar', 'clap', 'candidate', 'semester', 'worthwhile', 'graphic', 'feedback', 'merit', 'faculty']\n"
     ]
    },
    {
     "data": {
      "text/html": [
       "i remember my first student evaluations 1 more short skirts 2 your hair looks so much better down 3 the psych building is too far away from my dorm room i decided at this point that student evaluations are not the definitive critique of my teaching see more kristy m keefe my first <b><u>semester</u></b> teaching i got two comments saying to wear less clothes as a new <b><u>instructor</u></b> this was not what i was expecting and not helpful in how i could improve as an educator sadly this may have been the first time i received comments about my appearance but it was not the last ugh thats sexual harassment i got one saying someone should make a <b><u>calendar</u></b> with pictures of my sexy butt literally kristy m keefe i had the opposite for the hair my hair is long and i always wear it down student said that i either needed to cut my hair or wear it in a bun because long hair is unprofessional students will reach for anything when they want to be negative one time a student asked me a question about the midterm and i said i hadnt finished it yet they mentioned that in my rmp rating lol like they never procrastinate amanda carroll were you tempted to <b><u>clap</u></b> back with do you mean fewer these sites are just nonsense appalling levels of sexual harassment and not just against women ive known male teachers have similarly <b><u>inappropriate</u></b> comments posted kristy m keefe for sure amanda greubel nope i have also had some wonderfully thoughtful comments about my courses ill take the bad with the good angry people en route joshua shinn how dare youim not angry i just hate to disappoint anyone being a good prof doesnt hurt either michael w hitch i had this one professor back in my college days that was without a doubt the best professor i ever had his rmp ratings were trashed because he wasnt an easy a a lot of us couldnt believe it because we loved him and he asked if wsee more michael w hitch dude it doesnt matter for some of us christ being a good professor has nothing to do with good evaluations and i would go so far to say that the effective professor does not get good reviews do be glib though woosh my teaching reviews like my article reviews fell neatly into thirds one third fantastic no improvement needed one third ok but one third who let this idiot leave his village i suffered a bit because my undergrad subject was a demanding see more the person paying for the service should be the one to decide how that service should be evaluatedif they want to judge it on financial <b><u>merit</u></b> or educational <b><u>merit</u></b> or social <b><u>merit</u></b> its up to them see more stephen cooper setting aside the sneer in your comment my point was of course that the principle of having ones teaching evaluated is fine but the execution ends up failing its purpose i doubt that such evaluations are even a good test of the studsee more my favorite criticism from a student on rmp every other professor wants you to succeed she only cares about how much you learn the rest of the review made clear that success was just about a specific letter gradestudent evals usually tell us more about students than about teachers my favorite criticism on a student eval she doesnt teach us the content she expects us to learn it ourselves apparently the fact that i dont lecture from the text and expect them to come to class having done the reading and prepared to engage in discussion and activities isnt good teaching _ no kiddinyou mean a <b><u>popularity</u></b> contest turns out to be like a <b><u>popularity</u></b> contest ill be damned youre not wrong tenure attractive any day promote these large nostrils and heavy baggaged eyes please i wont lie the chili peppers are from my nephews should i remind that correlation does not mean causation innokenty kantor you seem to assume that universities hire more <b><u>poorly</u></b> qualified nonwhite nonmales over better qualified white males whereas in reality the whole point of diversity practices in hiring is to mitigate bias against people who are moresee more innokenty kantor thanks for explaining my comment for me yes because being male or white has never been shown to be the direct cause of very tangible privileges the way some of you do mental gimnastics to avoid having to face bias jacq jones not at all i think it is the opposite those who think that any disproportion is a result of bias or discrimination are just burying their heads in sand because they dont like the implications ransell dsouza he was trying to write of course in his comment over and over again but it kept coming out as of cause notice he also replaced the word hire with high its probably a combination of using autocorrect and a complete lack of proof innokenty kantor unless you are already hiring inferior <b><u>candidate</u></b>s who happen to fit your bias eg white men in which case expanded the range of people you consider will enhance the quality of your hires whats of cause innokenty kantor yes its nice apologies for not getting reference id love to see this extended to include racial bias because sadly i think this would be even more pronounced and the weighting often put on these for tenure is problematic at best innokenty kantor there seems to be a strong correlation that white men dont believe academia is sexist and racist backed up by several studies seems to point to a causality of their fear of losing status in a field biased towards them the most laughable part is the assumption that universities hire the best <b><u>candidate</u></b> rather than the one that most closely matches their existing culture which is really just code for biases towards wht they think ideal <b><u>candidate</u></b>s are like and the dsee more issues with the methodology but not news i dont even look anymore you must not be an adjunct i dont want to look but have to submit them for the ten jobs i apply to every year well i get three out of four thats how i do it wait there are adults who actually care about whats written on ratemyprofessor no of you should ever under any circumstances read rate my professor no good comes of it and i firmly believe there should be a rate my student site mirrors typical life i dont bother with the actual university evaluations let alone this garbage ditto especially after reading a rape fantasy i hope you reported that bob borrelli why so they can all laugh about it pick up lines <b><u>graphic</u></b> sexual fantasies sexual assault and notes like pretty sure i found your house were totally ignored tashana this kind of stuff always makes me think of you you brought it to our attention years ago white yes male no tenured hahaha attractive um brenna e culbert my favorite comment on rmp was she has a lot of patience even with the stupid question people amanda evert they repeated your study sarina kilham thanks adding it to my stockpile of evidence hadil ghoneim here you go im attractive though white yes male yes tenured no attractive not really my rmp ratings still suck although i have a few good ones jess moore the most frequent descriptor people use for me is boring that one cuts me to my soul im fun brian paul i agree and my ratings are largely good and even the negative ones are <b><u>worthwhile</u></b> brian paul i just got a bad review for giving too much work for a minimester class im not even sure how to take that am i supposed to assign less work during a minimester i was told youre supposed to offer the same amount as a regular <b><u>semester</u></b> but now i wonder about that aurora le well shit ami sedani new study more like duh lol lisa parker lebovitz daniel malcom thanks ive got to get back to the data i think we can refute this maybe the young white male <b><u>faculty</u></b> arent as attractive to students in <b><u>pharmacy</u></b> as in humanities francesca bosisio my favourite bit of <b><u>feedback</u></b> received from a student who scored my course a 0please can there be better references not of those written ages ago when they used sophisticated wordscause who comes to university to learn sophisticated words lets usee more harry green brilliant bob borrelli yeah fuck that guy and his sophisticated words d who literally invented meteorology hey can you link the math paper using emoji that would be awesome and id like to read itthis is a good one about emoji but its not written in it though it has some examples of retelling https well i am an unattractive white female and get great reviews and teach a subject that is considered hard perhaps it would be <b><u>profitable</u></b> to spend some time studying statistics you fulfill one of the categories then goodforyou i see you dont understand how studies work a study never reports that in 100 of cases this happens and in 0 of cases this happened if that were true providing one <b><u>contrary</u></b> story would be enough to destroy the findings of the studystudies look at the way things tend to be maybe people who fulfill certain <b><u>criteria</u></b> are more likely to get positive reviews but its not a guarantee one way or the other still funny race and gender are less important than attractiveness student interest and discipline but the first two features in the headline is white and male stop contradicting the facts with your divisive ideology juan trucupey cool story bro catherine glass its easy to laugh when youre the beneficiary juan trucupey thats not contradicting facts its emphasising some things that the study found more than others but i bet the standard of attractiveness and gender interact as well juan yes its all propaganda its not like theyre just pointing out the most interesting conclusions of the study rather than the obvious ones student interest in the subject influences professor ratings really juan trucupey youre the one who is claiming that it is sexist against males to imply that gender affects ratings before listing a students interest in the subject matter i never said that so your complaint that im contradicting myself is wrong isee more propaganda lol i literally have had female students look for profs who are called a bitch it apparently means something different to people good to know those students just graduating with phds now one went to georgetown another is a teacher matthew lucky 34 aint bad "
      ],
      "text/plain": [
       "<IPython.core.display.HTML object>"
      ]
     },
     "metadata": {},
     "output_type": "display_data"
    }
   ],
   "source": [
    "output_tsl = Convert(text_df['tsl_labels'][random_indexes[index]])\n",
    "output_tsl_list = []\n",
    "for word in output_tsl:\n",
    "    output_tsl_list.append(word)\n",
    "\n",
    "if len(output_tsl_list) > 0:\n",
    "    print(output_tsl_list)\n",
    "    display(highlight_keywords(text, output_tsl_list))\n",
    "else:\n",
    "    print(\"No TSL words\")"
   ]
  },
  {
   "cell_type": "code",
   "execution_count": 18,
   "metadata": {},
   "outputs": [
    {
     "name": "stdout",
     "output_type": "stream",
     "text": [
      "ngsl recall: 25.0% \n",
      "tsl recall: 29.41%\n",
      "\n",
      "ngsl: 57 out of 228\n",
      "tsl: 5 out of 17 \n",
      "\n",
      "ngsl accuracy: 25.0% \n",
      "tsl accuracy: 29.41%\n"
     ]
    }
   ],
   "source": [
    "get_recall(output, output_ngsl_list, output_tsl_list)\n",
    "exact_get_scores(output, output_ngsl_list, output_tsl_list)"
   ]
  },
  {
   "cell_type": "markdown",
   "metadata": {},
   "source": [
    "<b> Looking at TextRank again </b>\n",
    "\n",
    "ngsl recall: 27.19% \n",
    "tsl recall: 52.94%\n",
    "\n",
    "ngsl: 62 out of 228\n",
    "tsl: 9 out of 17 \n",
    "\n",
    "ngsl accuracy: 27.19% \n",
    "tsl accuracy: 52.94%"
   ]
  },
  {
   "cell_type": "markdown",
   "metadata": {},
   "source": [
    "On the surface, it seems as textRank may perform better, but I don't think this is true. This is largely due to the systems evaluation error as of now. So because of this, its inconlusive to say which is truley better. At best, what we can look at right now is the type of words that are being outputted. "
   ]
  },
  {
   "cell_type": "code",
   "execution_count": 19,
   "metadata": {},
   "outputs": [
    {
     "name": "stdout",
     "output_type": "stream",
     "text": [
      "---------------Entry: -----------------\n"
     ]
    },
    {
     "data": {
      "text/html": [
       "one slight problem there is a difference between <b><u>assault <b><u>rifles</u></b></u></b> and <b><u>assault <b><u>weapons</u></b></u></b> an assault rifle is a <b><u>select fire shoulder weapon</u></b> chambered in an intermediate cartridge and was already regulated by the nfa as a <b><u>machine <b><u>gun</u></b></u></b> before they were even invented an assault weapon is whatever the fuck liberals in new york and california want to call it in order to make sure citizens cant have <b><u><b><u>good</u></b> <b><u>gun</u></b>s</u></b> putting your focus on arguing semantics vs broadly accepted nomenclature is not going to help anything randall munro broadly accepted doesnt mean its <b><u>correct randall munro</u></b> except thats not semantics thats <b><u>literal <b><u>legal definition</u></b></u></b> of an <b><u>assualt rifle</u></b> and <b><u>assualt weapon</u></b> can literally be anything someone deems scarey theres no <b><u>legal definition</u></b> for it at all being incorrect on <b><u>legal technicalities</u></b> doesnt help our image much either dont act like no reactionary will ever see it pick it apart and tell everyone we dont know what were doing an assault rifle has an <b><u><b><u>automatic</u></b> selector switch</u></b> it is already banned that an overlooked technicality here <b><u>marie cassandra tristani</u></b> trust me you guys are already way ahead of all the people on the <b><u>pseudosocialists pagedemocratic socialists</u></b> lol that place is a <b><u>fucking joke <b><u>assault <b><u>rifles</u></b></u></b></u></b> arent a <b><u>real thing assault rifle</u></b> is a select fire implying modes other then semi <b><u>auto such</u></b> as full or burst fire chambered in an intermediate cartridge a <b><u>semi auto rifle</u></b> is a <b><u>semi auto rifle</u></b> no matter if the barrel is threaded or if there is a bayonet lug or if the magazine is large or smallend of support the <b><u>2nd amendment</u></b> but remember <b><u>support single <b><u>action <b><u>long <b><u>gun</u></b>s</u></b></u></b></u></b> not semi <b><u>auto <b><u>long <b><u>gun</u></b>s</u></b></u></b> support <b><u>bolt action lever action</u></b> and pump <b><u>action <b><u>long <b><u>gun</u></b>s</u></b></u></b> do not support <b><u>semi <b><u>automatic</u></b> <b><u>long <b><u>gun</u></b>s</u></b> guys</u></b> imagine literally being an <b><u>incel <b><u>peter</u></b> raymond</u></b> oh is that why were a supreme force unopposed in <b><u>afghanistan <b><u>peter</u></b> raymond</u></b> lmaoo at people who think not having <b><u>weapons</u></b> is somehow a better alternativesee more <b><u>lol k <b><u>peter</u></b> raymond</u></b> the <b><u>same us military</u></b> who has been bogged down in the me for the past twenty years fighting insurgent groups with basically nothing but <b><u>small armsasymmetrical warfare</u></b> is legitimate remember when the us fought an 18 year war against <b><u>goat herders important history</u></b> timedid you know the ira averaged only 250 rounds of spent ammunition and 40 pounds spent explosive ordnance yearly during the 30 years prior to the <b><u><b><u>good</u></b> friday agreementsee more <b><u>peter</u></b> raymondcheck</u></b> out a podcast called it could happen here theres an episode detailing how a rebellion could succeed in <b><u>america <b><u>peter</u></b> raymond</u></b> your ego is showing bud you are obviously not familiar with <b><u>military tactics</u></b> or <b><u>revolutionary action</u></b> your argument is valid and has been noted but history does not align with what you are saying <b><u>revolutionary action</u></b>s take time and build up from <b><u>grassroot action bruh <b><u>peter</u></b></u></b> keeps calling everyone morons which is incredibly ironic imagine thinking the <b><u>2nd amendment</u></b> was about hunting lol you know what the only distance between a <b><u>semi<b><u>automatic</u></b> rifle</u></b> and a pistol is effective range and <b><u>rifles</u></b> require two hands to shoot and cant be concealed thats it both are equally deadly just because you are afraid of the word semi<b><u>automatic</u></b> doesnt mean its an <b><u>assault weapon pistols</u></b> are semi<b><u>automatic</u></b> too are you gonna ban them too jonathan mccowan the ira brought noone to a standstill the now threatened due to <b><u>brexit <b><u>good</u></b> friday agreement</u></b> happened because <b><u>enough ordinary people</u></b> from both sides of the divide the political orgs had seen enough bloodshed from terrorists the sometimes <b><u>murderous british army</u></b> they didnt win peace through violence despite the idiotic funding from irish americans in the previous decades i read that the <b><u>us military forces</u></b> amount to roughly 1250000 <b><u>people bruce andrew hansen</u></b> support the <b><u>1st amendment</u></b> but remember only <b><u>support nonauto refill pens</u></b> or <b><u>electronic communications support quill</u></b> and ink on paper only do not support <b><u>widespread <b><u>automatic</u></b> communications broose andrew hansen</u></b> i dont believe the <b><u>2cnd amendment</u></b> has any type of wording banning any type of weapon sorry <b><u>peter</u></b> thats an argument for citizens to have more strong and <b><u>powerful <b><u>weapons</u></b></u></b> not less of them i do believe the government would bomb its own people but if they plan on winning theyll still need the infrastructure to maintain some semblance of sanity among those that didnt rise up sometimes <b><u>murderous british army</u></b> ha understatement of the <b><u>fucking year broose broose</u></b> imagine trying suppress the right of the workers to secure themselves from the bourgeois with an <b><u>effective firearm anthony plisko broose</u></b> broose im a communist as left as they come ill tell you right now this is an idiotic take the solution isnt to ban the <b><u>weapons</u></b> but the calibres the 556x45mm bullet is a <b><u>military cartridge</u></b> that has no function in either home defense or hunting designed to be lightweight enough to allow fully <b><u><b><u>automatic</u></b> fire</u></b> but still <b><u>lethal hell one</u></b> see more these comments litteraly gave men an aneurism wasnt it reagan that started the <b><u>assault rifle ban</u></b> and was against civilians having <b><u>ar15 type <b><u>weapons</u></b></u></b> not that it matters to the wealthyas long as youve got the money and a cleanrecord you can get the tax stamp for any firearmi know guys wfully <b><u>automatic</u></b> mp5sour firearms laws need overhaul from stem to <b><u>stern starting wfirearms safety education</u></b> being mandatory in schools ahhh so if im shot and notice no bayonet lug i can relax knowing how much worse my bleeding would be if it was an assault rifle pointing this out may just lead to canada style bans its frustrating seems a <b><u>firearms class</u></b> would really help lawmakers showing ballistics of rounds teaching capabilities range time with <b><u>shot<b><u>gun</u></b>s auto snub</u></b> over under standard subs <b><u>rifles</u></b> <b><u>long <b><u>gun</u></b>s</u></b> rimfirecenter firewheel pistols and then show them jerry msee more i cant tell if this is satire all of the <b><u>essential things</u></b> that make an assault rifle are maintained im not saying i disagree with the premise but you cant tell me there is a fundemental difference between an m16 and an ar15 now we are getting somewhere while we are literally filling concentration camps seems an incredibly odd time to pass any sort of <b><u><b><u>gun</u></b> control legislation</u></b> whats the functionality difference between a threaded and non threaded barrel aint it grand how current talk is focused on armalite and kalashnikov but no mention of the <b><u>other major companies</u></b> that produce far <b><u>better job security</u></b> for the <b><u>undertakertake barrett arms</u></b> even though its a 50 <b><u>cal antimaterial rifle producer</u></b> just about all of their <b><u>weapons</u></b> would not be classified as <b><u>assault <b><u>weapons</u></b></u></b> under the terms above amen as long as it fires rounds at indecent rate its a <b><u><b><u>good</u></b> deterrent</u></b> for wouldbe attackersand hey if you guys are after some <b><u>lighthearted <b><u>good</u></b> fun</u></b> maaaaybe come like this page its run by some lefties and its 100 worker friendly see more this is why i favor applying the <b><u><b><u>machine <b><u>gun</u></b></u></b> act approach</u></b> to everything that can hold more than 6 rounds the ma has been around for many decades and collectorsreenactors can still get a bar or something if they want but nobodys been getting killed with them dont ban the <b><u>gun</u></b> then ban the ammunition make it so you can only buy ammunition at <b><u>licensed target ranges</u></b> and youre not allowed to take the ammunition home any weapon not capable of selective fire is ipso facto not an assault rifle lacking one of the defining features of the category dont forget the pistol grip makes it a lot more deadly if you live in ny bayonets are pretty cool though i like spears spears are <b><u>good</u></b> i did not know this before i saw thisthanks for the education naw i dont agree with this <b><u>large capacity magazine bans</u></b> definitely save lives expect awb 20 to just ban <b><u>semi<b><u>automatic</u></b> rifle</u></b>sand expect the next evolution of the ar pattern to allow you to cock it with your thumb or something like that this is what a <b><u>legal ar15</u></b> looks like with an <b><u><b><u>assault <b><u>weapons</u></b></u></b> ban</u></b> still shoots the same just less comfortable to hold no <b><u>such thing full auto semiauto</u></b> or <b><u>single fire</u></b> the suppressor ban has somehow kept mass shooters loud though here you go kevin gilbert these are the types i associate with you forget the 3 round burst to fully auto they wanna ban both and confiscate all that are already out there <b><u>eric knabe austin</u></b> rose ill take my 12ga with a 35 in buck over these toys any day this all assumes theyd call an assault rifle the <b><u>same thing</u></b> as the old banthat said i really dont see any <b><u>particular weapon ban</u></b> working when almost any other kind of firearm would be just as effectivesee more thats not true you can limit it to just <b><u>single action <b><u>rifles</u></b></u></b> and not 30 <b><u>round clips combat</u></b> <b><u>rifles</u></b> like ars arent the same as simple hunting <b><u>rifles</u></b> roberto acquafredda also pick up your shit while you still can extended <b><u>mag bans</u></b> almost always come first when did all these <b><u><b><u>gun</u></b> grabbers</u></b> start following this page if its such an issue to you then move to freaking canada where owning a firearm is not a constitutional rightdont try to abolish that right here just because you think its <b><u>acceptable fosee more</u></b> fixed this for you so my rifle will be <b><u>worth more money thanks</u></b> dumbocrats the majority of the <b><u>population supports</u></b> banning them left <b><u>slanted polling shows</u></b> about 75 the <b><u>recent polling</u></b> from fox news obviously right slanted shows 66 in favor of a <b><u>new permanent awb</u></b> i sort of assume but does anyone know if the 3 who own half of all <b><u>gun</u></b>s 8 or more each person are mostly or all white supremacists forgets selective fire is the main definition of an assault rifle 2019 <b><u><b><u>assault <b><u>weapons</u></b></u></b> ban</u></b> billhttps <b><u>chris brian swientek</u></b> confirm its an assault weapon built for 1 thing only kill lots of people very quickly the <b><u>only difference</u></b> between the civilian and <b><u>military m16</u></b> is the switch to <b><u>full <b><u>automatic</u></b></u></b> its like letting anyone drive a semi truck or passenger bus without training dead schoolchildren the price we pay so some smalldicked boy can prance around playing <b><u>scary army man enlist u pussy</u></b> oh yea that shoot back pussys the awb did little but drive innovation in the <b><u>firearms market</u></b> heres an example the olympic oa96https so just out of curiosity what exactly does a threaded barrel do new to this page and am genuinely <b><u>curious ben<b><u>machine <b><u>gun</u></b></u></b> assault rifle <b><u>weapons</u></b></u></b> liberalised false story"
      ],
      "text/plain": [
       "<IPython.core.display.HTML object>"
      ]
     },
     "metadata": {},
     "output_type": "display_data"
    },
    {
     "name": "stdout",
     "output_type": "stream",
     "text": [
      "\n",
      "\n",
      "---------------Entry: -----------------\n"
     ]
    },
    {
     "data": {
      "text/html": [
       "reetesh whats with that mischievous smile uh huh im about 100 sure im smirking at you maam <b><u>reetesh ada paavi fb liye wa</u></b>"
      ],
      "text/plain": [
       "<IPython.core.display.HTML object>"
      ]
     },
     "metadata": {},
     "output_type": "display_data"
    },
    {
     "name": "stdout",
     "output_type": "stream",
     "text": [
      "\n",
      "\n",
      "---------------Entry: -----------------\n"
     ]
    },
    {
     "data": {
      "text/html": [
       "yeah <b><u>taco taco enchilada narcotrfico lmmfao</u></b> yeah he sounds <b><u>likeall rich white dudes</u></b> in politics insulting to actual banditos tbh curtis vomits in mouth cheeto resigned lady groping is probably the most egregious phrase in this attempted murder of democracyyou forgot fascism fucking epic surely this will stop donald trump barf the <b><u>resistances propaganda sure mongers sheer terror</u></b> into the <b><u>readers heart sigh</u></b> there actually was a <b><u>dorito bandito</u></b> who is this drumpfter guy any ways"
      ],
      "text/plain": [
       "<IPython.core.display.HTML object>"
      ]
     },
     "metadata": {},
     "output_type": "display_data"
    },
    {
     "name": "stdout",
     "output_type": "stream",
     "text": [
      "\n",
      "\n",
      "---------------Entry: -----------------\n"
     ]
    },
    {
     "data": {
      "text/html": [
       "such waivers should only be legally valid if offcampus telecommute remains availablea contract you are forced to sign should have no value 3 my wife is back working at university in a <b><u>few weeks students</u></b> from all over the world will be crowded together but hey she got a <b><u>huge raise</u></b> 10 an hour now who wouldnt risk covid19 for the <b><u>big bucks</u></b>"
      ],
      "text/plain": [
       "<IPython.core.display.HTML object>"
      ]
     },
     "metadata": {},
     "output_type": "display_data"
    },
    {
     "name": "stdout",
     "output_type": "stream",
     "text": [
      "\n",
      "\n",
      "---------------Entry: -----------------\n"
     ]
    },
    {
     "data": {
      "text/html": [
       "i remember my <b><u>first <b><u><b><u><b><u>student</u></b> eval</u></b>uations</u></b></u></b> 1 <b><u><b><u>more</u></b> short skirts</u></b> 2 your hair looks so much better down 3 the psych building is too far away from my dorm room i decided at this point that <b><u><b><u><b><u>student</u></b> eval</u></b>uations</u></b> are not the definitive critique of my teaching see <b><u>more</u></b> <b><u>kristy m keefe</u></b> my <b><u>first semester teaching</u></b> i got two comments saying to wear less clothes as a <b><u>new instructor</u></b> this was not what i was expecting and not helpful in how i could improve as an educator sadly this may have been the first time i received comments about my appearance but it was not the last ugh thats <b><u>sexual harassment</u></b> i got one saying someone should make a calendar with pictures of my sexy butt literally <b><u>kristy m keefe</u></b> i had the opposite for the hair my hair is long and i always wear it down <b><u>student</u></b> said that i either needed to cut my hair or wear it in a bun because long hair is <b><u>unprofessional <b><u>student</u></b>s</u></b> will reach for anything when they want to be negative one time a <b><u>student</u></b> asked me a question about the midterm and i said i hadnt finished it yet they mentioned that in my <b><u>rmp rating lol</u></b> like they never procrastinate <b><u>amanda carroll</u></b> were you tempted to clap back with do you mean fewer these sites are just <b><u>nonsense appalling levels</u></b> of <b><u>sexual harassment</u></b> and not just against women ive known <b><u>male teachers</u></b> have similarly <b><u>inappropriate comments</u></b> posted <b><u>kristy m keefe</u></b> for <b><u>sure amanda greubel</u></b> nope i have also had some wonderfully <b><u>thoughtful comments</u></b> about my courses ill take the bad with the <b><u><b><u>good</u></b> angry <b><u>people</u></b></u></b> en <b><u>route joshua shinn</u></b> how dare youim not angry i just hate to disappoint anyone being a <b><u><b><u>good</u></b> prof</u></b> doesnt hurt either <b><u>michael w hitch</u></b> i had this one <b><u>professor</u></b> back in my college days that was without a doubt the <b><u>best <b><u>professor</u></b></u></b> i ever had his rmp ratings were trashed because he wasnt an easy a a lot of us couldnt believe it because we loved him and he asked if wsee <b><u>more</u></b> <b><u><b><u>michael w hitch</u></b> dude</u></b> it doesnt matter for some of us christ being a <b><u><b><u><b><u>good</u></b> prof</u></b>essor</u></b> has nothing to do with <b><u><b><u>good</u></b> evaluations</u></b> and i would go so far to say that the <b><u>effective <b><u>professor</u></b></u></b> does not get <b><u><b><u>good</u></b> <b><u>review</u></b>s</u></b> do be glib though woosh my <b><u>teaching <b><u>review</u></b>s</u></b> like my <b><u>article <b><u>review</u></b>s</u></b> fell neatly into thirds one third fantastic no improvement needed one third ok but one third who let this idiot leave his village i suffered a bit because my <b><u>undergrad subject</u></b> was a demanding see <b><u>more</u></b> the person paying for the service should be the one to decide how that service should be evaluatedif they want to judge it on <b><u>financial merit</u></b> or <b><u>educational merit</u></b> or <b><u>social merit</u></b> its up to them see <b><u><b><u>more</u></b> stephen cooper</u></b> setting aside the sneer in your comment my point was of course that the principle of having ones teaching evaluated is fine but the execution ends up failing its purpose i doubt that <b><u>such evaluations</u></b> are even a <b><u><b><u>good</u></b> test</u></b> of the studsee <b><u>more</u></b> my favorite criticism from a <b><u>student</u></b> on rmp every <b><u>other <b><u>professor</u></b></u></b> wants you to succeed she only cares about how much you learn the rest of the <b><u>review</u></b> made clear that success was just about a specific letter grade<b><u><b><u>student</u></b> eval</u></b>s usually tell us <b><u>more</u></b> about <b><u>student</u></b>s than about teachers my favorite criticism on a <b><u><b><u>student</u></b> eval</u></b> she doesnt teach us the content she expects us to learn it ourselves apparently the fact that i dont lecture from the text and expect them to come to class having done the reading and prepared to engage in discussion and activities isnt <b><u><b><u>good</u></b> teaching _</u></b> no kiddinyou mean a popularity contest turns out to be like a popularity contest ill be damned youre not wrong tenure attractive any day promote these large nostrils and <b><u>heavy baggaged eyes</u></b> please i wont lie the chili peppers are from my nephews should i remind that correlation does not mean causation innokenty kantor you seem to assume that universities hire <b><u>more</u></b> poorly qualified non<b><u>white</u></b> nonmales over <b><u>better qualified <b><u>white</u></b> males</u></b> whereas in reality the whole point of diversity practices in hiring is to mitigate bias against <b><u>people</u></b> who are <b><u>more</u></b>see <b><u>more</u></b> <b><u>innokenty kantor thanks</u></b> for explaining my comment for me yes because being male or <b><u>white</u></b> has never been shown to be the <b><u>direct cause</u></b> of very tangible privileges the way some of you do mental gimnastics to avoid having to face <b><u>bias jacq jones</u></b> not at all i think it is the opposite those who think that any disproportion is a result of bias or discrimination are just burying their heads in sand because they dont like the implications ransell dsouza he was trying to write of course in his comment over and over again but it kept coming out as of <b><u>cause notice</u></b> he also replaced the word hire with high its probably a combination of using autocorrect and a complete lack of proof innokenty kantor unless you are already hiring <b><u>inferior candidates</u></b> who happen to fit your <b><u>bias eg <b><u><b><u>white</u></b> men</u></b></u></b> in which case expanded the range of <b><u>people</u></b> you consider will enhance the quality of your hires whats of cause innokenty kantor yes its nice apologies for not getting reference id love to see this extended to include <b><u>racial bias</u></b> because sadly i think this would be even <b><u>more</u></b> pronounced and the weighting often put on these for tenure is problematic at <b><u>best innokenty kantor</u></b> there seems to be a strong correlation that <b><u><b><u>white</u></b> men</u></b> dont believe academia is sexist and racist backed up by <b><u>several studies</u></b> seems to point to a causality of their fear of losing status in a field biased towards them the most laughable part is the assumption that universities hire the <b><u>best candidate</u></b> rather than the one that most closely matches their existing culture which is really just code for biases towards wht they think <b><u>ideal candidates</u></b> are like and the <b><u>dsee <b><u>more</u></b> issues</u></b> with the methodology but not news i dont even look any<b><u>more</u></b> you must not be an adjunct i dont want to look but have to submit them for the ten jobs i apply to every year well i get three out of four thats how i do it wait there are adults who actually care about whats written on ratemy<b><u>professor</u></b> no of you should ever under any circumstances read rate my <b><u>professor</u></b> no <b><u>good</u></b> comes of it and i firmly believe there should be a rate my <b><u><b><u>student</u></b> site</u></b> mirrors typical life i dont bother with the <b><u>actual university evaluations</u></b> let alone this garbage ditto especially after reading a rape fantasy i hope you reported that bob borrelli why so they can all laugh about it pick up <b><u>lines graphic sexual fantasies sexual assault</u></b> and notes like pretty sure i found your house were totally ignored tashana this kind of stuff always makes me think of you you brought it to our attention years ago <b><u>white</u></b> yes male no <b><u>tenured hahaha attractive</u></b> um <b><u>brenna e culbert</u></b> my <b><u>favorite comment</u></b> on rmp was she has a lot of patience even with the <b><u>stupid question <b><u>people</u></b> amanda evert</u></b> they repeated your <b><u>study sarina kilham thanks</u></b> adding it to my stockpile of <b><u>evidence hadil ghoneim</u></b> here you go im attractive though <b><u>white</u></b> yes male yes tenured no attractive not really my rmp ratings still suck although i have a <b><u>few <b><u>good</u></b> ones</u></b> jess moore the most <b><u>frequent descriptor <b><u>people</u></b></u></b> use for me is boring that one cuts me to my soul im <b><u>fun brian paul</u></b> i agree and my ratings are largely <b><u>good</u></b> and even the <b><u>negative ones</u></b> are <b><u>worthwhile brian paul</u></b> i just got a <b><u>bad <b><u>review</u></b></u></b> for giving too much work for a minimester class im not even sure how to take that am i supposed to assign <b><u>less work</u></b> during a minimester i was told youre supposed to offer the same amount as a regular semester but now i wonder about that aurora le well <b><u>shit ami sedani new study</u></b> <b><u>more</u></b> like duh <b><u>lol lisa parker lebovitz daniel malcom thanks</u></b> ive got to get back to the data i think we can refute this maybe the <b><u>young <b><u>white</u></b> male faculty</u></b> arent as attractive to <b><u>student</u></b>s in pharmacy as in <b><u>humanities francesca bosisio</u></b> my favourite bit of feedback received from a <b><u>student</u></b> who scored my course a 0please can there be better references not of those written ages ago when they used <b><u>sophisticated words</u></b>cause who comes to university to learn <b><u>sophisticated words</u></b> lets <b><u>usee <b><u>more</u></b> harry green brilliant bob borrelli</u></b> yeah fuck that guy and his <b><u>sophisticated words</u></b> d who literally invented meteorology hey can you link the math paper using emoji that would be awesome and id like to read itthis is a <b><u>good</u></b> one about emoji but its not written in it though it has some examples of retelling https well i am an <b><u>unattractive <b><u>white</u></b> female</u></b> and get <b><u>great <b><u>review</u></b>s</u></b> and teach a subject that is considered hard perhaps it would be profitable to spend some time studying statistics you fulfill one of the categories then <b><u>good</u></b>foryou i see you dont understand how studies work a study never reports that in 100 of cases this happens and in 0 of cases this happened if that were true providing one <b><u>contrary story</u></b> would be enough to destroy the findings of the studystudies look at the way things tend to be maybe <b><u>people</u></b> who fulfill certain criteria are <b><u>more</u></b> likely to get <b><u>positive <b><u>review</u></b>s</u></b> but its not a guarantee one way or the other still funny race and gender are less important than <b><u>attractiveness <b><u>student</u></b> interest</u></b> and discipline but the first two features in the headline is <b><u>white</u></b> and male stop contradicting the facts with your <b><u>divisive ideology <b><u>juan trucupey</u></b> cool story bro catherine glass</u></b> its easy to laugh when youre the <b><u>beneficiary <b><u>juan trucupey</u></b></u></b> thats not contradicting facts its emphasising some things that the study found <b><u>more</u></b> than others but i bet the standard of attractiveness and gender interact as well juan yes its all propaganda its not like theyre just pointing out the most interesting conclusions of the study rather than the <b><u>obvious ones <b><u>student</u></b> interest</u></b> in the subject influences <b><u><b><u>professor</u></b> ratings</u></b> really <b><u>juan trucupey</u></b> youre the one who is claiming that it is sexist against males to imply that gender affects ratings before listing a <b><u><b><u>student</u></b>s interest</u></b> in the <b><u>subject matter</u></b> i never said that so your complaint that im contradicting myself is <b><u>wrong isee <b><u>more</u></b> propaganda</u></b> lol i literally have had <b><u>female <b><u>student</u></b>s</u></b> look for profs who are called a bitch it apparently means something different to <b><u><b><u>people</u></b> <b><u>good</u></b></u></b> to know those <b><u>student</u></b>s just graduating with phds now one went to georgetown another is a <b><u>teacher matthew lucky</u></b> 34 aint bad "
      ],
      "text/plain": [
       "<IPython.core.display.HTML object>"
      ]
     },
     "metadata": {},
     "output_type": "display_data"
    },
    {
     "name": "stdout",
     "output_type": "stream",
     "text": [
      "\n",
      "\n"
     ]
    }
   ],
   "source": [
    "#textRank\n",
    "generate_all_outputs_tr(text_df, random_indexes)"
   ]
  },
  {
   "cell_type": "code",
   "execution_count": 20,
   "metadata": {},
   "outputs": [
    {
     "name": "stdout",
     "output_type": "stream",
     "text": [
      "---------------Entry: -----------------\n"
     ]
    },
    {
     "data": {
      "text/html": [
       "one slight problem there is a <b><u>difference</u></b> between <b><u>assault rifles</u></b> and <b><u>assault weapons</u></b> an assault rifle is a <b><u>select fire shoulder weapon</u></b> chambered in an <b><u>intermediate cartridge</u></b> and was already regulated by the nfa as a <b><u>machine gun</u></b> before they were even invented an assault weapon is whatever the fuck liberals in <b><u>new york</u></b> and california want to call it in order to make <b><u>sure citizens</u></b> cant have good guns putting your focus on arguing <b><u>semantics</u></b> vs broadly accepted no<b><u>men</u></b>clature is not going to help anything <b><u>randall munro</u></b> broadly accepted doesnt mean its correct <b><u>randall munro</u></b> except thats not <b><u>semantics</u></b> thats <b><u>literal legal definition</u></b> of an <b><u>assualt rifle</u></b> and assualt weapon can literally be anything someone deems scarey theres no legal definition for it at all being incorrect on <b><u>legal technicalities</u></b> doesnt help our image much either dont act like no reactionary will ever see it pick it apart and tell everyone we dont know what were doing an assault rifle has an <b><u>automatic selector switch</u></b> it is already banned that an overlooked technicality here marie cassandra tristani trust me you <b><u>guys</u></b> are already way ahead of all the <b><u>people</u></b> on the pseudosocialists <b><u>page</u></b>democratic socialists lol that place is a fucking joke <b><u>assault rifles</u></b> arent a real thing assault rifle is a select fire implying modes other then semi auto such as <b><u>full</u></b> or burst fire chambered in an <b><u>intermediate cartridge</u></b> a semi auto rifle is a semi auto rifle no matter if the <b><u>barrel</u></b> is <b><u>threaded</u></b> or if there is a <b><u>bayonet lug</u></b> or if the magazine is <b><u>large</u></b> or <b><u>smallend</u></b> of <b><u>support</u></b> the <b><u>2nd a<b><u>men</u></b>d<b><u>men</u></b>t</u></b> but remember <b><u><b><u>support</u></b> single action long guns</u></b> not semi auto long guns <b><u>support</u></b> bolt action lever action and pump action long guns do not <b><u>support</u></b> semi automatic long guns <b><u>guys</u></b> imagine literally being an <b><u>incel peter raymond</u></b> oh is that why were a supreme force unopposed in afghanistan peter raymond lmaoo at <b><u>people</u></b> who think not having weapons is somehow a better alternativesee more lol k peter raymond the same us military who has been bogged down in the me for the past twenty <b><u>years</u></b> fighting insurgent groups with basically nothing but small armsasymmetrical warfare is legitimate remember when the us fought an 18 year war against goat herders important history <b><u>time</u></b>did you know the <b><u>ira</u></b> averaged only 250 <b><u>rounds</u></b> of spent <b><u>ammunition</u></b> and 40 pounds spent explosive ordnance yearly during the 30 <b><u>years</u></b> prior to the good friday agree<b><u>men</u></b>tsee more peter raymondcheck out a podcast called it could happen here theres an episode detailing how a rebellion could succeed in america peter raymond your <b><u>ego</u></b> is showing bud you are obviously not <b><u>familiar</u></b> with <b><u>military tactics</u></b> or <b><u>revolutionary action</u></b> your <b><u>argu<b><u>men</u></b>t</u></b> is valid and has been noted but history does not align with what you are saying <b><u>revolutionary action</u></b>s take <b><u>time</u></b> and build up from grassroot action bruh peter keeps calling everyone morons which is incredibly ironic imagine thinking the <b><u>2nd a<b><u>men</u></b>d<b><u>men</u></b>t</u></b> was about <b><u>hunting</u></b> lol you know what the only distance between a <b><u>semiautomatic rifle</u></b> and a <b><u>pistol</u></b> is <b><u>effective range</u></b> and rifles require two hands to shoot and cant be concealed thats it both are equally <b><u>deadly</u></b> just because you are afraid of the <b><u>word semiautomatic</u></b> doesnt mean its an assault weapon <b><u>pistol</u></b>s are semiautomatic too are you gonna ban them too <b><u>jonathan mccowan</u></b> the <b><u>ira</u></b> brought <b><u>noone</u></b> to a <b><u>standstill</u></b> the now threatened <b><u>due</u></b> to <b><u>brexit good friday agree<b><u>men</u></b>t</u></b> happened because enough ordinary <b><u>people</u></b> from both <b><u>sides</u></b> of the <b><u>divide</u></b> the <b><u>political orgs</u></b> had seen <b><u>enough bloodshed</u></b> from <b><u>terrorists</u></b> the some<b><u>time</u></b>s <b><u>murderous british army</u></b> they didnt win <b><u>peace</u></b> through <b><u>violence</u></b> despite the <b><u>idiotic funding</u></b> from <b><u>irish americans</u></b> in the <b><u>previous decades</u></b> i read that the us military forces amount to roughly 1250000 <b><u>people</u></b> bruce andrew hansen <b><u>support</u></b> the 1st a<b><u>men</u></b>d<b><u>men</u></b>t but remember only <b><u>support</u></b> <b><u>non</u></b>auto refill pens or electronic communications <b><u>support</u></b> quill and ink on paper only do not <b><u>support</u></b> widespread automatic communications broose andrew hansen i dont believe the 2cnd a<b><u>men</u></b>d<b><u>men</u></b>t has any <b><u>type</u></b> of wording banning any <b><u>type</u></b> of weapon sorry peter thats an <b><u>argu<b><u>men</u></b>t</u></b> for citizens to have more <b><u>strong</u></b> and powerful weapons not less of them i do believe the govern<b><u>men</u></b>t would bomb its own <b><u>people</u></b> but if they plan on winning theyll still need the infrastructure to maintain some semblance of sanity among those that didnt rise up some<b><u>time</u></b>s <b><u>murderous british army</u></b> ha understate<b><u>men</u></b>t of the fucking year broose broose imagine trying <b><u>suppress</u></b> the <b><u>right</u></b> of the <b><u>workers</u></b> to secure themselves from the bourgeois with an effective firearm anthony plisko broose broose im a communist as left as they come ill tell you <b><u>right</u></b> now this is an idiotic take the solution isnt to ban the weapons but the <b><u>calibres</u></b> the 556x45mm bullet is a military cartridge that has no function in either <b><u>home defense</u></b> or <b><u>hunting</u></b> designed to be lightweight enough to allow <b><u>full</u></b>y <b><u>automatic fire</u></b> but still lethal hell one see more these com<b><u>men</u></b>ts litteraly gave <b><u>men</u></b> an <b><u>aneurism</u></b> wasnt it reagan that started the assault rifle ban and was against <b><u>civilians</u></b> having <b><u>ar15</u></b> <b><u>type</u></b> weapons not that it matters to the wealthyas long as youve got the money and a cleanrecord you can get the <b><u>tax stamp</u></b> for any <b><u>firearmi</u></b> know <b><u>guys</u></b> w<b><u>full</u></b>y automatic mp5sour firearms <b><u>laws</u></b> need <b><u>overhaul</u></b> from <b><u>stem</u></b> to <b><u>stern starting wfirearms safety education</u></b> being <b><u>mandatory</u></b> in <b><u>schools</u></b> ahhh so if im shot and notice no <b><u>bayonet lug</u></b> i can relax knowing how much worse my bleeding would be if it was an assault rifle pointing this out may just lead to <b><u>canada style</u></b> bans its frustrating seems a <b><u>firearms class</u></b> would really help <b><u>lawmakers</u></b> showing <b><u>ballistics</u></b> of <b><u>rounds</u></b> teaching <b><u>capabilities</u></b> range <b><u>time</u></b> with <b><u>shotguns auto snub</u></b> over under <b><u>standard subs</u></b> rifles long guns rimfirecenter firewheel <b><u>pistol</u></b>s and then show them jerry msee more i cant tell if this is satire all of the <b><u>essential things</u></b> that make an assault rifle are maintained im not saying i disagree with the premise but you cant tell me there is a funde<b><u>men</u></b>tal <b><u>difference</u></b> between an <b><u>m16</u></b> and an <b><u>ar15</u></b> now we are getting somewhere while we are literally filling concentration camps seems an incredibly odd <b><u>time</u></b> to pass any sort of <b><u>gun control legislation</u></b> whats the functionality <b><u>difference</u></b> between a <b><u>threaded</u></b> and <b><u>non</u></b> <b><u>threaded</u></b> <b><u>barrel</u></b> aint it <b><u>grand</u></b> how <b><u>current talk</u></b> is focused on <b><u>armalite</u></b> and <b><u>kalashnikov</u></b> but no <b><u>men</u></b>tion of the other major companies that produce far better job security for the undertakertake barrett arms even though its a 50 cal antimaterial rifle producer just about all of their weapons would not be classified as <b><u>assault weapons</u></b> under the terms above a<b><u>men</u></b> as long as it fires <b><u>rounds</u></b> at indecent rate its a <b><u>good deterrent</u></b> for wouldbe attackersand hey if you <b><u>guys</u></b> are after some lighthearted good fun maaaaybe come like this <b><u>page</u></b> its run by some lefties and its 100 worker friendly see more this is why i favor applying the <b><u>machine gun</u></b> act approach to everything that can hold more than 6 <b><u>rounds</u></b> the ma has been around for many decades and collectorsreenactors can still get a bar or something if they want but nobodys been getting killed with them dont ban the gun then ban the <b><u>ammunition</u></b> make it so you can only buy <b><u>ammunition</u></b> at licensed target ranges and youre not allowed to take the <b><u>ammunition</u></b> home any weapon not capable of selective fire is ipso facto not an assault rifle lacking one of the defining features of the cat<b><u>ego</u></b>ry dont forget the <b><u>pistol</u></b> grip makes it a <b><u>lot</u></b> more <b><u>deadly</u></b> if you live in ny bayonets are pretty cool though i like spears spears are good i did not know this before i saw thisthanks for the education naw i dont agree with this <b><u>large</u></b> capacity magazine bans definitely save lives expect <b><u>awb</u></b> 20 to just ban <b><u>semiautomatic rifle</u></b>sand expect the next evolution of the <b><u>ar pattern</u></b> to allow you to cock it with your thumb or something like that this is what a legal <b><u>ar15</u></b> looks like with an <b><u>assault weapons</u></b> ban still shoots the same just less comfortable to hold no such thing <b><u>full</u></b> auto semiauto or single fire the <b><u><b><u>suppress</u></b>or ban</u></b> has somehow kept mass shooters loud though here you go kevin gilbert these are the <b><u>type</u></b>s i associate with you forget the 3 round burst to <b><u>full</u></b>y auto they wanna ban both and confiscate all that are already out there eric knabe austin rose ill take my 12ga with a 35 in buck over these toys any day this all assumes theyd call an assault rifle the same thing as the old banthat said i really dont see any particular weapon ban working when almost any other kind of firearm would be just as effectivesee more thats not true you can limit it to just single action rifles and not 30 round clips combat rifles like ars arent the same as simple <b><u>hunting</u></b> rifles roberto acquafredda also pick up your shit while you still can extended mag bans almost always come first when did all these gun grabbers start following this <b><u>page</u></b> if its such an issue to you then move to freaking canada where owning a firearm is not a constitutional <b><u>right</u></b>dont try to abolish that <b><u>right</u></b> here just because you think its acceptable fosee more fixed this for you so my rifle will be worth more money thanks dumbocrats the majority of the population <b><u>support</u></b>s banning them left slanted polling shows about 75 the recent polling from fox news obviously <b><u>right</u></b> slanted shows 66 in favor of a new permanent <b><u>awb</u></b> i sort of assume but does anyone know if the 3 who own half of all guns 8 or more each person are mostly or all white supremacists forgets selective fire is the main definition of an assault rifle 2019 <b><u>assault weapons</u></b> ban billhttps chris brian swientek confirm its an assault weapon built for 1 thing only kill <b><u>lot</u></b>s of <b><u>people</u></b> very quickly the only <b><u>difference</u></b> between the civilian and military <b><u>m16</u></b> is the switch to <b><u>full</u></b> automatic its like letting anyone drive a semi truck or passenger bus without training dead schoolchildren the price we pay so some smalldicked boy can prance around playing scary army man enlist u pussy oh yea that shoot back pussys the <b><u>awb</u></b> did little but drive innovation in the firearms market heres an example the olympic oa96https so just out of curiosity what exactly does a <b><u>threaded</u></b> <b><u>barrel</u></b> do new to this <b><u>page</u></b> and am genuinely curious ben<b><u>machine gun</u></b> assault rifle weapons liberalised false story"
      ],
      "text/plain": [
       "<IPython.core.display.HTML object>"
      ]
     },
     "metadata": {},
     "output_type": "display_data"
    },
    {
     "name": "stdout",
     "output_type": "stream",
     "text": [
      "\n",
      "\n",
      "---------------Entry: -----------------\n"
     ]
    },
    {
     "data": {
      "text/html": [
       "reetesh whats with that <b><u>mischievous smile</u></b> uh huh im about 100 sure im smirking at you maam reetesh ada paavi fb liye wa"
      ],
      "text/plain": [
       "<IPython.core.display.HTML object>"
      ]
     },
     "metadata": {},
     "output_type": "display_data"
    },
    {
     "name": "stdout",
     "output_type": "stream",
     "text": [
      "\n",
      "\n",
      "---------------Entry: -----------------\n"
     ]
    },
    {
     "data": {
      "text/html": [
       "yeah taco taco enchilada narcotrfico lmmfao yeah he sounds likeall rich white dudes in politics insulting to <b><u>actual banditos</u></b> tbh curtis vomits in <b><u>mouth cheeto</u></b> resigned lady groping is probably the most egregious phrase in this attempted <b><u>murder</u></b> of <b><u>democracyyou</u></b> forgot <b><u>fascism</u></b> fucking epic surely this will stop donald trump barf the resistances propaganda sure mongers sheer terror into the readers heart sigh there actually was a dorito bandito who is this drumpfter guy any ways"
      ],
      "text/plain": [
       "<IPython.core.display.HTML object>"
      ]
     },
     "metadata": {},
     "output_type": "display_data"
    },
    {
     "name": "stdout",
     "output_type": "stream",
     "text": [
      "\n",
      "\n",
      "---------------Entry: -----------------\n"
     ]
    },
    {
     "data": {
      "text/html": [
       "such waivers should only be legally valid if <b><u>offcampus telecommute</u></b> remains <b><u>availablea contract</u></b> you are forced to sign should have no value 3 my <b><u>wife</u></b> is back working at university in a few weeks students from all over the world will be crowded together but hey she got a huge raise 10 an hour now who wouldnt risk covid19 for the big bucks"
      ],
      "text/plain": [
       "<IPython.core.display.HTML object>"
      ]
     },
     "metadata": {},
     "output_type": "display_data"
    },
    {
     "name": "stdout",
     "output_type": "stream",
     "text": [
      "\n",
      "\n",
      "---------------Entry: -----------------\n"
     ]
    },
    {
     "data": {
      "text/html": [
       "i remember my <b><u>first student evaluations</u></b> 1 more short skirts 2 your <b><u>hair</u></b> looks so <b><u>much</u></b> <b><u>better</u></b> down 3 the psych building is too far a<b><u>way</u></b> from my dorm room i decided at this <b><u>point</u></b> that student evaluations are not the definitive critique of my <b><u>teaching</u></b> see more kristy m keefe my <b><u>first semester <b><u>teaching</u></b></u></b> i got two <b><u>comments</u></b> saying to wear less c<b><u>lot</u></b>hes as a new instructor this was not what i was expecting and not helpful in how i could improve as an <b><u>educator</u></b> sadly this may have been the first <b><u>time</u></b> i received <b><u>comments</u></b> about my appearance but it was not the last ugh thats <b><u>sexual harassment</u></b> i got one saying someone should make a calendar with pictures of my sexy butt literally kristy m keefe i had the <b><u>opposite</u></b> for the <b><u>hair</u></b> my <b><u>hair</u></b> is long and i al<b><u>way</u></b>s wear it down student said that i either needed to cut my <b><u>hair</u></b> or wear it in a bun because long <b><u>hair</u></b> is unprofessional students will reach for anything when they want to be <b><u>negative</u></b> one <b><u>time</u></b> a student asked me a question about the midterm and i said i hadnt finished it yet they mentioned that in my <b><u>rmp rating lol</u></b> like they never procrastinate amanda carroll were you tempted to clap back with do you mean fewer these <b><u>sites</u></b> are just nonsense appalling levels of <b><u>sexual harassment</u></b> and not just against women ive known <b><u>male <b><u>teachers</u></b></u></b> have similarly inappropriate <b><u>comments</u></b> posted kristy m keefe for <b><u>sure amanda greubel</u></b> nope i have also had some wonderfully thoughtful <b><u>comments</u></b> about my <b><u>courses</u></b> ill take the <b><u>bad</u></b> with the <b><u>good angry people</u></b> en <b><u>route joshua shinn</u></b> how dare youim not angry i just hate to disap<b><u>point</u></b> anyone being a <b><u>good prof</u></b> doesnt hurt either michael w hitch i had this one <b><u>professor</u></b> back in my <b><u>college days</u></b> that was without a doubt the best <b><u>professor</u></b> i ever had his rmp ratings were trashed because he wasnt an <b><u>easy</u></b> a a <b><u>lot</u></b> of us couldnt believe it because we loved him and he asked if wsee more michael w hitch dude it doesnt matter for some of us christ being a good <b><u>professor</u></b> has nothing to do with <b><u>good evaluations</u></b> and i would go so far to say that the effective <b><u>professor</u></b> does not get <b><u>good reviews</u></b> do be glib though woosh my <b><u>teaching</u></b> reviews like my article reviews fell neatly into <b><u>thirds</u></b> one third fantastic no <b><u>improvement</u></b> needed one third ok but one third who let this idiot leave his village i suffered a <b><u>bit</u></b> because my <b><u>undergrad subject</u></b> was a demanding see more the person paying for the <b><u>service</u></b> should be the one to decide how that <b><u>service</u></b> should be evaluatedif they want to judge it on <b><u>financial merit</u></b> or educational merit or social merit its up to them see more stephen cooper setting aside the sneer in your comment my <b><u>point</u></b> was of course that the <b><u>principle</u></b> of having <b><u>ones</u></b> <b><u>teaching</u></b> evaluated is fine but the execution ends up failing its purpose i doubt that such evaluations are even a good test of the studsee more my <b><u>favorite criticism</u></b> from a student on rmp every other <b><u>professor</u></b> wants you to succeed she only cares about how <b><u>much</u></b> you learn the rest of the review made <b><u>clear</u></b> that <b><u>success</u></b> was just about a specific letter gradestudent evals usually tell us more about students than about <b><u>teachers</u></b> my <b><u>favorite criticism</u></b> on a student eval she doesnt teach us the content she expects us to learn it ourselves apparently the <b><u>fact</u></b> that i dont lecture from the text and expect them to come to <b><u>class</u></b> having done the reading and prepared to engage in discussion and activities isnt good <b><u>teaching</u></b> _ no kiddinyou mean a <b><u>popularity contest</u></b> turns out to be like a <b><u>popularity contest</u></b> ill be damned youre not <b><u>wrong tenure</u></b> attractive any day promote these <b><u>large nostrils</u></b> and heavy baggaged eyes please i wont lie the chili peppers are from my nephews should i remind that <b><u>correlation</u></b> does not mean <b><u>causation</u></b> innokenty <b><u>kantor</u></b> you seem to assume that <b><u>universities</u></b> hire more poorly qualified non<b><u>white</u></b> nonmales over <b><u>better</u></b> qualified <b><u>white</u></b> males whereas in <b><u>reality</u></b> the whole <b><u>point</u></b> of <b><u>diversity practices</u></b> in <b><u>hiring</u></b> is to mitigate <b><u>bias</u></b> against people who are <b><u>moresee</u></b> more innokenty <b><u>kantor</u></b> thanks for explaining my comment for me yes because being male or <b><u>white</u></b> has never been shown to be the <b><u>direct cause</u></b> of very <b><u>tangible privileges</u></b> the <b><u>way</u></b> some of you do mental gimnastics to avoid having to face <b><u>bias</u></b> jacq j<b><u>ones</u></b> not at all i think it is the <b><u>opposite</u></b> those who think that any disproportion is a <b><u>result</u></b> of <b><u>bias</u></b> or <b><u>discrimination</u></b> are just burying their <b><u>heads</u></b> in sand because they dont like the implications ransell dsouza he was trying to write of course in his comment over and over again but it kept coming out as of cause notice he also replaced the <b><u>word</u></b> hire with high its probably a <b><u>combination</u></b> of using <b><u>autocorrect</u></b> and a <b><u>complete lack</u></b> of <b><u>proof</u></b> innokenty <b><u>kantor</u></b> unless you are already <b><u>hiring</u></b> <b><u>inferior candidates</u></b> who happen to fit your <b><u>bias</u></b> eg <b><u>white</u></b> men in which <b><u>case</u></b> expanded the <b><u>range</u></b> of people you consider will enhance the quality of your hires whats of cause innokenty <b><u>kantor</u></b> yes its <b><u>nice apologies</u></b> for not getting reference id love to see this extended to include racial <b><u>bias</u></b> because sadly i think this would be even more pronounced and the weighting often put on these for tenure is <b><u>problematic</u></b> at best innokenty <b><u>kantor</u></b> there seems to be a strong <b><u>correlation</u></b> that <b><u>white</u></b> men dont believe <b><u>academia</u></b> is <b><u>sexist</u></b> and <b><u>racist</u></b> backed up by <b><u>several studies</u></b> seems to <b><u>point</u></b> to a causality of their <b><u>fear</u></b> of losing <b><u>status</u></b> in a field <b><u>bias</u></b>ed towards them the most <b><u>laughable part</u></b> is the <b><u>assumption</u></b> that <b><u>universities</u></b> hire the best candidate rather than the one that most closely matches their existing culture which is really just code for <b><u>bias</u></b>es towards wht they think ideal candidates are like and the dsee more issues with the methodology but not news i dont even look anymore you must not be an adjunct i dont want to look but have to submit them for the ten jobs i apply to every <b><u>year</u></b> well i get three out of four thats how i do it wait there are adults who actually care about whats written on <b><u>rate</u></b>my<b><u>professor</u></b> no of you should ever under any circumstances read <b><u>rate</u></b> my <b><u>professor</u></b> no good comes of it and i firmly believe there should be a <b><u>rate</u></b> my student site mirrors typical life i dont bother with the actual university evaluations let alone this garbage ditto especially after reading a rape fantasy i hope you reported that bob borrelli why so they can all laugh about it pick up lines graphic sexual fantasies sexual assault and notes like pretty sure i found your house were totally ignored tashana this <b><u>kind</u></b> of stuff al<b><u>way</u></b>s makes me think of you you brought it to our attention <b><u>year</u></b>s ago <b><u>white</u></b> yes male no <b><u>tenured hahaha attractive</u></b> um brenna e culbert my favorite comment on rmp was she has a <b><u>lot</u></b> of patience even with the stupid question people amanda evert they repeated your study sarina kilham thanks adding it to my stockpile of evidence hadil ghoneim here you go im attractive though <b><u>white</u></b> yes male yes tenured no attractive not really my rmp ratings still suck although i have a few good <b><u>ones</u></b> jess moore the most frequent descriptor people use for me is boring that one cuts me to my soul im <b><u>fun brian paul</u></b> i agree and my ratings are largely good and even the <b><u>negative</u></b> <b><u>ones</u></b> are worthwhile brian paul i just got a <b><u>bad</u></b> review for giving too <b><u>much</u></b> work for a minimester <b><u>class</u></b> im not even sure how to take that am i supposed to assign less work during a minimester i was told youre supposed to offer the same amount as a regular semester but now i wonder about that aurora le well shit ami sedani new study more like duh lol lisa parker lebovitz daniel malcom thanks ive got to get back to the data i think we can refute this maybe the young <b><u>white</u></b> male faculty arent as attractive to students in <b><u>pharmacy</u></b> as in <b><u>humanities francesca bosisio</u></b> my favourite <b><u>bit</u></b> of <b><u>feedback</u></b> received from a student who scored my course a 0please can there be <b><u>better</u></b> references not of those written ages ago when they used sophisticated <b><u>word</u></b>scause who comes to university to learn sophisticated <b><u>word</u></b>s lets usee more harry green brilliant bob borrelli yeah fuck that guy and his sophisticated <b><u>word</u></b>s d who literally invented meteorology hey can you link the math paper using <b><u>emoji</u></b> that would be awesome and id like to read itthis is a good one about <b><u>emoji</u></b> but its not written in it though it has some examples of retelling https well i am an unattractive <b><u>white</u></b> female and get great reviews and teach a subject that is considered hard perhaps it would be profitable to spend some <b><u>time</u></b> studying statistics you fulfill one of the categories then goodforyou i see you dont understand how studies work a study never reports that in 100 of <b><u>case</u></b>s this happens and in 0 of <b><u>case</u></b>s this happened if that were true providing one contrary story would be enough to destroy the findings of the studystudies look at the <b><u>way</u></b> things tend to be maybe people who fulfill certain criteria are more likely to get positive reviews but its not a <b><u>guarantee</u></b> one <b><u>way</u></b> or the other still <b><u>funny race</u></b> and <b><u>gender</u></b> are less <b><u>important</u></b> than attractiveness student interest and <b><u>discipline</u></b> but the first two <b><u>features</u></b> in the <b><u>headline</u></b> is <b><u>white</u></b> and male stop contradicting the <b><u>fact</u></b>s with your divisive ideology juan trucupey cool story bro catherine glass its <b><u>easy</u></b> to laugh when youre the <b><u>beneficiary juan trucupey</u></b> thats not contradicting <b><u>fact</u></b>s its emphasising some things that the study found more than others but i bet the standard of attractiveness and <b><u>gender</u></b> interact as well juan yes its all propaganda its not like theyre just <b><u>point</u></b>ing out the most interesting conclusions of the study rather than the obvious <b><u>ones</u></b> student interest in the subject influences <b><u>professor</u></b> ratings really juan trucupey youre the one who is claiming that it is <b><u>sexist</u></b> against males to imply that <b><u>gender</u></b> affects ratings before listing a students interest in the subject matter i never said that so your complaint that im contradicting myself is wrong isee more propaganda lol i literally have had female students look for profs who are called a <b><u>bit</u></b>ch it apparently means something different to people good to know those students just graduating with phds now one went to georgetown another is a teacher matthew lucky 34 aint <b><u>bad</u></b> "
      ],
      "text/plain": [
       "<IPython.core.display.HTML object>"
      ]
     },
     "metadata": {},
     "output_type": "display_data"
    },
    {
     "name": "stdout",
     "output_type": "stream",
     "text": [
      "\n",
      "\n"
     ]
    }
   ],
   "source": [
    "#TopicRank\n",
    "generate_all_outputs_topicRank(text_df, random_indexes)"
   ]
  },
  {
   "cell_type": "code",
   "execution_count": 6,
   "metadata": {},
   "outputs": [
    {
     "name": "stdout",
     "output_type": "stream",
     "text": [
      "---------------Entry: -----------------\n"
     ]
    },
    {
     "data": {
      "text/html": [
       "one <b><u>slight problem</u></b>. there is a <b><u>difference</u></b> between <b><u>assault <b><u>rifles</u></b></u></b> and <b><u>assault <b><u>weapon</u></b>s</u></b>. an assault rifle is a <b><u>select <b><u>fire</u></b></u></b> shoulder <b><u>weapon</u></b> chambered in an <b><u>intermediate cartridge</u></b> and was already regulated by the nfa as a <b><u>machine <b><u>gun</u></b></u></b> before they were even invented. an assault <b><u>weapon</u></b> is whatever the <b><u>fuck liberals</u></b> in <b><u>new york</u></b> and california want to call it in order to make <b><u>sure citizens</u></b> can't have <b><u>good <b><u>gun</u></b>s</u></b>.. putting your focus on arguing semantics vs broadly accepted nomenclature is not going to help any<b><u>thing</u></b>,. <b><u>randall munro</u></b> broadly accepted doesn’t mean it’s correct.. <b><u>randall munro</u></b> except that's not semantics. that's <b><u>literal <b><u>legal definition</u></b></u></b> of an <b><u>assualt rifle</u></b>. and assualt <b><u>weapon</u></b> can literally be any<b><u>thing</u></b> someone deems scarey. theres no <b><u>legal definition</u></b> for it at all. being incorrect on <b><u>legal technicalities</u></b> doesn't help our image much either. don't act like no re<b><u>action</u></b>ary will ever see it, pick it apart, and tell everyone we don't know what we're doing. an assault rifle has an <b><u><b><u>auto</u></b>matic selector switch</u></b>. it is already <b><u>ban</u></b>ned. that an overlooked technicality here . marie cassandra tristani trust me you guys are already way ahead of all the <b><u>people</u></b> on the pseudo-socialists page(democratic socialists) lol that place is a <b><u>fucking joke</u></b>.. <b><u>assault <b><u>rifles</u></b></u></b> aren't a <b><u>real <b><u>thing</u></b></u></b>. assault rifle is a <b><u>select <b><u>fire</u></b></u></b> (implying modes other then semi <b><u>auto</u></b> such as full or burst <b><u>fire</u></b>) chambered in an <b><u>intermediate cartridge</u></b>.  a <b><u>semi <b><u>auto</u></b> rifle</u></b> is a <b><u>semi <b><u>auto</u></b> rifle</u></b> no matter if the barrel is threaded, or if there is a bayonet lug or if the magazine is large or small.end of.. <b><u>support</u></b> the <b><u>2nd amendment</u></b>, but remember <b><u>support</u></b> <b><u>single <b><u>action</u></b></u></b> <b><u>long <b><u>gun</u></b>s</u></b> not semi <b><u><b><u>auto</u></b> <b><u>long <b><u>gun</u></b>s</u></b></u></b>. <b><u><b><u>support</u></b> bolt <b><u>action</u></b></u></b>, <b><u>lever <b><u>action</u></b></u></b>, and pump <b><u>action</u></b> <b><u>long <b><u>gun</u></b>s</u></b>. do not <b><u>support</u></b> semi <b><u>auto</u></b>matic <b><u>long <b><u>gun</u></b>s</u></b>.. guys. imagine literally being an incel.. <b><u><b><u>peter</u></b> raymond</u></b> oh is that why we're a supreme force unopposed in afghanistan?. <b><u><b><u>peter</u></b> raymond</u></b> lmaoo at <b><u>people</u></b> who think not having <b><u>weapon</u></b>s is somehow a better alternative…see more. lol k. <b><u><b><u>peter</u></b> raymond</u></b> the <b><u>same us military</u></b> who has been bogged down in the me for the past twenty years fighting insurgent groups with basically no<b><u>thing</u></b> but small arms?asymmetrical warfare is legitimate.. remember when the us fought an 18 <b><u>year war</u></b> against goat herders. important history time.did you know the ira averaged only 250 rounds of spent ammunition and 40 pounds spent explosive ordnance yearly during the 30 years prior to the <b><u><b><u>good friday agreement</u></b>.</u></b>…see more. <b><u><b><u>peter</u></b> raymond</u></b>check out a podcast called it could happen here. there's an episode detailing how a rebellion could succeed in america.. <b><u><b><u>peter</u></b> raymond</u></b> your ego is showing bud. you are obviously not familiar with <b><u>military tactics</u></b> or <b><u>revolutionary <b><u>action</u></b></u></b>. your argument is valid and has been noted, but history does not align with what you are saying. <b><u>revolutionary <b><u>action</u></b></u></b>s take time and build up from <b><u>grassroot <b><u>action</u></b></u></b>.. bruh.... <b><u>peter</u></b> keeps calling everyone morons which is incredibly ironic.. imagine thinking the <b><u>2nd amendment</u></b> was about hunting. lol. you know what the only distance between a <b><u>semi<b><u>auto</u></b>matic rifle</u></b> and a pistol is? effective range and <b><u>rifles</u></b> require two hands to shoot and can't be concealed. that's it. both are equally deadly. just because you are afraid of the word semi<b><u>auto</u></b>matic doesn't mean it's an assault <b><u>weapon</u></b>. pistols are semi<b><u>auto</u></b>matic too. are you gonna <b><u>ban</u></b> them too?. jonathan mccowan the ira brought no-one to a standstill, the (now threatened due to brexit!) <b><u>good friday agreement</u></b> happened because <b><u>enough ordinary <b><u>people</u></b></u></b> from both sides of the divide & the political orgs had seen enough bloodshed from terrorists & the sometimes <b><u>murderous british army</u></b>. they didn’t win peace through violence, despite the idiotic funding from irish americans in the previous decades.. i read that the us <b><u>military forces</u></b> amount to roughly 1.250.000 <b><u>people</u></b>.. <b><u>bruce andrew hansen</u></b> <b><u>support</u></b> the <b><u>1st amendment</u></b>.  but remember only <b><u>support</u></b> non-<b><u>auto</u></b> refill pens or electronic communications.  <b><u><b><u>support</u></b> quill</u></b> and ink on paper only.  do not <b><u>support</u></b> widespread <b><u>auto</u></b>matic communications.. <b><u>broose andrew hansen</u></b> i don’t believe the <b><u>2cnd amendment</u></b> has any type of wording <b><u>ban</u></b>ning any type of <b><u>weapon</u></b> ... sorry. <b><u>peter</u></b>, that’s an argument for citizens to have more strong and <b><u>powerful <b><u>weapon</u></b>s</u></b>, not less of them.  i do believe the government would bomb its <b><u>own <b><u>people</u></b></u></b> but if they plan on winning, they’ll still need the infrastructure to maintain some semblance of sanity among those that didn’t rise up.. \"sometimes <b><u>murderous british army</u></b>\" ha. understatement of the <b><u>fucking year</u></b>.. <b><u>broose broose</u></b> imagine trying suppress the right of the workers to secure themselves from the bourgeois with an effective <b><u>fire</u></b>arm. anthony plisko. <b><u>broose broose</u></b> i’m a communist. as left as they come. i’ll tell you right now, this is an idiotic take.. the solution isn't to <b><u>ban</u></b> the <b><u>weapon</u></b>s, but the calibres - the 5.56x45mm bullet is a <b><u>military cartridge</u></b> that has no function in either home defense or hunting, designed to be lightweight enough to allow fully <b><u><b><u>auto</u></b>matic <b><u>fire</u></b></u></b> but still lethal - hell, one …see more. these comments litteraly gave men an aneurism,. wasn't it reagan that started the <b><u>assault rifle <b><u>ban</u></b></u></b> and was against civilians having <b><u>ar-15 type <b><u>weapon</u></b>s</u></b>?. not that it matters to the wealthy;as long as you've got the money and a \"clean\"record you can get the tax stamp for any <b><u>fire</u></b>arm.i know <b><u>guys w</u></b>/fully <b><u>auto</u></b>matic mp-5s!our <b><u>fire</u></b>arms laws need overhaul from stem to <b><u>stern starting w</u></b>/<b><u>fire</u></b>arms  safety education being mandatory in schools!. ahhh , so if i’m shot and notice no bayonet lug i can relax knowing how much worse my bleeding would be if it was an assault rifle. pointing this out may just lead to <b><u>canada style <b><u>ban</u></b>s</u></b>. it's frustrating.. seems a <b><u>fire</u></b>arms class would really help lawmakers. showing ballistics of rounds, teaching capabilities, <b><u>range time</u></b> with shot<b><u>gun</u></b>s (<b><u>auto</u></b>, snub, over under, standard), subs, <b><u>rifles</u></b>, <b><u>long <b><u>gun</u></b>s</u></b>, rim<b><u>fire</u></b>/<b><u>center <b><u>fire</u></b></u></b>/<b><u>wheel pistols</u></b>, and then show them jerry m…see more. i can't tell if this is satire. all of the <b><u>essential <b><u>thing</u></b>s</u></b> that make an assault rifle are maintained. i'm not saying i disagree with the premise but you can't tell me there is a <b><u>fundemental <b><u>difference</u></b></u></b> between an m16 and an ar15. now we are getting somewhere.. while we are literally filling concentration camps seems an incredibly odd time to pass any sort of <b><u><b><u>gun</u></b> control legislation</u></b>.. what’s the <b><u>functionality <b><u>difference</u></b></u></b> between a threaded and non threaded barrel?. ain’t it grand how current talk is focused on armalite and kalashnikov, but no mention of the <b><u>other major companies</u></b> that produce far better job security for the undertaker.take barrett arms. even though it’s a 50 cal, anti-material rifle producer, just about all of their <b><u>weapon</u></b>s would not be classified as “<b><u>assault <b><u>weapon</u></b>s</u></b>” under the terms above.. amen. as long as it <b><u>fire</u></b>s rounds at indecent rate, it's a <b><u>good deterrent</u></b> for would-be attackers.and hey, if you guys are after some <b><u>lighthearted good fun</u></b>, maaaaybe come like this page. its run by some lefties and it's 100% worker friendly ;)…see more. this is why i favor applying the <b><u>machine <b><u>gun</u></b></u></b> act approach to every<b><u>thing</u></b> that can hold more than 6 rounds. the ma has been around for many decades, and collectors/reenactors  can still get a bar or some<b><u>thing</u></b> if they want, but nobody's been getting killed with them.. dont <b><u>ban</u></b> the <b><u>gun</u></b> then, <b><u>ban</u></b> the ammunition. make it so you can only buy ammunition at licensed target ranges, and you're not allowed to take the ammunition home.. any <b><u>weapon</u></b> not capable of selective <b><u>fire</u></b> is ipso facto not an assault rifle lacking one of the defining features of the category.. don't forget the <b><u>pistol grip</u></b> makes it a lot more deadly, if you live in ny.. bayonets are pretty cool though. i like spears. spears are good.. i did not know this before i saw this.thanks for the education. naw, i don’t agree with this. large capacity magazine <b><u>ban</u></b>s definitely save lives.. expect awb 2.0 to just <b><u>ban</u></b> semi-<b><u>auto</u></b>matic <b><u>rifles</u></b>.and expect the next evolution of the ar pattern to allow you to cock it with your thumb or some<b><u>thing</u></b> like that.... this is what a <b><u>legal ar-15</u></b> looks like with an “<b><u>assault <b><u>weapon</u></b>s</u></b>” <b><u>ban</u></b>.  still shoots the same, just less comfortable to hold.. no <b><u>such <b><u>thing</u></b></u></b>, <b><u>full <b><u>auto</u></b></u></b>, semi-<b><u>auto</u></b> or <b><u>single <b><u>fire</u></b></u></b>. the <b><u>suppressor <b><u>ban</u></b></u></b> has somehow kept mass shooters loud though.. here you go kevin gilbert, these are the types i associate with. you forget the 3 <b><u>round burst</u></b> to fully <b><u>auto</u></b>. they <b><u>wanna <b><u>ban</u></b></u></b> both. and confiscate all that are already out there.. eric knabe. austin rose. i'll take my 12ga with a 3.5\" in buck over these toys any day. this all assumes they'd call an assault rifle the <b><u>same <b><u>thing</u></b></u></b> as the old <b><u>ban</u></b>.that said. i really don't see any <b><u>particular <b><u>weapon</u></b> <b><u>ban</u></b></u></b> working when almost any <b><u>other kind</u></b> of <b><u>fire</u></b>arm would be just as effective.…see more. that’s not true you can limit it to just <b><u><b><u>single <b><u>action</u></b></u></b> <b><u>rifles</u></b></u></b> and not 30 <b><u>round clips</u></b>. combat <b><u>rifles</u></b> like ars aren’t the same as <b><u>simple hunting <b><u>rifles</u></b></u></b>.. roberto acquafredda.. also, pick up your shit while you still can.  extended <b><u>mag <b><u>ban</u></b>s</u></b> almost always come first. when did all these <b><u><b><u>gun</u></b> grabbers</u></b> start following this page? if it's such an issue to you then move to freaking canada... where owning a <b><u>fire</u></b>arm is not a constitutional right.don't try to abolish that right here just because you think it's acceptable fo…see more. fixed this for you.. so my rifle will be <b><u>worth more money</u></b>?  thanks dumbocrats!. the majority of the <b><u>population <b><u>support</u></b>s</u></b> <b><u>ban</u></b>ning them.  left slanted polling shows about 75%, the recent polling from fox news, obviously right slanted, shows 66% in favor of a new, permanent awb.. i sort of assume but does anyone know if the 3% who own half of all <b><u>gun</u></b>s (8 or more each person) are mostly or all white supremacists?. forgets selective <b><u>fire</u></b> is the <b><u>main definition</u></b> of an assault rifle. 2019 <b><u>assault <b><u>weapon</u></b>s</u></b> <b><u>ban</u></b> bill.https:// chris brian swientek confirm?. it's an assault <b><u>weapon</u></b>,  built for 1 <b><u>thing</u></b> only. kill lots of <b><u>people</u></b> very quickly. the <b><u>only <b><u>difference</u></b></u></b> between the civilian and <b><u>military m16</u></b> is the switch to <b><u>full <b><u>auto</u></b></u></b>matic.  it's like letting anyone drive a <b><u>semi truck</u></b> or passenger bus without training.. dead schoolchildren the price we pay so some smalldicked boy can prance around playing scary army man enlist u pussy oh yea that shoot back pussys. the awb did little but drive innovation in the <b><u>fire</u></b>arms market.  here's an example: the olympic oa96https:// so just out of curiosity, what exactly does a threaded barrel do? new to this page, and am genuinely curious.. ben<b><u>machine <b><u>gun</u></b></u></b> assault rifle <b><u>weapon</u></b>s: liberalised. false story."
      ],
      "text/plain": [
       "<IPython.core.display.HTML object>"
      ]
     },
     "metadata": {},
     "output_type": "display_data"
    },
    {
     "name": "stdout",
     "output_type": "stream",
     "text": [
      "\n",
      "\n",
      "---------------Entry: -----------------\n"
     ]
    },
    {
     "data": {
      "text/html": [
       "<b><u>reetesh</u></b> what’s with that mischievous smile uh huh!. i’m about 100% sure i’m smirking at you ma’am. <b><u>reetesh</u></b> ada paavi fb liye wa!"
      ],
      "text/plain": [
       "<IPython.core.display.HTML object>"
      ]
     },
     "metadata": {},
     "output_type": "display_data"
    },
    {
     "name": "stdout",
     "output_type": "stream",
     "text": [
      "\n",
      "\n",
      "---------------Entry: -----------------\n"
     ]
    },
    {
     "data": {
      "text/html": [
       "yeah taco taco enchilada narcotráfico. <b><u>lmmfao</u></b> yeah. he sounds like...all <b><u>rich white dudes</u></b> in <b><u>politics</u></b>.. insulting to <b><u>actual banditos</u></b> tbh. curtis. vomits in mouth. cheeto resigned!. lady groping is probably the most egregious phrase in this. >attempted murder of democracyyou forgot fascism.. fucking epic. surely this will stop donald trump!. barf. the #resistance’s propaganda sure mongers sheer terror into the reader’s heart . *sigh* there actually was a <b><u>dorito bandito</u></b>..... who is this drumpfter guy any ways"
      ],
      "text/plain": [
       "<IPython.core.display.HTML object>"
      ]
     },
     "metadata": {},
     "output_type": "display_data"
    },
    {
     "name": "stdout",
     "output_type": "stream",
     "text": [
      "\n",
      "\n",
      "---------------Entry: -----------------\n"
     ]
    },
    {
     "data": {
      "text/html": [
       "<b><u>such waivers</u></b> should only be legally valid if off-<b><u>campus telecommute</u></b> remains <b><u>available.a contract</u></b> you are forced to sign should have no value.. :3. my wife is back working at university. in a <b><u>few weeks</u></b>, students from all over the world will be crowded together, but hey she got a huge raise  10$ an hour now. who wouldn't risk covid19 for the big bucks."
      ],
      "text/plain": [
       "<IPython.core.display.HTML object>"
      ]
     },
     "metadata": {},
     "output_type": "display_data"
    },
    {
     "name": "stdout",
     "output_type": "stream",
     "text": [
      "\n",
      "\n",
      "---------------Entry: -----------------\n"
     ]
    },
    {
     "data": {
      "text/html": [
       "i remember my <b><u>first <b><u><b><u><b><u>student</u></b> eval</u></b>uations</u></b></u></b>: 1) more <b><u>short skirts</u></b> 2) your <b><u>hair</u></b> looks so much better down 3) the <b><u>psych building</u></b> is too far away from my <b><u>dorm room</u></b>. i decided at this <b><u>point</u></b> that <b><u><b><u><b><u>student</u></b> eval</u></b>uations</u></b> are not the <b><u>definitive critique</u></b> of my <b><u>teaching</u></b>. …see more. <b><u>kristy m keefe</u></b> my <b><u>first semester <b><u>teaching</u></b></u></b> i got two <b><u>comments</u></b> saying to “wear <b><u>less clothes</u></b>”  as a <b><u>new instructor</u></b> this was not what i was expecting and not helpful in how i could improve as an <b><u>educator</u></b>. sadly, this may have been the <b><u>first <b><u>time</u></b></u></b> i received <b><u>comments</u></b> about my appearance but it was not the last.. ugh! that's <b><u>sexual harassment</u></b>. i got <b><u>one</u></b> saying some<b><u>one</u></b> should make a calendar with pictures of my <b><u>sexy butt</u></b>, literally. <b><u>kristy m keefe</u></b> i had the <b><u>opposite</u></b> for the <b><u>hair</u></b>. my <b><u>hair</u></b> is long and i always wear it down. <b><u>student</u></b> said that i either needed to cut my <b><u>hair</u></b> or wear it in a bun because <b><u>long <b><u>hair</u></b></u></b> is unprofessional.. <b><u>student</u></b>s will reach for anything when they want to be negative. <b><u>one</u></b> <b><u>time</u></b> a <b><u>student</u></b> asked me a question about the midterm, and i said i hadn't finished it yet. they menti<b><u>one</u></b>d that in my <b><u><b><u>rmp</u></b> rating</u></b>, lol. like they never procrastinate?. <b><u>amanda carroll</u></b> were you tempted to clap back with ‘do you mean fewer?’ these sites are just nonsense.  appalling levels of <b><u>sexual harassment</u></b>, and not just against women; i’ve known <b><u>male <b><u>teachers</u></b></u></b> have similarly <b><u>inappropriate <b><u>comments</u></b></u></b> posted.. <b><u>kristy m keefe</u></b> for sure! . <b><u>amanda greubel nope</u></b>. i have also had some wonderfully <b><u>thoughtful <b><u>comments</u></b></u></b> about my <b><u>courses</u></b>. i’ll take the bad with the good.. <b><u>angry <b><u>people</u></b></u></b> en route.... joshua shinn how dare you!i'm not angry, i just hate to disap<b><u>point</u></b> any<b><u>one</u></b>.. being a <b><u>good prof</u></b> doesn't hurt either. <b><u>michael w. hitch</u></b> i had this <b><u>one</u></b> <b><u>professor</u></b> back in my college days that was, without a doubt, the <b><u>best <b><u>professor</u></b></u></b> i ever had. his <b><u><b><u>rmp</u></b> rating</u></b>s were trashed because he wasn't an easy a. a lot of us couldn't believe it because we loved him and he asked if w…see more. <b><u>michael w. hitch</u></b> dude, it doesn’t matter for some of us. christ.. being a <b><u><b><u>good prof</u></b>essor</u></b> has nothing to do with <b><u>good evaluations</u></b>, and i would go so far to say that the <b><u>effective <b><u>professor</u></b></u></b> does not get <b><u>good <b><u>review</u></b>s</u></b>. do be glib though.. . woosh. my <b><u><b><u>teaching</u></b> <b><u>review</u></b>s</u></b>, like my <b><u>article <b><u>review</u></b>s</u></b>, fell neatly into thirds: <b><u>one</u></b> third - fantastic, no improvement needed; <b><u>one</u></b> third - ok but...; <b><u>one</u></b> third - who let this idiot leave his village? i suffered a bit because my <b><u>undergrad <b><u>subject</u></b></u></b> was a demanding …see more. the person paying for the service should be the <b><u>one</u></b> to decide how that service should be evaluated.if they want to judge it on <b><u>financial merit</u></b> or <b><u>educational merit</u></b> or <b><u>social merit</u></b> it’s up to them. …see more. stephen cooper setting aside the sneer in your comment, my <b><u>point</u></b> was of course that the principle of having <b><u>one</u></b>’s <b><u>teaching</u></b> evaluated is fine, but the execution ends up failing it’s purpose. i doubt that <b><u>such evaluations</u></b> are even a <b><u>good test</u></b> of the stud…see more. my <b><u>favorite criticism</u></b> from a <b><u>student</u></b> on <b><u>rmp</u></b>: “every <b><u>other <b><u>professor</u></b></u></b> wants you to succeed. she only cares about how much you learn.” the rest of the <b><u>review</u></b> made clear that “success” was just about a specific letter grade.<b><u><b><u>student</u></b> eval</u></b>s usually tell us more about <b><u>student</u></b>s than about <b><u>teachers</u></b>.. my <b><u>favorite criticism</u></b> on a <b><u><b><u>student</u></b> eval</u></b>: “she doesn’t teach us the content, she expects us to learn it ourselves.” apparently the fact that i don’t lecture from the text and expect them to come to class having d<b><u>one</u></b> the reading and prepared to engage in discussion and activities isn’t “<b><u>good <b><u>teaching</u></b></u></b>.” _. no kiddin'?you mean a popularity contest turns out to be like a popularity contest.  i'll be damned.. you're not wrong.. tenure > attractive, any day. promote these large nostrils and heavy baggaged eyes please.. i won’t lie— the chili peppers are from my nephews. should i remind that correlation does not mean causation?. <b><u>innokenty <b><u>kantor</u></b></u></b> you seem to assume that <b><u>universities</u></b> hire more poorly qualified non-white non-<b><u>males</u></b> over better qualified white <b><u>males</u></b>, whereas in reality, the <b><u>whole <b><u>point</u></b></u></b> of diversity practices in hiring is to mitigate <b><u>bias</u></b> against <b><u>people</u></b> who are more…see more. <b><u><b><u>innokenty <b><u>kantor</u></b></u></b> thanks</u></b> for explaining my comment for me. yes because being male or white has never been shown to be the direct cause of very tangible privileges. the way some of you do mental gimnastics to avoid having to face <b><u>bias</u></b>.. jacq j<b><u>one</u></b>s not at all. i think it is the <b><u>opposite</u></b>: those who think that any disproportion is a result of <b><u>bias</u></b> or discrimination, are just burying their heads in sand. because they don't like the implications.. ransell d'souza he was trying to write 'of course' in his comment over and over again but it kept coming out as 'of cause.' notice he also replaced the word hire with 'high.' it's probably a combination of using autocorrect and a complete lack of proof. <b><u>innokenty <b><u>kantor</u></b></u></b> unless you are already hiring <b><u>inferior candidates</u></b> who happen to fit your <b><u>bias</u></b> - eg <b><u>white men</u></b>. in which case expanded the range of <b><u>people</u></b> you consider will enhance the quality of your hires.. what's of cause?. <b><u>innokenty <b><u>kantor</u></b></u></b> yes, it’s nice (apologies for not getting reference). i’d love to see this extended to include <b><u>racial <b><u>bias</u></b></u></b> because, sadly, i think this would be even more pronounced. and the weighting often put on these for tenure is problematic at best.. <b><u>innokenty <b><u>kantor</u></b></u></b> there seems to be a strong correlation that <b><u>white men</u></b> don’t believe academia is sexist and racist (backed up by <b><u>several studies</u></b>). seems to <b><u>point</u></b> to a causality of their fear of losing status in a field <b><u>bias</u></b>ed towards them,. the most laughable part is the assumption that <b><u>universities</u></b> hire the <b><u>best candidate</u></b> rather than the <b><u>one</u></b> that most closely matches their 'existing culture' (which is really just code for <b><u>bias</u></b>es towards wht they think <b><u>ideal candidates</u></b> are like, and the d…see more. issues with the methodology but not news.. i don’t even look anymore. you must not be an adjunct. i don’t want to look but have to submit them for the ten jobs i apply to every year. well, i get three out of four.. that’s how i do it. . wait there are adults who actually care about what's written on <b><u>rate</u></b>my<b><u>professor</u></b>?. no of you should ever, under any circumstances, read <b><u>rate</u></b> my <b><u>professor</u></b>. no good comes of it.  and i firmly believe there should be a “<b><u>rate</u></b> my <b><u>student</u></b>” site. . mirrors <b><u>typical life</u></b>. i don't bother with the <b><u>actual university evaluations</u></b> let al<b><u>one</u></b> this garbage.. ditto. especially after reading a rape fantasy.. i hope you reported that.. bob borrelli why? so they can all laugh about it? pick up lines, <b><u>graphic sexual fantasies</u></b>, <b><u>sexual assault</u></b> and notes like “pretty sure i found your house” were totally ignored.. ta-shana this kind of stuff always makes me think of you.. you brought it to our attention years ago. white? yes. male? no. tenured? hahaha. attractive? um.... <b><u>brenna e. culbert</u></b>. my <b><u>favorite comment</u></b> on <b><u>rmp</u></b> was “she has a lot of patience, even with the <b><u>stupid question <b><u>people</u></b></u></b>.”. <b><u>amanda evert</u></b> they repeated your <b><u>study</u></b>.. sarina kilham. thanks. adding it to my stockpile of evidence.. hadil gh<b><u>one</u></b>im here you go.. i'm attractive though . white? yes. male? yes? tenured? no. attractive? not really. my <b><u><b><u>rmp</u></b> rating</u></b>s still suck, although i have a <b><u>few good <b><u>one</u></b>s</u></b>.. jess moore, the most <b><u>frequent descriptor <b><u>people</u></b></u></b> use for me is 'boring'. that <b><u>one</u></b> cuts me to my soul. i'm fun!. <b><u>brian paul</u></b> i agree and my ratings are largely good, and even the '<b><u>negative <b><u>one</u></b>s</u></b>' are worthwhile . <b><u>brian paul</u></b> i just got a <b><u>bad <b><u>review</u></b></u></b> for giving too much work for a minimester class. i'm not even sure how to take that. am i supposed to assign <b><u>less work</u></b> during a minimester? i was told you're supposed to offer the same amount as a <b><u>regular semester</u></b> but now i wonder about that.. <b><u>aurora le</u></b> well shit. ami sedani new <b><u>study</u></b>! more like duh lol.  lisa parker lebovitz. <b><u>daniel malcom thanks</u></b>! i’ve got to get back to the data, i think we can refute this. maybe the young white male faculty aren’t as attractive to <b><u>student</u></b>s in pharmacy as in humanities.... francesca bosisio!!!. my <b><u>favourite bit</u></b> of feedback received from a <b><u>student</u></b>, who scored my course a 0:'please can there be <b><u>better references</u></b>, not of those written ages ago when they used <b><u>sophisticated words</u></b>'cause who comes to university to learn <b><u>sophisticated words</u></b>? lets u…see more. harry green brilliant!. bob borrelli yeah fuck that guy and his <b><u>sophisticated words</u></b> :d. who literally invented meteorology.. hey can you link the math paper using emoji? that would be awesome and i'd like to read it.this is a good <b><u>one</u></b> about emoji, but it's not written in it, though it has some examples of retelling. https:// well i am an unattractive, <b><u>white female</u></b> and get <b><u>great <b><u>review</u></b>s</u></b> and teach  a  <b><u>subject</u></b>  that  is considered hard.. perhaps it would be profitable to spend some <b><u>time</u></b> <b><u>study</u></b>ing statistics.. you fulfill <b><u>one</u></b> of the categories, then.. goodforyou. i see you don't understand how studies work. a <b><u>study</u></b> never reports that in 100% of cases this happens, and in 0% of cases, this happened. if that were true, providing <b><u>one</u></b> contrary story would be enough to destroy the findings of the <b><u>study</u></b>.studies look at the <b><u>way things</u></b> tend to be. maybe <b><u>people</u></b> who fulfill certain criteria are more likely to get <b><u>positive <b><u>review</u></b>s</u></b> but it's not a guarantee <b><u>one</u></b> way or the other still.. funny: race and gender are  less important than <b><u>attractiveness</u></b>, <b><u><b><u>student</u></b> <b><u>interest</u></b></u></b> and discipline, but the first two features in the headline is “white” and “male”. stop contradicting the facts with your divisive ideology!!!!!!!!!!!!!!. <b><u>juan trucupey</u></b> cool story bro. catherine glass it’s easy to laugh when you’re the beneficiary. <b><u>juan trucupey</u></b> that’s not contradicting facts. it’s emphasising some things that the <b><u>study</u></b> found more than others. but i bet the standard of <b><u>attractiveness</u></b> and gender interact as well. juan yes it's all propaganda; it's not like they're just <b><u>point</u></b>ing out the most <b><u><b><u>interest</u></b>ing conclusions</u></b> of the <b><u>study</u></b> rather than the <b><u>obvious <b><u>one</u></b>s</u></b>. <b><u><b><u>student</u></b> <b><u>interest</u></b></u></b> in the <b><u>subject</u></b> influences <b><u><b><u>professor</u></b> ratings</u></b>? really? . <b><u>juan trucupey</u></b> you're the <b><u>one</u></b> who is claiming that it is sexist against <b><u>males</u></b> to imply that gender affects ratings before listing a <b><u>student</u></b>'s <b><u>interest</u></b> in the <b><u><b><u>subject</u></b> matter</u></b>. i never said that. so your complaint that i'm contradicting myself is wrong - i…see more. propaganda, lol.. i literally have had <b><u>female <b><u>student</u></b>s</u></b> look for profs who are called a bitch. it apparently means something different to <b><u>people</u></b>. good to know. those <b><u>student</u></b>s just graduating with phds now, <b><u>one</u></b> went to georgetown, another is a teacher.. matthew lucky 3/4 ain't bad "
      ],
      "text/plain": [
       "<IPython.core.display.HTML object>"
      ]
     },
     "metadata": {},
     "output_type": "display_data"
    },
    {
     "name": "stdout",
     "output_type": "stream",
     "text": [
      "\n",
      "\n"
     ]
    }
   ],
   "source": [
    "#PositionRank\n",
    "generate_all_outputs_pr(text_df, random_indexes)"
   ]
  },
  {
   "cell_type": "code",
   "execution_count": 7,
   "metadata": {},
   "outputs": [
    {
     "name": "stdout",
     "output_type": "stream",
     "text": [
      "---------------Entry: -----------------\n"
     ]
    },
    {
     "data": {
      "text/html": [
       "one <b><u>slight problem</u></b>. there is a <b><u>difference</u></b> between <b><u>assault <b><u>rifles</u></b></u></b> and <b><u>assault <b><u>weapon</u></b>s</u></b>. an assault rifle is a <b><u><b><u>select <b><u>fire</u></b></u></b> shoulder <b><u>weapon</u></b></u></b> chambered in an <b><u>intermediate cartridge</u></b> and was already regulated by the <b><u>nfa</u></b> as a <b><u>machine gun</u></b> before they were even invented. an assault <b><u>weapon</u></b> is whatever the <b><u>fuck liberals</u></b> in <b><u><b><u>new</u></b> york</u></b> and <b><u>california</u></b> want to call it in <b><u>order</u></b> to make <b><u>sure citizens</u></b> can't have <b><u>good guns</u></b>.. putting your <b><u>focus</u></b> on arguing <b><u>semantics</u></b> vs broadly accepted <b><u>nomenclature</u></b> is not going to help anything,. <b><u>randall munro</u></b> broadly accepted doesn’t mean it’s <b><u>correct</u></b>.. <b><u>randall munro</u></b> except that's not <b><u>semantics</u></b>. that's <b><u>literal legal definition</u></b> of an <b><u>assualt rifle</u></b>. and assualt <b><u>weapon</u></b> can literally be anything someone deems scarey. theres no legal definition for it at all. being <b><u>in<b><u>correct</u></b></u></b> on <b><u>legal technicalities</u></b> doesn't help our image much either. don't act like no reactionary will ever see it, pick it apart, and tell everyone we don't know what we're doing. an assault rifle has an <b><u>automatic selector switch</u></b>. it is already <b><u>ban</u></b>ned. that an overlooked technicality here . marie cassandra tristani trust me you <b><u>guys</u></b> are already way ahead of all the <b><u>people</u></b> on the pseudo-socialists <b><u>page</u></b>(democratic socialists) lol that place is a <b><u>fucking joke</u></b>.. <b><u>assault <b><u>rifles</u></b></u></b> aren't a <b><u>real thing</u></b>. assault rifle is a <b><u>select <b><u>fire</u></b></u></b> (implying modes other then semi auto such as <b><u>full</u></b> or burst <b><u>fire</u></b>) chambered in an <b><u>intermediate cartridge</u></b>.  a <b><u>semi auto rifle</u></b> is a <b><u>semi auto rifle</u></b> no matter if the <b><u>barrel</u></b> is threaded, or if there is a <b><u>bayonet lug</u></b> or if the <b><u>magazine</u></b> is <b><u>large</u></b> or <b><u>small</u></b>.end of.. support the <b><u>2nd amendment</u></b>, but remember <b><u>support single action long guns</u></b> not semi <b><u>auto long guns</u></b>. <b><u>support bolt action</u></b>, <b><u>lever action</u></b>, and pump action long guns. do not support semi automatic long guns.. <b><u>guys</u></b>. imagine literally being an <b><u>incel</u></b>.. <b><u><b><u>peter</u></b> raymond</u></b> oh is that why we're a <b><u>supreme force</u></b> unopposed in <b><u>afghanistan</u></b>?. <b><u><b><u>peter</u></b> raymond</u></b> lmaoo at <b><u>people</u></b> who think not having <b><u>weapon</u></b>s is somehow a better alternative…see more. lol k. <b><u><b><u>peter</u></b> raymond</u></b> the same us military who has been bogged down in the me for the <b><u>past</u></b> twenty <b><u>years</u></b> fighting <b><u>insurgent groups</u></b> with basically nothing but <b><u>small</u></b> arms?asymmetrical <b><u>warfare</u></b> is <b><u>legitimate</u></b>.. remember when the us fought an 18 year war against <b><u>goat herders</u></b>. <b><u>important history</u></b> <b><u>time</u></b>.did you know the <b><u>ira</u></b> averaged only 250 <b><u>rounds</u></b> of spent <b><u>ammunition</u></b> and 40 <b><u>pounds</u></b> spent <b><u>explosive ordnance</u></b> yearly during the 30 <b><u>years</u></b> prior to the <b><u>good friday agreement</u></b>.…see more. <b><u><b><u>peter</u></b> raymond</u></b>check out a podcast called it could happen here. there's an episode detailing how a rebellion could succeed in <b><u>america</u></b>.. <b><u><b><u>peter</u></b> raymond</u></b> your <b><u>ego</u></b> is showing bud. you are obviously not familiar with <b><u>military tactics</u></b> or <b><u>revolutionary action</u></b>. your <b><u>argument</u></b> is valid and has been noted, but history does not align with what you are saying. <b><u>revolutionary action</u></b>s take <b><u>time</u></b> and build up from grassroot action.. <b><u>bruh</u></b>.... <b><u>peter</u></b> keeps calling everyone morons which is incredibly ironic.. imagine thinking the <b><u>2nd amendment</u></b> was about <b><u>hunting</u></b>. lol. you know what the only distance between a <b><u><b><u>semiautomatic</u></b> rifle</u></b> and a <b><u>pistol</u></b> is? <b><u>effective range</u></b> and <b><u>rifles</u></b> require two hands to shoot and can't be concealed. that's it. both are equally <b><u>deadly</u></b>. just because you are afraid of the <b><u>word <b><u>semiautomatic</u></b></u></b> doesn't mean it's an assault <b><u>weapon</u></b>. <b><u>pistol</u></b>s are <b><u>semiautomatic</u></b> too. are you gonna <b><u>ban</u></b> them too?. jonathan mccowan the <b><u>ira</u></b> brought no-one to a standstill, the (now threatened due to brexit!) <b><u>good friday agreement</u></b> happened because enough ordinary <b><u>people</u></b> from both <b><u>sides</u></b> of the divide & the <b><u>political orgs</u></b> had seen <b><u>enough bloodshed</u></b> from terrorists & the some<b><u>time</u></b>s <b><u>murderous british army</u></b>. they didn’t win peace through <b><u>violence</u></b>, despite the <b><u>idiotic funding</u></b> from irish <b><u>america</u></b>ns in the <b><u>previous decades</u></b>.. i read that the us military forces amount to roughly 1.250.000 <b><u>people</u></b>.. <b><u>bruce andrew hansen</u></b> support the 1st amendment.  but remember only support non-auto refill pens or electronic communications.  <b><u>support quill</u></b> and ink on paper only.  do not support widespread automatic communications.. broose andrew hansen i don’t believe the 2cnd amendment has any <b><u>type</u></b> of wording <b><u>ban</u></b>ning any <b><u>type</u></b> of <b><u>weapon</u></b> ... sorry. <b><u>peter</u></b>, that’s an <b><u>argument</u></b> for citizens to have more strong and powerful <b><u>weapon</u></b>s, not less of them.  i do believe the government would bomb its own <b><u>people</u></b> but if they plan on winning, they’ll still need the infrastructure to maintain some semblance of sanity among those that didn’t rise up.. \"some<b><u>time</u></b>s <b><u>murderous british army</u></b>\" ha. understatement of the fucking year.. <b><u>broose broose</u></b> imagine trying suppress the right of the workers to secure themselves from the <b><u>bourgeois</u></b> with an <b><u>effective <b><u>fire</u></b>arm</u></b>. <b><u>anthony plisko</u></b>. <b><u>broose broose</u></b> i’m a communist. as left as they come. i’ll tell you right now, this is an idiotic take.. the solution isn't to <b><u>ban</u></b> the <b><u>weapon</u></b>s, but the calibres - the 5.56x45mm bullet is a military cartridge that has no function in either home defense or <b><u>hunting</u></b>, designed to be lightweight enough to allow <b><u>full</u></b>y automatic <b><u>fire</u></b> but still lethal - hell, one …see more. these comments litteraly gave men an aneurism,. wasn't it reagan that started the assault rifle <b><u>ban</u></b> and was against <b><u>civilians</u></b> having ar-15 <b><u>type</u></b> <b><u>weapon</u></b>s?. not that it matters to the wealthy;as long as you've got the money and a \"clean\"record you can get the tax stamp for any <b><u>fire</u></b>arm.i know <b><u>guys</u></b> w/<b><u>full</u></b>y automatic mp-5s!our <b><u><b><u>fire</u></b>arms</u></b> laws need overhaul from stem to stern starting w/<b><u><b><u>fire</u></b>arms</u></b>  <b><u>safety education</u></b> being mandatory in schools!. ahhh , so if i’m shot and notice no <b><u>bayonet lug</u></b> i can relax knowing how much worse my bleeding would be if it was an assault rifle. pointing this out may just lead to canada style <b><u>ban</u></b>s. it's frustrating.. seems a <b><u><b><u>fire</u></b>arms</u></b> class would really help lawmakers. showing ballistics of <b><u>rounds</u></b>, <b><u>teaching capabilities</u></b>, range <b><u>time</u></b> with shotguns (auto, snub, over under, standard), subs, <b><u>rifles</u></b>, long guns, rim<b><u>fire</u></b>/center <b><u>fire</u></b>/wheel <b><u>pistol</u></b>s, and then show them jerry m…see more. i can't tell if this is satire. all of the essential things that make an assault rifle are maintained. i'm not saying i disagree with the premise but you can't tell me there is a fundemental <b><u>difference</u></b> between an <b><u>m16</u></b> and an ar15. now we are getting somewhere.. while we are literally filling concentration camps seems an incredibly odd <b><u>time</u></b> to pass any sort of gun control legislation.. what’s the functionality <b><u>difference</u></b> between a threaded and non threaded <b><u>barrel</u></b>?. ain’t it grand how current talk is <b><u>focus</u></b>ed on armalite and kalashnikov, but no mention of the other major companies that produce far better job security for the undertaker.take barrett arms. even though it’s a 50 cal, anti-material rifle producer, just about all of their <b><u>weapon</u></b>s would not be classified as “<b><u>assault <b><u>weapon</u></b>s</u></b>” under the terms above.. amen. as long as it <b><u>fire</u></b>s <b><u>rounds</u></b> at indecent rate, it's a good deterrent for would-be attackers.and hey, if you <b><u>guys</u></b> are after some lighthearted good fun, maaaaybe come like this <b><u>page</u></b>. its run by some lefties and it's 100% worker friendly ;)…see more. this is why i favor applying the <b><u>machine gun</u></b> act approach to everything that can hold more than 6 <b><u>rounds</u></b>. the ma has been around for many decades, and collectors/reenactors  can still get a bar or something if they want, but nobody's been getting killed with them.. dont <b><u>ban</u></b> the gun then, <b><u>ban</u></b> the <b><u>ammunition</u></b>. make it so you can only buy <b><u>ammunition</u></b> at licensed target ranges, and you're not allowed to take the <b><u>ammunition</u></b> home.. any <b><u>weapon</u></b> not capable of selective <b><u>fire</u></b> is ipso facto not an assault rifle lacking one of the defining features of the cat<b><u>ego</u></b>ry.. don't forget the <b><u>pistol</u></b> grip makes it a <b><u>lot</u></b> more <b><u>deadly</u></b>, if you live in ny.. bayonets are pretty cool though. i like <b><u>spears</u></b>. <b><u>spears</u></b> are good.. i did not know this before i saw this.thanks for the education. naw, i don’t agree with this. <b><u>large</u></b> capacity <b><u>magazine</u></b> <b><u>ban</u></b>s definitely save lives.. expect <b><u>awb</u></b> 2.0 to just <b><u>ban</u></b> semi-automatic <b><u>rifles</u></b>.and expect the next evolution of the <b><u>ar pattern</u></b> to allow you to cock it with your thumb or something like that.... this is what a legal ar-15 looks like with an “<b><u>assault <b><u>weapon</u></b>s</u></b>” <b><u>ban</u></b>.  still shoots the same, just less comfortable to hold.. no such thing, <b><u>full</u></b> auto, semi-auto or single <b><u>fire</u></b>. the suppressor <b><u>ban</u></b> has somehow kept mass shooters loud though.. here you go kevin gilbert, these are the <b><u>type</u></b>s i associate with. you forget the 3 round burst to <b><u>full</u></b>y auto. they wanna <b><u>ban</u></b> both. and confiscate all that are already out there.. eric knabe. austin rose. i'll take my 12ga with a 3.5\" in buck over these toys any day. this all assumes they'd call an assault rifle the same thing as the old <b><u>ban</u></b>.that said. i really don't see any particular <b><u>weapon</u></b> <b><u>ban</u></b> working when almost any other kind of <b><u>fire</u></b>arm would be just as effective.…see more. that’s not true you can limit it to just single action <b><u>rifles</u></b> and not 30 round clips. combat <b><u>rifles</u></b> like ars aren’t the same as simple <b><u>hunting</u></b> <b><u>rifles</u></b>.. roberto acquafredda.. also, pick up your shit while you still can.  extended mag <b><u>ban</u></b>s almost always come first. when did all these gun grabbers start following this <b><u>page</u></b>? if it's such an issue to you then move to freaking canada... where owning a <b><u>fire</u></b>arm is not a constitutional right.don't try to abolish that right here just because you think it's acceptable fo…see more. fixed this for you.. so my rifle will be worth more money?  thanks dumbocrats!. the majority of the population supports <b><u>ban</u></b>ning them.  left slanted polling shows about 75%, the recent polling from fox <b><u>new</u></b>s, obviously right slanted, shows 66% in favor of a <b><u>new</u></b>, permanent <b><u>awb</u></b>.. i sort of assume but does anyone know if the 3% who own half of all guns (8 or more each person) are mostly or all white supremacists?. forgets selective <b><u>fire</u></b> is the main definition of an assault rifle. 2019 <b><u>assault <b><u>weapon</u></b>s</u></b> <b><u>ban</u></b> bill.https:// chris brian swientek confirm?. it's an assault <b><u>weapon</u></b>,  built for 1 thing only. kill <b><u>lot</u></b>s of <b><u>people</u></b> very quickly. the only <b><u>difference</u></b> between the civilian and military <b><u>m16</u></b> is the switch to <b><u>full</u></b> automatic.  it's like letting anyone drive a semi truck or passenger bus without training.. dead schoolchildren the price we pay so some <b><u>small</u></b>dicked boy can prance around playing scary army man enlist u pussy oh yea that shoot back pussys. the <b><u>awb</u></b> did little but drive innovation in the <b><u><b><u>fire</u></b>arms</u></b> market.  here's an example: the olympic oa96https:// so just out of curiosity, what exactly does a threaded <b><u>barrel</u></b> do? <b><u>new</u></b> to this <b><u>page</u></b>, and am genuinely curious.. ben<b><u>machine gun</u></b> assault rifle <b><u>weapon</u></b>s: liberalised. false story."
      ],
      "text/plain": [
       "<IPython.core.display.HTML object>"
      ]
     },
     "metadata": {},
     "output_type": "display_data"
    },
    {
     "name": "stdout",
     "output_type": "stream",
     "text": [
      "\n",
      "\n",
      "---------------Entry: -----------------\n"
     ]
    },
    {
     "data": {
      "text/html": [
       "<b><u>reetesh</u></b> what’s with that mischievous smile uh huh!. i’m about 100% sure i’m smirking at you ma’am. <b><u>reetesh</u></b> ada paavi fb liye wa!"
      ],
      "text/plain": [
       "<IPython.core.display.HTML object>"
      ]
     },
     "metadata": {},
     "output_type": "display_data"
    },
    {
     "name": "stdout",
     "output_type": "stream",
     "text": [
      "\n",
      "\n",
      "---------------Entry: -----------------\n"
     ]
    },
    {
     "data": {
      "text/html": [
       "yeah taco taco enchilada narcotráfico. lmmfao yeah. he sounds like...all rich white dudes in politics.. insulting to <b><u>actual banditos</u></b> tbh. <b><u>curtis</u></b>. <b><u>vomits</u></b> in <b><u>mouth</u></b>. <b><u>cheeto</u></b> resigned!. lady groping is probably the most egregious phrase in this. >attempted murder of democracyyou forgot fascism.. fucking epic. surely this will stop donald trump!. barf. the #resistance’s propaganda sure mongers sheer terror into the reader’s heart . *sigh* there actually was a dorito bandito..... who is this drumpfter guy any ways"
      ],
      "text/plain": [
       "<IPython.core.display.HTML object>"
      ]
     },
     "metadata": {},
     "output_type": "display_data"
    },
    {
     "name": "stdout",
     "output_type": "stream",
     "text": [
      "\n",
      "\n",
      "---------------Entry: -----------------\n"
     ]
    },
    {
     "data": {
      "text/html": [
       "such waivers should only be legally valid if off-campus telecommute remains available.a contract you are forced to sign should have no value.. :3. my <b><u>wife</u></b> is back working at <b><u>university</u></b>. in a few weeks, <b><u>students</u></b> from all over the world will be crowded together, but hey she got a huge raise  10$ an hour now. who wouldn't risk <b><u>covid19</u></b> for the big bucks."
      ],
      "text/plain": [
       "<IPython.core.display.HTML object>"
      ]
     },
     "metadata": {},
     "output_type": "display_data"
    },
    {
     "name": "stdout",
     "output_type": "stream",
     "text": [
      "\n",
      "\n",
      "---------------Entry: -----------------\n"
     ]
    },
    {
     "data": {
      "text/html": [
       "i remember my <b><u>first <b><u>student</u></b> evaluations</u></b>: 1) more <b><u>short skirts</u></b> 2) your <b><u>hair</u></b> looks so <b><u>much</u></b> <b><u>better</u></b> down 3) the <b><u>psych building</u></b> is too far a<b><u>way</u></b> from my <b><u>dorm room</u></b>. i decided at this <b><u>point</u></b> that <b><u>student</u></b> evaluations are not the <b><u>definitive critique</u></b> of my <b><u>teaching</u></b>. …see more. kristy m keefe my first semester <b><u>teaching</u></b> i got two <b><u>comments</u></b> saying to “wear <b><u>less c<b><u>lot</u></b>hes</u></b>”  as a <b><u>new instructor</u></b> this was not what i was expecting and not helpful in how i could improve as an <b><u>educator</u></b>. sadly, this may have been the first <b><u>time</u></b> i received <b><u>comments</u></b> about my <b><u>appearance</u></b> but it was not the last.. ugh! that's <b><u>sexual harassment</u></b>. i got <b><u>one</u></b> saying some<b><u>one</u></b> should make a <b><u>calendar</u></b> with <b><u>pictures</u></b> of my sexy butt, literally. kristy m keefe i had the <b><u>opposite</u></b> for the <b><u>hair</u></b>. my <b><u>hair</u></b> is <b><u>long</u></b> and i al<b><u>way</u></b>s wear it down. <b><u>student</u></b> said that i either needed to cut my <b><u>hair</u></b> or wear it in a bun be<b><u>cause</u></b> <b><u>long</u></b> <b><u>hair</u></b> is <b><u>unprofessional</u></b>.. <b><u>student</u></b>s will reach for anything when they want to be <b><u>negative</u></b>. <b><u>one</u></b> <b><u>time</u></b> a <b><u>student</u></b> asked me a <b><u>question</u></b> about the midterm, and i said i hadn't finished it yet. they menti<b><u>one</u></b>d that in my <b><u><b><u>rmp</u></b> rating</u></b>, lol. like they never procrastinate?. <b><u>amanda carroll</u></b> were you tempted to clap back with ‘do you mean fewer?’ these <b><u>sites</u></b> are just <b><u>nonsense</u></b>.  <b><u>appalling levels</u></b> of <b><u>sexual harassment</u></b>, and not just against <b><u>women</u></b>; i’ve known <b><u><b><u>male</u></b> <b><u>teachers</u></b></u></b> have similarly inappropriate <b><u>comments</u></b> posted.. kristy m keefe for <b><u>sure</u></b>! . amanda greubel nope. i have also had some wonderfully thoughtful <b><u>comments</u></b> about my <b><u>courses</u></b>. i’ll take the <b><u>bad</u></b> with the <b><u>good</u></b>.. angry <b><u>people</u></b> en <b><u>route</u></b>.... <b><u>joshua shinn</u></b> how dare you!i'm not angry, i just hate to disap<b><u>point</u></b> any<b><u>one</u></b>.. being a <b><u>good</u></b> prof doesn't hurt either. michael w. hitch i had this <b><u>one</u></b> <b><u>professor</u></b> back in my <b><u>college days</u></b> that was, without a doubt, the <b><u>best</u></b> <b><u>professor</u></b> i ever had. his <b><u><b><u>rmp</u></b> rating</u></b>s were trashed be<b><u>cause</u></b> he wasn't an easy a. a <b><u>lot</u></b> of us couldn't believe it be<b><u>cause</u></b> we loved him and he asked if w…see more. michael w. hitch dude, it doesn’t matter for some of us. christ.. being a <b><u>good</u></b> <b><u>professor</u></b> has nothing to do with <b><u>good</u></b> evaluations, and i would go so far to say that the effective <b><u>professor</u></b> does not get <b><u>good</u></b> reviews. do be glib though.. . woosh. my <b><u>teaching</u></b> reviews, like my <b><u>article reviews</u></b>, fell neatly into <b><u>thirds</u></b>: <b><u>one</u></b> third - <b><u>fantastic</u></b>, no improvement needed; <b><u>one</u></b> third - ok but...; <b><u>one</u></b> third - who let this idiot leave his village? i suffered a <b><u>bit</u></b> be<b><u>cause</u></b> my <b><u>undergrad <b><u>subject</u></b></u></b> was a <b><u>demanding</u></b> …see more. the person paying for the <b><u>service</u></b> should be the <b><u>one</u></b> to decide how that <b><u>service</u></b> should be evaluated.if they want to judge it on <b><u>financial merit</u></b> or <b><u>educational merit</u></b> or social merit it’s up to them. …see more. stephen cooper setting aside the <b><u>sneer</u></b> in your comment, my <b><u>point</u></b> was of course that the <b><u>principle</u></b> of having <b><u>one</u></b>’s <b><u>teaching</u></b> evaluated is <b><u>fine</u></b>, but the execution ends up failing it’s purpose. i doubt that such evaluations are even a <b><u>good</u></b> test of the stud…see more. my <b><u>favorite criticism</u></b> from a <b><u>student</u></b> on <b><u>rmp</u></b>: “every other <b><u>professor</u></b> wants you to succeed. she only cares about how <b><u>much</u></b> you learn.” the rest of the review made clear that “success” was just about a specific letter grade.<b><u>student</u></b> evals usually tell us more about <b><u>student</u></b>s than about <b><u>teachers</u></b>.. my <b><u>favorite criticism</u></b> on a <b><u>student</u></b> eval: “she doesn’t teach us the content, she expects us to learn it ourselves.” apparently the <b><u>fact</u></b> that i don’t lecture from the text and expect them to come to <b><u>class</u></b> having d<b><u>one</u></b> the reading and prepared to engage in discussion and activities isn’t “<b><u>good</u></b> <b><u>teaching</u></b>.” _. no kiddin'?you mean a <b><u>popularity contest</u></b> turns out to be like a <b><u>popularity contest</u></b>.  i'll be damned.. you're not <b><u>wrong</u></b>.. <b><u>tenure</u></b> > <b><u>attractive</u></b>, any day. promote these large nostrils and heavy baggaged eyes please.. i won’t lie— the chili peppers are from my nephews. should i remind that <b><u>correlation</u></b> does not mean causation?. <b><u>innokenty kantor</u></b> you seem to assume that <b><u>universities</u></b> hire more poorly qualified non-<b><u>white</u></b> non-<b><u>male</u></b>s over <b><u>better</u></b> qualified <b><u>white</u></b> <b><u>male</u></b>s, whereas in reality, the whole <b><u>point</u></b> of diversity practices in <b><u>hiring</u></b> is to mitigate <b><u>bias</u></b> against <b><u>people</u></b> who are more…see more. <b><u>innokenty kantor</u></b> <b><u>thanks</u></b> for explaining my comment for me. yes be<b><u>cause</u></b> being <b><u>male</u></b> or <b><u>white</u></b> has never been shown to be the <b><u>direct <b><u>cause</u></b></u></b> of very tangible privileges. the <b><u>way</u></b> some of you do mental gimnastics to avoid having to face <b><u>bias</u></b>.. jacq j<b><u>one</u></b>s not at all. i think it is the <b><u>opposite</u></b>: those who think that any disproportion is a result of <b><u>bias</u></b> or discrimination, are just burying their heads in sand. be<b><u>cause</u></b> they don't like the implications.. ransell d'souza he was trying to write 'of course' in his comment over and over again but it kept coming out as 'of <b><u>cause</u></b>.' notice he also replaced the <b><u>word</u></b> hire with 'high.' it's probably a combination of using autocorrect and a <b><u>complete lack</u></b> of <b><u>proof</u></b>. <b><u>innokenty kantor</u></b> unless you are already <b><u>hiring</u></b> <b><u>inferior candidates</u></b> who happen to fit your <b><u>bias</u></b> - eg <b><u>white</u></b> men. in which <b><u>case</u></b> expanded the range of <b><u>people</u></b> you consider will enhance the quality of your hires.. what's of <b><u>cause</u></b>?. <b><u>innokenty kantor</u></b> yes, it’s nice (apologies for not getting reference). i’d love to see this extended to include racial <b><u>bias</u></b> be<b><u>cause</u></b>, sadly, i think this would be even more pronounced. and the weighting often put on these for <b><u>tenure</u></b> is <b><u>problematic</u></b> at <b><u>best</u></b>.. <b><u>innokenty kantor</u></b> there seems to be a strong <b><u>correlation</u></b> that <b><u>white</u></b> men don’t believe academia is <b><u>sexist</u></b> and <b><u>racist</u></b> (backed up by <b><u>several studies</u></b>). seems to <b><u>point</u></b> to a causality of their fear of losing status in a field <b><u>bias</u></b>ed towards them,. the most laughable part is the assumption that <b><u>universities</u></b> hire the <b><u>best</u></b> candidate rather than the <b><u>one</u></b> that most closely matches their 'existing culture' (which is really just code for <b><u>bias</u></b>es towards wht they think ideal candidates are like, and the d…see more. issues with the methodology but not news.. i don’t even look anymore. you must not be an adjunct. i don’t want to look but have to submit them for the ten jobs i apply to every <b><u>year</u></b>. well, i get three out of four.. that’s how i do it. . wait there are adults who actually care about what's written on <b><u>rate</u></b>my<b><u>professor</u></b>?. no of you should ever, under any circumstances, read <b><u>rate</u></b> my <b><u>professor</u></b>. no <b><u>good</u></b> comes of it.  and i firmly believe there should be a “<b><u>rate</u></b> my <b><u>student</u></b>” site. . mirrors typical life. i don't bother with the actual university evaluations let al<b><u>one</u></b> this garbage.. ditto. especially after reading a rape fantasy.. i hope you reported that.. <b><u>bob borrelli</u></b> why? so they can all laugh about it? pick up lines, graphic sexual fantasies, sexual assault and notes like “pretty <b><u>sure</u></b> i found your house” were totally ignored.. ta-shana this kind of stuff al<b><u>way</u></b>s makes me think of you.. you brought it to our attention <b><u>year</u></b>s ago. <b><u>white</u></b>? yes. <b><u>male</u></b>? no. <b><u>tenure</u></b>d? hahaha. <b><u>attractive</u></b>? um.... brenna e. culbert. my favorite comment on <b><u>rmp</u></b> was “she has a <b><u>lot</u></b> of patience, even with the stupid <b><u>question</u></b> <b><u>people</u></b>.”. amanda evert they repeated your <b><u>study</u></b>.. sarina kilham. <b><u>thanks</u></b>. adding it to my stockpile of evidence.. hadil gh<b><u>one</u></b>im here you go.. i'm <b><u>attractive</u></b> though . <b><u>white</u></b>? yes. <b><u>male</u></b>? yes? <b><u>tenure</u></b>d? no. <b><u>attractive</u></b>? not really. my <b><u><b><u>rmp</u></b> rating</u></b>s still suck, although i have a few <b><u>good</u></b> <b><u>one</u></b>s.. jess moore, the most frequent descriptor <b><u>people</u></b> use for me is 'boring'. that <b><u>one</u></b> cuts me to my soul. i'm fun!. <b><u>brian paul</u></b> i agree and my ratings are largely <b><u>good</u></b>, and even the '<b><u>negative</u></b> <b><u>one</u></b>s' are worthwhile . <b><u>brian paul</u></b> i just got a <b><u>bad</u></b> review for giving too <b><u>much</u></b> work for a minimester <b><u>class</u></b>. i'm not even <b><u>sure</u></b> how to take that. am i supposed to assign less work during a minimester? i was told you're supposed to offer the same amount as a regular semester but now i wonder about that.. aurora le well shit. ami sedani new <b><u>study</u></b>! more like duh lol.  lisa parker lebovitz. daniel malcom <b><u>thanks</u></b>! i’ve got to get back to the data, i think we can refute this. maybe the young <b><u>white</u></b> <b><u>male</u></b> faculty aren’t as <b><u>attractive</u></b> to <b><u>student</u></b>s in pharmacy as in humanities.... francesca bosisio!!!. my favourite <b><u>bit</u></b> of feedback received from a <b><u>student</u></b>, who scored my course a 0:'please can there be <b><u>better</u></b> references, not of those written ages ago when they used sophisticated <b><u>word</u></b>s'<b><u>cause</u></b> who comes to university to learn sophisticated <b><u>word</u></b>s? lets u…see more. harry green brilliant!. <b><u>bob borrelli</u></b> yeah fuck that guy and his sophisticated <b><u>word</u></b>s :d. who literally invented meteorology.. hey can you link the math paper using <b><u>emoji</u></b>? that would be awesome and i'd like to read it.this is a <b><u>good</u></b> <b><u>one</u></b> about <b><u>emoji</u></b>, but it's not written in it, though it has some examples of retelling. https:// well i am an un<b><u>attractive</u></b>, <b><u>white</u></b> fe<b><u>male</u></b> and get great reviews and teach  a  <b><u>subject</u></b>  that  is considered hard.. perhaps it would be profitable to spend some <b><u>time</u></b> <b><u>study</u></b>ing statistics.. you fulfill <b><u>one</u></b> of the categories, then.. <b><u>good</u></b>foryou. i see you don't understand how studies work. a <b><u>study</u></b> never reports that in 100% of <b><u>case</u></b>s this happens, and in 0% of <b><u>case</u></b>s, this happened. if that were true, providing <b><u>one</u></b> contrary story would be enough to destroy the findings of the <b><u>study</u></b>.studies look at the <b><u>way</u></b> things tend to be. maybe <b><u>people</u></b> who fulfill certain criteria are more likely to get positive reviews but it's not a guarantee <b><u>one</u></b> <b><u>way</u></b> or the other still.. funny: race and <b><u>gender</u></b> are  less important than <b><u>attractive</u></b>ness, <b><u>student</u></b> interest and discipline, but the first two features in the headline is “<b><u>white</u></b>” and “<b><u>male</u></b>”. stop contradicting the <b><u>fact</u></b>s with your divisive ideology!!!!!!!!!!!!!!. <b><u><b><u>juan trucupey</u></b> cool story bro</u></b>. catherine glass it’s easy to laugh when you’re the beneficiary. <b><u>juan trucupey</u></b> that’s not contradicting <b><u>fact</u></b>s. it’s emphasising some things that the <b><u>study</u></b> found more than others. but i bet the standard of <b><u>attractive</u></b>ness and <b><u>gender</u></b> interact as well. juan yes it's all propaganda; it's not like they're just <b><u>point</u></b>ing out the most interesting conclusions of the <b><u>study</u></b> rather than the obvious <b><u>one</u></b>s. <b><u>student</u></b> interest in the <b><u>subject</u></b> influences <b><u>professor</u></b> ratings? really? . <b><u>juan trucupey</u></b> you're the <b><u>one</u></b> who is claiming that it is <b><u>sexist</u></b> against <b><u>male</u></b>s to imply that <b><u>gender</u></b> affects ratings before listing a <b><u>student</u></b>'s interest in the <b><u>subject</u></b> matter. i never said that. so your complaint that i'm contradicting myself is <b><u>wrong</u></b> - i…see more. propaganda, lol.. i literally have had fe<b><u>male</u></b> <b><u>student</u></b>s look for profs who are called a <b><u>bit</u></b>ch. it apparently means something different to <b><u>people</u></b>. <b><u>good</u></b> to know. those <b><u>student</u></b>s just graduating with phds now, <b><u>one</u></b> went to georgetown, another is a teacher.. matthew lucky 3/4 ain't <b><u>bad</u></b> "
      ],
      "text/plain": [
       "<IPython.core.display.HTML object>"
      ]
     },
     "metadata": {},
     "output_type": "display_data"
    },
    {
     "name": "stdout",
     "output_type": "stream",
     "text": [
      "\n",
      "\n"
     ]
    }
   ],
   "source": [
    "#MultipartiteRank\n",
    "generate_all_outputs_mr(text_df, random_indexes)"
   ]
  },
  {
   "cell_type": "code",
   "execution_count": null,
   "metadata": {},
   "outputs": [],
   "source": []
  }
 ],
 "metadata": {
  "kernelspec": {
   "display_name": "Python 3",
   "language": "python",
   "name": "python3"
  },
  "language_info": {
   "codemirror_mode": {
    "name": "ipython",
    "version": 3
   },
   "file_extension": ".py",
   "mimetype": "text/x-python",
   "name": "python",
   "nbconvert_exporter": "python",
   "pygments_lexer": "ipython3",
   "version": "3.7.6"
  }
 },
 "nbformat": 4,
 "nbformat_minor": 4
}
